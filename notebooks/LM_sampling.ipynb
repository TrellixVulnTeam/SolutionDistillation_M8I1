{
 "cells": [
  {
   "cell_type": "code",
   "execution_count": 1,
   "metadata": {},
   "outputs": [
    {
     "name": "stdout",
     "output_type": "stream",
     "text": [
      "\n",
      "WARNING: The TensorFlow contrib module will not be included in TensorFlow 2.0.\n",
      "For more information, please see:\n",
      "  * https://github.com/tensorflow/community/blob/master/rfcs/20180907-contrib-sunset.md\n",
      "  * https://github.com/tensorflow/addons\n",
      "If you depend on functionality not listed there, please file an issue.\n",
      "\n"
     ]
    }
   ],
   "source": [
    "import sys,os,os.path\n",
    "sys.path.append(os.path.expanduser('~/Codes/SolutionDistillation'))\n",
    "import numpy as np\n",
    "import tensorflow as tf\n",
    "import os\n",
    "from distill.common.hparams import TransformerHparam, LSTMHparam\n",
    "from distill.data_util.prep_ptb import PTB\n",
    "\n",
    "import tensorflow as tf\n",
    "import numpy as np\n",
    "\n",
    "from distill.common.hparams import TransformerHparam, LSTMHparam\n",
    "from distill.data_util.prep_ptb import PTB\n",
    "from distill.data_util.prep_sentwiki import SentWiki\n",
    "from distill.models.lm_lstm import LmLSTM\n",
    "import os\n",
    "from distill.pipelines.lm import LMTrainer\n",
    "\n",
    "# Enable TF Eager execution\n",
    "tfe = tf.contrib.eager\n",
    "tfe.enable_eager_execution()\n",
    "\n",
    "# Other setup\n",
    "Modes = tf.estimator.ModeKeys"
   ]
  },
  {
   "cell_type": "code",
   "execution_count": 2,
   "metadata": {},
   "outputs": [],
   "source": [
    "tf.app.flags.DEFINE_string(\"exp_name\", \"trial\", \"\")\n",
    "tf.app.flags.DEFINE_string(\"task_name\", \"sent_wiki\", \"ptb_lm\")\n",
    "tf.app.flags.DEFINE_string(\"log_dir\", \"logs\", \"\")\n",
    "tf.app.flags.DEFINE_string(\"save_dir\", None, \"\")\n",
    "\n",
    "tf.app.flags.DEFINE_string(\"model\", \"lm_lstm\", \"\")\n",
    "tf.app.flags.DEFINE_string(\"encoder_attention_dir\", \"top_down\", \"top_down | bottom_up\")\n",
    "tf.app.flags.DEFINE_integer(\"hidden_dim\", 728, \"\")\n",
    "tf.app.flags.DEFINE_integer(\"embedding_dim\",728, \"embeddings dim\")\n",
    "tf.app.flags.DEFINE_integer(\"output_dim\", 8000, \"\")\n",
    "tf.app.flags.DEFINE_integer(\"input_dim\", 8000, \"\")\n",
    "tf.app.flags.DEFINE_integer(\"number_of_heads\", 4, \"\")\n",
    "tf.app.flags.DEFINE_integer(\"ff_filter_size\", 512, \"\")\n",
    "tf.app.flags.DEFINE_float(\"initializer_gain\", 1.0, \"\")\n",
    "tf.app.flags.DEFINE_float(\"label_smoothing\", 0.1, \"\")\n",
    "tf.app.flags.DEFINE_boolean('train_embeddings', True, \" False | True\")\n",
    "tf.app.flags.DEFINE_string('sent_rep_mode', \"final\", \"none | final | all\")\n",
    "tf.app.flags.DEFINE_string('attention_mechanism',None, 'attention_mechanism')\n",
    "tf.app.flags.DEFINE_integer(\"depth\", 3, \"\")\n",
    "\n",
    "\n",
    "tf.app.flags.DEFINE_float(\"input_dropout_keep_prob\", 0.75, \"\")\n",
    "tf.app.flags.DEFINE_float(\"hidden_dropout_keep_prob\", 0.5, \"\")\n",
    "\n",
    "tf.app.flags.DEFINE_float(\"learning_rate\", 0.0001, \"\")\n",
    "tf.app.flags.DEFINE_boolean(\"decay_learning_rate\", True, \"True | False\")\n",
    "tf.app.flags.DEFINE_float(\"l2_rate\", 0.0001, \"\")\n",
    "\n",
    "tf.app.flags.DEFINE_integer(\"batch_size\", 64, \"\")\n",
    "tf.app.flags.DEFINE_integer(\"training_iterations\", 300000, \"\")\n",
    "\n",
    "tf.app.flags.DEFINE_integer(\"vocab_size\", 8000, \"\")\n",
    "tf.app.flags.DEFINE_boolean(\"bidirectional\", False, \"If the LSTM layer is bidirectional\")\n",
    "\n",
    "\n",
    "tf.app.flags.DEFINE_string(\"pretrained_embedding_path\", \"data/sst/filtered_glove.txt\", \"pretrained embedding path\")\n",
    "tf.app.flags.DEFINE_string(\"data_path\", \"./data\", \"data path\")\n",
    "\n",
    "tf.app.flags.DEFINE_string(\"f\",\"\",\"kernel\")\n",
    "hparams = tf.app.flags.FLAGS"
   ]
  },
  {
   "cell_type": "code",
   "execution_count": 3,
   "metadata": {},
   "outputs": [],
   "source": [
    "Models = {\"lm_lstm\": LmLSTM}\n",
    "tasks = {'ptb_lm': PTB('../data/ptb'),\n",
    "       'sent_wiki': SentWiki('../data/sent_wiki')}"
   ]
  },
  {
   "cell_type": "code",
   "execution_count": 4,
   "metadata": {},
   "outputs": [],
   "source": [
    "\n",
    "task = tasks[hparams.task_name]\n",
    "hparams.vocab_size = tasks[hparams.task_name].vocab_length\n",
    "hparams.output_dim = len(tasks[hparams.task_name].target_vocab)\n",
    "lstm_params = LSTMHparam(input_dim=hparams.input_dim,\n",
    "                         hidden_dim=hparams.hidden_dim,\n",
    "                         output_dim=hparams.output_dim,\n",
    "                         encoder_depth=hparams.depth,\n",
    "                         decoder_depth=0,\n",
    "                         number_of_heads=hparams.number_of_heads,\n",
    "                         ff_filter_size=hparams.ff_filter_size,\n",
    "                       initializer_gain=hparams.initializer_gain,\n",
    "                       batch_size=hparams.batch_size,\n",
    "                       input_dropout_keep_prob=hparams.input_dropout_keep_prob,\n",
    "                       hidden_dropout_keep_prob=hparams.hidden_dropout_keep_prob,\n",
    "                       vocab_size=hparams.vocab_size,\n",
    "                       label_smoothing=hparams.label_smoothing,\n",
    "                       attention_mechanism=None,\n",
    "                       sent_rep_mode=hparams.sent_rep_mode,\n",
    "                       embedding_dim=hparams.embedding_dim,\n",
    "                       train_embeddings = hparams.train_embeddings,\n",
    "                       learning_rate=hparams.learning_rate)\n",
    "\n",
    "model_params = {\"lm_lstm\": lstm_params}\n",
    "model = Models[hparams.model](model_params[hparams.model],\n",
    "                                  task=tasks[hparams.task_name],\n",
    "                                  scope=hparams.model)"
   ]
  },
  {
   "cell_type": "code",
   "execution_count": 19,
   "metadata": {},
   "outputs": [
    {
     "name": "stdout",
     "output_type": "stream",
     "text": [
      "../logs/sent_wiki/lm_lstm_depth3_hidden_dim728_batch_size32_d8-8_trial_15_ntied/model.ckpt-300000\n"
     ]
    }
   ],
   "source": [
    "save_dir = '../logs/sent_wiki/'+ \\\n",
    "'lm_lstm_depth3_hidden_dim728_batch_size32_d8-8_trial_15_ntied'\n",
    "checkpoint = tf.train.latest_checkpoint(save_dir)\n",
    "print(checkpoint)"
   ]
  },
  {
   "cell_type": "code",
   "execution_count": 20,
   "metadata": {},
   "outputs": [
    {
     "name": "stdout",
     "output_type": "stream",
     "text": [
      "WARNING:tensorflow:<tensorflow.python.ops.rnn_cell_impl.LSTMCell object at 0x7fea8bef2c18>: Note that this cell is not optimized for performance. Please use tf.contrib.cudnn_rnn.CudnnLSTM for better performance on GPU.\n",
      "WARNING:tensorflow:<tensorflow.python.ops.rnn_cell_impl.LSTMCell object at 0x7feaa88546d8>: Note that this cell is not optimized for performance. Please use tf.contrib.cudnn_rnn.CudnnLSTM for better performance on GPU.\n"
     ]
    }
   ],
   "source": [
    "with tfe.restore_variables_on_create(checkpoint):\n",
    "    model.create_vars(reuse=False)"
   ]
  },
  {
   "cell_type": "code",
   "execution_count": 21,
   "metadata": {},
   "outputs": [
    {
     "name": "stdout",
     "output_type": "stream",
     "text": [
      "('beta1_power', [])\n",
      "('beta2_power', [])\n",
      "('global_step', [])\n",
      "('lm_lstm/InputEmbed/embedding_and_softmax/weights', [9920, 728])\n",
      "('lm_lstm/InputEmbed/embedding_and_softmax/weights/Adam', [9920, 728])\n",
      "('lm_lstm/InputEmbed/embedding_and_softmax/weights/Adam_1', [9920, 728])\n",
      "('lm_lstm/InputEmbed/embedding_and_softmax/weights/ExponentialMovingAverage', [9920, 728])\n",
      "('lm_lstm/OutputEmbed/embedding_and_softmax/weights', [9920, 728])\n",
      "('lm_lstm/OutputEmbed/embedding_and_softmax/weights/Adam', [9920, 728])\n",
      "('lm_lstm/OutputEmbed/embedding_and_softmax/weights/Adam_1', [9920, 728])\n",
      "('lm_lstm/OutputEmbed/embedding_and_softmax/weights/ExponentialMovingAverage', [9920, 728])\n",
      "('lm_lstm/lm_lstm/LSTM_Cells/rnn/multi_rnn_cell/cell_0/L0/bias', [2912])\n",
      "('lm_lstm/lm_lstm/LSTM_Cells/rnn/multi_rnn_cell/cell_0/L0/bias/Adam', [2912])\n",
      "('lm_lstm/lm_lstm/LSTM_Cells/rnn/multi_rnn_cell/cell_0/L0/bias/Adam_1', [2912])\n",
      "('lm_lstm/lm_lstm/LSTM_Cells/rnn/multi_rnn_cell/cell_0/L0/bias/ExponentialMovingAverage', [2912])\n",
      "('lm_lstm/lm_lstm/LSTM_Cells/rnn/multi_rnn_cell/cell_0/L0/kernel', [1456, 2912])\n",
      "('lm_lstm/lm_lstm/LSTM_Cells/rnn/multi_rnn_cell/cell_0/L0/kernel/Adam', [1456, 2912])\n",
      "('lm_lstm/lm_lstm/LSTM_Cells/rnn/multi_rnn_cell/cell_0/L0/kernel/Adam_1', [1456, 2912])\n",
      "('lm_lstm/lm_lstm/LSTM_Cells/rnn/multi_rnn_cell/cell_0/L0/kernel/ExponentialMovingAverage', [1456, 2912])\n",
      "('lm_lstm/lm_lstm/LSTM_Cells/rnn/multi_rnn_cell/cell_1/L1/bias', [2912])\n",
      "('lm_lstm/lm_lstm/LSTM_Cells/rnn/multi_rnn_cell/cell_1/L1/bias/Adam', [2912])\n",
      "('lm_lstm/lm_lstm/LSTM_Cells/rnn/multi_rnn_cell/cell_1/L1/bias/Adam_1', [2912])\n",
      "('lm_lstm/lm_lstm/LSTM_Cells/rnn/multi_rnn_cell/cell_1/L1/bias/ExponentialMovingAverage', [2912])\n",
      "('lm_lstm/lm_lstm/LSTM_Cells/rnn/multi_rnn_cell/cell_1/L1/kernel', [1456, 2912])\n",
      "('lm_lstm/lm_lstm/LSTM_Cells/rnn/multi_rnn_cell/cell_1/L1/kernel/Adam', [1456, 2912])\n",
      "('lm_lstm/lm_lstm/LSTM_Cells/rnn/multi_rnn_cell/cell_1/L1/kernel/Adam_1', [1456, 2912])\n",
      "('lm_lstm/lm_lstm/LSTM_Cells/rnn/multi_rnn_cell/cell_1/L1/kernel/ExponentialMovingAverage', [1456, 2912])\n"
     ]
    }
   ],
   "source": [
    "from tensorflow.contrib.framework.python.framework import checkpoint_utils\n",
    "var_list = checkpoint_utils.list_variables(checkpoint)\n",
    "for v in var_list:\n",
    "    print(v)"
   ]
  },
  {
   "cell_type": "code",
   "execution_count": 22,
   "metadata": {},
   "outputs": [
    {
     "name": "stdout",
     "output_type": "stream",
     "text": [
      "9920\n",
      "(9920, 728)\n",
      "(9920, 728)\n",
      "members however distinguished drake edible clothes watson crocodiles northeastern ignored namespace millions reelected antennae everyone genera museums fatal herself fan hat people hawaii rupee digits 1854 conservatives absent foster maritime eats fourteen aborigines nashville wright noticed unrelated radical 10 party dream mount mitosis cattle caroline conquered interference 60000 nude\n"
     ]
    }
   ],
   "source": [
    "#with tfe.restore_variables_on_create(checkpoint):\n",
    "for i in np.arange(1):\n",
    "    with tfe.restore_variables_on_create(checkpoint):\n",
    "        with tf.variable_scope(model.scope, reuse=tf.AUTO_REUSE):\n",
    "            number_of_sample = 200\n",
    "            initial_constant = task.word2id['<s>']\n",
    "            \n",
    "            inputs = tf.ones((number_of_sample), dtype=tf.int32) * initial_constant\n",
    "            inputs_length = tf.map_fn(lambda  x: 1, inputs)\n",
    "            #samples = model.sample(sampling_initial_inputs, tf.map_fn(lambda  x: 1, sampling_initial_inputs))\n",
    "\n",
    "            def compute_decoding_step_input(current_input):\n",
    "                return None\n",
    "\n",
    "    lstm_decoder_output_dic = model.lstm.predict(inputs_length=inputs_length,\n",
    "                                                          target_length=50,\n",
    "                                                          compute_decoding_step_input_fn=compute_decoding_step_input,\n",
    "                                                          input_embedding_layer=model.embedding_layer,\n",
    "                                                          output_embedding_layer=model.output_embedding_layer, eos_id=model.eos_id,\n",
    "                                                          is_train=False,\n",
    "                                                          initial_inputs=inputs)\n",
    "    sentences = []\n",
    "    print(len(task.id2word))\n",
    "    print(model.embedding_layer.shared_weights.shape)\n",
    "    print(model.output_embedding_layer.shared_weights.shape)\n",
    "\n",
    "    predictions  = lstm_decoder_output_dic['samples'][:,:,0]\n",
    "    length = lstm_decoder_output_dic['outputs_lengths']\n",
    "    for l,s in zip(list(length.numpy()),list(predictions.numpy())):\n",
    "        #print(s)\n",
    "        for w in s:\n",
    "            if w not in task.id2word:\n",
    "                print(w)\n",
    "        sentences.append(' '.join(task.decode(s[1:l], task.id2word)))\n",
    "\n",
    "print(sentences[0])"
   ]
  },
  {
   "cell_type": "code",
   "execution_count": 10,
   "metadata": {},
   "outputs": [
    {
     "name": "stdout",
     "output_type": "stream",
     "text": [
      "WARNING:tensorflow:From /home/samira/anaconda3/envs/std/lib/python3.7/site-packages/tensorflow/python/ops/embedding_ops.py:132: colocate_with (from tensorflow.python.framework.ops) is deprecated and will be removed in a future version.\n",
      "Instructions for updating:\n",
      "Colocations handled automatically by placer.\n",
      "WARNING:tensorflow:From /home/samira/anaconda3/envs/std/lib/python3.7/site-packages/tensorflow/contrib/seq2seq/python/ops/beam_search_decoder.py:733: to_int64 (from tensorflow.python.ops.math_ops) is deprecated and will be removed in a future version.\n",
      "Instructions for updating:\n",
      "Use tf.cast instead.\n",
      "WARNING:tensorflow:From /home/samira/anaconda3/envs/std/lib/python3.7/site-packages/tensorflow/contrib/seq2seq/python/ops/beam_search_decoder.py:784: to_int32 (from tensorflow.python.ops.math_ops) is deprecated and will be removed in a future version.\n",
      "Instructions for updating:\n",
      "Use tf.cast instead.\n"
     ]
    }
   ],
   "source": [
    "with tfe.restore_variables_on_create(checkpoint):\n",
    "    batch_size = 10\n",
    "    beam_width = 5\n",
    "    decoder_cell = model.lstm.multi_lstm_cell#tf.nn.rnn_cell.BasicLSTMCell(num_units)\n",
    "    encoder_outputs = decoder_cell.zero_state(batch_size, dtype=tf.float32)\n",
    "    tiled_encoder_outputs = tf.contrib.seq2seq.tile_batch(encoder_outputs, multiplier=beam_width)\n",
    "\n",
    "    my_decoder = tf.contrib.seq2seq.BeamSearchDecoder(cell=decoder_cell,\n",
    "                                                      embedding=model.embedding_layer.shared_weights,\n",
    "                                                      start_tokens=tf.fill([batch_size],task.word2id['<s>']),\n",
    "                                                      end_token=task.word2id['<eos>'],\n",
    "                                                      initial_state=tiled_encoder_outputs,\n",
    "                                                      beam_width=beam_width)\n",
    "\n",
    "     # dynamic decoding\n",
    "    outputs, final_context_state, _ = tf.contrib.seq2seq.dynamic_decode(my_decoder,\n",
    "                                                                       maximum_iterations=10,\n",
    "                                                                       output_time_major=True)\n",
    "    final_predicted_ids = outputs.predicted_ids\n",
    "    scores = outputs.beam_search_decoder_output.scores.numpy().transpose()\n",
    "    predicted_ids = outputs.beam_search_decoder_output.predicted_ids\n",
    "    parent_ids = outputs.beam_search_decoder_output.parent_ids\n"
   ]
  },
  {
   "cell_type": "code",
   "execution_count": 11,
   "metadata": {},
   "outputs": [
    {
     "name": "stdout",
     "output_type": "stream",
     "text": [
      "['pasdecalais', 'pasdecalais', 'local', 'local', 'local', 'local', 'local', 'local', 'local', 'local']\n",
      "['pasdecalais', 'pasdecalais', 'local', 'local', 'local', 'local', 'local', 'local', 'local', 'local']\n",
      "['pasdecalais', 'pasdecalais', 'local', 'local', 'local', 'local', 'local', 'local', 'local', 'local']\n",
      "['pasdecalais', 'pasdecalais', 'local', 'local', 'local', 'local', 'local', 'local', 'local', 'local']\n",
      "['pasdecalais', 'pasdecalais', 'local', 'local', 'local', 'local', 'local', 'local', 'local', 'local']\n",
      "['pasdecalais', 'pasdecalais', 'local', 'local', 'local', 'local', 'local', 'local', 'local', 'local']\n",
      "['pasdecalais', 'pasdecalais', 'local', 'local', 'local', 'local', 'local', 'local', 'local', 'local']\n",
      "['pasdecalais', 'pasdecalais', 'local', 'local', 'local', 'local', 'local', 'local', 'local', 'local']\n",
      "['pasdecalais', 'pasdecalais', 'local', 'local', 'local', 'local', 'local', 'local', 'local', 'local']\n",
      "['pasdecalais', 'pasdecalais', 'local', 'local', 'local', 'local', 'local', 'local', 'local', 'local']\n"
     ]
    }
   ],
   "source": [
    "predicted_ids = outputs.beam_search_decoder_output.predicted_ids\n",
    "for s in predicted_ids.numpy().transpose()[np.argmax(np.sum(scores, axis=-1))]:\n",
    "    print(task.decode(s, task.id2word))"
   ]
  },
  {
   "cell_type": "code",
   "execution_count": null,
   "metadata": {},
   "outputs": [],
   "source": [
    "with tfe.restore_variables_on_create(checkpoint):\n",
    "    embeddings = model.embedding_layer.shared_weights"
   ]
  },
  {
   "cell_type": "code",
   "execution_count": null,
   "metadata": {},
   "outputs": [],
   "source": [
    "embeddings[0]"
   ]
  },
  {
   "cell_type": "code",
   "execution_count": null,
   "metadata": {},
   "outputs": [],
   "source": [
    "model.embedding_layer.shared_weights"
   ]
  },
  {
   "cell_type": "code",
   "execution_count": null,
   "metadata": {},
   "outputs": [],
   "source": [
    "dataset = tf.data.TFRecordDataset(task.get_tfrecord_path(mode=\"train\"))\n",
    "dataset = dataset.map(task.parse_examples)\n",
    "dataset = dataset.padded_batch(hparams.batch_size, padded_shapes=task.get_padded_shapes())\n",
    "dataset = dataset.shuffle(buffer_size=1000)\n",
    "dataset = dataset.repeat()\n",
    "train_iterator = dataset.make_one_shot_iterator()"
   ]
  },
  {
   "cell_type": "code",
   "execution_count": null,
   "metadata": {},
   "outputs": [],
   "source": [
    "examples = train_iterator.next()"
   ]
  },
  {
   "cell_type": "code",
   "execution_count": null,
   "metadata": {},
   "outputs": [],
   "source": [
    "for e in examples[0].numpy():\n",
    "    print(task.decode(e, task.id2word))"
   ]
  },
  {
   "cell_type": "code",
   "execution_count": null,
   "metadata": {},
   "outputs": [],
   "source": []
  }
 ],
 "metadata": {
  "kernelspec": {
   "display_name": "Python 3",
   "language": "python",
   "name": "python3"
  },
  "language_info": {
   "codemirror_mode": {
    "name": "ipython",
    "version": 3
   },
   "file_extension": ".py",
   "mimetype": "text/x-python",
   "name": "python",
   "nbconvert_exporter": "python",
   "pygments_lexer": "ipython3",
   "version": "3.7.3"
  }
 },
 "nbformat": 4,
 "nbformat_minor": 2
}
