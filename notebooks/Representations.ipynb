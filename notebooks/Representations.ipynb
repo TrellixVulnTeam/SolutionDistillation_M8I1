{
 "cells": [
  {
   "cell_type": "code",
   "execution_count": 1,
   "metadata": {},
   "outputs": [],
   "source": [
    "import tensorflow as tf\n",
    "\n",
    "from distill.common.hparams import TransformerHparam, LSTMHparam\n",
    "import os\n",
    "\n",
    "from distill.data_util.prep_algorithmic import AlgorithmicIdentityDecimal40, AlgorithmicIdentityBinary40, \\\n",
    "  AlgorithmicAdditionDecimal40, AlgorithmicMultiplicationDecimal40, AlgorithmicSortProblem, AlgorithmicReverseProblem\n",
    "from distill.data_util.prep_arithmatic import Arithmatic, ArithmaticSameLength, ArithmaticSimple, ArithmaticSimpleCurriculumLength,\\\n",
    "ArithmaticSimpleSameLength10, ArithmaticSimpleSameLength10Depth6, ArithmaticSimpleSameLength10Depth2, ArithmaticSimpleSameLength10Depth4\n",
    "from distill.data_util.prep_imdb import IMDB\n",
    "from distill.data_util.prep_ptb import PTB\n",
    "from distill.data_util.prep_sst import SST\n",
    "from distill.data_util.prep_trec6 import CharTrec6, Trec6\n",
    "from distill.data_util.prep_wsj_parsing import ParseWSJ\n",
    "from distill.models.lstm_seq2seq import LSTMSeq2Seq, BidiLSTMSeq2Seq\n",
    "from distill.models.transformer import Transformer, UniversalTransformer, EncodingTransformer, \\\n",
    "  EncodingUniversalTransformer\n",
    "from distill.pipelines.distill_pipelines import Seq2SeqDistiller\n",
    "from distill.pipelines.seq2seq import Seq2SeqTrainer\n",
    "from distill.common.distill_util import *\n",
    "\n",
    "from sklearn.decomposition import PCA\n",
    "import pandas as pd\n",
    "from sklearn import manifold\n",
    "import numpy as np\n",
    "\n",
    "import matplotlib.pyplot as plt\n",
    "import matplotlib.image as mpimg\n",
    "%matplotlib inline  \n",
    "\n",
    "def plot_embeddings(M_reduced, word2Ind, words):\n",
    "    \"\"\" Plot in a scatterplot the embeddings of the words specified in the list \"words\".\n",
    "        Include a label next to each point.\n",
    "    \"\"\"\n",
    "    for word in words:\n",
    "        x, y = M_reduced[word2Ind[word]]\n",
    "        plt.scatter(x, y, marker='x', color='red')\n",
    "        plt.text(x+.01, y+.01, word, fontsize=10)\n",
    "    plt.show()\n",
    "\n",
    "    \n",
    "\n",
    "# Enable TF Eager execution\n",
    "tfe = tf.contrib.eager\n",
    "tfe.enable_eager_execution()\n",
    "\n",
    "# Other setup\n",
    "Modes = tf.estimator.ModeKeys"
   ]
  },
  {
   "cell_type": "code",
   "execution_count": 2,
   "metadata": {},
   "outputs": [],
   "source": [
    "tf.app.flags.DEFINE_string(\"exp_name\", \"distill\", \"\")\n",
    "tf.app.flags.DEFINE_string(\"task_name\", \"identity_binary\", \"\")\n",
    "tf.app.flags.DEFINE_string(\"log_dir\", \"logs\", \"\")\n",
    "tf.app.flags.DEFINE_string(\"data_dir\", \"data\", \"\")\n",
    "\n",
    "tf.app.flags.DEFINE_string(\"save_dir\", None, \"\")\n",
    "\n",
    "tf.app.flags.DEFINE_string(\"model_type\", \"lstm2transformer\", \"\")\n",
    "tf.app.flags.DEFINE_string(\"teacher_model\", \"lstm\", \"\")\n",
    "tf.app.flags.DEFINE_string(\"student_model\", \"enc_utransformer\", \"\")\n",
    "\n",
    "tf.app.flags.DEFINE_boolean(\"train_teacher\", True, \"\")\n",
    "tf.app.flags.DEFINE_boolean(\"train_student\", True, \"\")\n",
    "tf.app.flags.DEFINE_boolean(\"distill_rep\", False, \"\")\n",
    "tf.app.flags.DEFINE_boolean(\"distill_logit\", True, \"\")\n",
    "\n",
    "tf.app.flags.DEFINE_boolean(\"pretrain_teacher\", True, \"\")\n",
    "tf.app.flags.DEFINE_integer(\"teacher_pretraining_iters\", 100, \"\")\n",
    "tf.app.flags.DEFINE_string(\"rep_loss_mode\", 'dot_product', \"representation loss type (squared,softmax_cross_ent,sigmoid_cross_ent\")\n",
    "\n",
    "tf.app.flags.DEFINE_string(\"model\", \"enc_utransformer\", \"transformer | utransformer | lstm | bilstm\")\n",
    "tf.app.flags.DEFINE_string(\"teacher_encoder_attention_dir\", \"top_down\", \"top_down | bottom_up\")\n",
    "tf.app.flags.DEFINE_string(\"student_encoder_attention_dir\", \"top_down\", \"top_down | bottom_up\")\n",
    "\n",
    "\n",
    "tf.app.flags.DEFINE_integer(\"teacher_hidden_dim\", 256, \"\")\n",
    "tf.app.flags.DEFINE_integer(\"teacher_encoder_depth\", 1, \"\")\n",
    "tf.app.flags.DEFINE_integer(\"teacher_decoder_depth\", 1, \"\")\n",
    "tf.app.flags.DEFINE_integer(\"student_hidden_dim\", 128, \"\")\n",
    "tf.app.flags.DEFINE_integer(\"student_encoder_depth\", 4, \"\")\n",
    "tf.app.flags.DEFINE_integer(\"student_decoder_depth\", 1, \"\")\n",
    "\n",
    "tf.app.flags.DEFINE_integer(\"input_dim\", None, \"\")\n",
    "tf.app.flags.DEFINE_integer(\"output_dim\", 1, \"\")\n",
    "tf.app.flags.DEFINE_integer(\"number_of_heads\", 4, \"\")\n",
    "tf.app.flags.DEFINE_integer(\"ff_filter_size\", 512, \"\")\n",
    "tf.app.flags.DEFINE_float(\"initializer_gain\", 1.0, \"\")\n",
    "tf.app.flags.DEFINE_float(\"teacher_label_smoothing\", 0.0001, \"\")\n",
    "tf.app.flags.DEFINE_float(\"student_label_smoothing\", 0.0001, \"\")\n",
    "\n",
    "tf.app.flags.DEFINE_boolean('teacher_train_embeddings', True, \" False | True\")\n",
    "tf.app.flags.DEFINE_boolean('student_train_embeddings', True, \" False | True\")\n",
    "\n",
    "tf.app.flags.DEFINE_string('teacher_sent_rep_mode', \"all\", \"none | final | all\")\n",
    "tf.app.flags.DEFINE_string('student_sent_rep_mode', \"all\", \"none | final | all\")\n",
    "\n",
    "tf.app.flags.DEFINE_string('teacher_attention_mechanism', None, 'attention_mechanism')\n",
    "tf.app.flags.DEFINE_string('student_attention_mechanism', None, 'attention_mechanism')\n",
    "\n",
    "\n",
    "tf.app.flags.DEFINE_float(\"teacher_input_dropout_keep_prob\", 0.8, \"\")\n",
    "tf.app.flags.DEFINE_float(\"teacher_hidden_dropout_keep_prob\", 0.9, \"\")\n",
    "tf.app.flags.DEFINE_float(\"student_input_dropout_keep_prob\", 0.75, \"\")\n",
    "tf.app.flags.DEFINE_float(\"student_hidden_dropout_keep_prob\", 0.5, \"\")\n",
    "\n",
    "\n",
    "tf.app.flags.DEFINE_float(\"teacher_learning_rate\", 0.001, \"\")\n",
    "tf.app.flags.DEFINE_float(\"student_learning_rate\", 0.001, \"\")\n",
    "tf.app.flags.DEFINE_float(\"distill_learning_rate\", 0.001, \"\")\n",
    "tf.app.flags.DEFINE_float(\"data_weight\", 0.00, \"\")\n",
    "tf.app.flags.DEFINE_float(\"distill_logits_weight\", 1.00, \"\")\n",
    "tf.app.flags.DEFINE_float(\"distill_rep_weight\", 0.0, \"\")\n",
    "tf.app.flags.DEFINE_float(\"teacher_rep_distill_weight\", 0.0, \"\")\n",
    "tf.app.flags.DEFINE_float(\"distill_temp\", 1, \"\")\n",
    "tf.app.flags.DEFINE_float(\"teacher_temp\", 1, \"\")\n",
    "tf.app.flags.DEFINE_float(\"student_temp\", 1, \"\")\n",
    "tf.app.flags.DEFINE_boolean(\"learn_to_teach\", False, \"\")\n",
    "\n",
    "\n",
    "\n",
    "tf.app.flags.DEFINE_boolean(\"decay_learning_rate\", True, \"True | False\")\n",
    "tf.app.flags.DEFINE_float(\"l2_rate\", 0.0001, \"\")\n",
    "\n",
    "\n",
    "tf.app.flags.DEFINE_integer(\"batch_size\", 32, \"\")\n",
    "tf.app.flags.DEFINE_integer(\"training_iterations\", 300000, \"\")\n",
    "\n",
    "tf.app.flags.DEFINE_integer(\"vocab_size\", 3, \"\")\n",
    "tf.app.flags.DEFINE_integer(\"embedding_dim\", 128, \"embeddings dim\")\n",
    "\n",
    "tf.app.flags.DEFINE_string(\"data_path\", \"../data\", \"data path\")\n",
    "\n",
    "\n",
    "\n",
    "tf.app.flags.DEFINE_string(\"f\",\"\",\"kernel\")\n",
    "hparams = tf.app.flags.FLAGS"
   ]
  },
  {
   "cell_type": "code",
   "execution_count": 3,
   "metadata": {},
   "outputs": [],
   "source": [
    "Models = {\"lstm\": LSTMSeq2Seq,\n",
    "        \"bilstm\": BidiLSTMSeq2Seq,\n",
    "        \"transformer\": Transformer,\n",
    "        \"utransformer\": UniversalTransformer,\n",
    "        \"enc_transformer\": EncodingTransformer,\n",
    "        \"enc_utransformer\": EncodingUniversalTransformer}\n",
    "\n",
    "\n",
    "tasks = {'identity': AlgorithmicIdentityDecimal40(os.path.join(hparams.data_dir,'alg')),\n",
    "       'identity_binary': AlgorithmicIdentityBinary40(os.path.join(hparams.data_dir,'alg')),\n",
    "       'addition': AlgorithmicAdditionDecimal40(os.path.join(hparams.data_dir,'alg')),\n",
    "       'multiplication': AlgorithmicMultiplicationDecimal40(os.path.join(hparams.data_dir,'alg')),\n",
    "       'sort': AlgorithmicSortProblem(os.path.join(hparams.data_dir,'alg')),\n",
    "       'reverse': AlgorithmicReverseProblem(os.path.join(hparams.data_dir,'alg')),\n",
    "       'arithmatic': Arithmatic(os.path.join(hparams.data_dir,'arithmatic')),\n",
    "       'arithmatic_simple': ArithmaticSimple(os.path.join(hparams.data_dir,'arithmatic_simple')),\n",
    "       'arithmatic_samelength': ArithmaticSameLength(os.path.join(hparams.data_dir,'arithmatic_samelength')),\n",
    "       'arithmatic_simple_curriculum_length': ArithmaticSimpleCurriculumLength(os.path.join(hparams.data_dir,'arithmatic_simple_curriculum_length')),\n",
    "       'arithmatic_simple_samelength': ArithmaticSameLength(os.path.join(hparams.data_dir,'arithmatic_samelength')),\n",
    "       'arithmatic_simple_samelength10': ArithmaticSimpleSameLength10(os.path.join(hparams.data_dir,'arithmatic_simple_samelength10')),\n",
    "       'arithmatic_simple_samelength10_depth6': ArithmaticSimpleSameLength10Depth6(os.path.join(hparams.data_dir,'arithmatic_simple_samelength10_depth6')),\n",
    "       'arithmatic_simple_samelength10_depth4': ArithmaticSimpleSameLength10Depth4(os.path.join(hparams.data_dir,'arithmatic_simple_samelength10_depth4')),\n",
    "       'arithmatic_simple_samelength10_depth2': ArithmaticSimpleSameLength10Depth2(os.path.join(hparams.data_dir,'arithmatic_simple_samelength10_depth2')),\n",
    "       }\n"
   ]
  },
  {
   "cell_type": "code",
   "execution_count": 9,
   "metadata": {},
   "outputs": [],
   "source": [
    "hparams.task_name = 'arithmatic_simple_samelength10_depth2'\n",
    "hparams.vocab_size = tasks[hparams.task_name].vocab_length\n",
    "hparams.output_dim = len(tasks[hparams.task_name].target_vocab)\n",
    "\n",
    "Models = {\"lstm\": LSTMSeq2Seq,\n",
    "            \"bilstm\": BidiLSTMSeq2Seq,\n",
    "            \"transformer\": Transformer,\n",
    "            \"utransformer\": UniversalTransformer,\n",
    "            \"enc_transformer\": EncodingTransformer,\n",
    "            \"enc_utransformer\": EncodingUniversalTransformer}\n",
    "\n",
    "CLS_TOKEN = {\"lstm\": False,\n",
    "          \"bilstm\": False,\n",
    "          \"transformer\": False,\n",
    "          \"utransformer\": False,\n",
    "          \"enc_transformer\": True,\n",
    "          \"enc_utransformer\": True}\n",
    "\n",
    "tasks = {'identity': AlgorithmicIdentityDecimal40(os.path.join(hparams.data_dir,'alg')),\n",
    "       'identity_binary': AlgorithmicIdentityBinary40(os.path.join(hparams.data_dir,'alg')),\n",
    "       'addition': AlgorithmicAdditionDecimal40(os.path.join(hparams.data_dir,'alg')),\n",
    "       'multiplication': AlgorithmicMultiplicationDecimal40(os.path.join(hparams.data_dir,'alg')),\n",
    "       'sort': AlgorithmicSortProblem(os.path.join(hparams.data_dir,'alg')),\n",
    "       'reverse': AlgorithmicReverseProblem(os.path.join(hparams.data_dir,'alg')),\n",
    "       'arithmatic': Arithmatic(os.path.join(hparams.data_dir,'arithmatic')),\n",
    "       'arithmatic_simple': ArithmaticSimple(os.path.join(hparams.data_dir,'arithmatic_simple')),\n",
    "       'arithmatic_samelength': ArithmaticSameLength(os.path.join(hparams.data_dir,'arithmatic_samelength')),\n",
    "       'arithmatic_simple_curriculum_length': ArithmaticSimpleCurriculumLength(os.path.join(hparams.data_dir,'arithmatic_simple_curriculum_length')),\n",
    "       'arithmatic_simple_samelength': ArithmaticSameLength(os.path.join(hparams.data_dir,'arithmatic_samelength')),\n",
    "       'arithmatic_simple_samelength10': ArithmaticSimpleSameLength10(os.path.join(hparams.data_dir,'arithmatic_simple_samelength10')),\n",
    "       'arithmatic_simple_samelength10_depth6': ArithmaticSimpleSameLength10Depth6(os.path.join(hparams.data_dir,'arithmatic_simple_samelength10_depth6')),\n",
    "       'arithmatic_simple_samelength10_depth4': ArithmaticSimpleSameLength10Depth4(os.path.join(hparams.data_dir,'arithmatic_simple_samelength10_depth4')),\n",
    "       'arithmatic_simple_samelength10_depth2': ArithmaticSimpleSameLength10Depth2(os.path.join(hparams.data_dir,'arithmatic_simple_samelength10_depth2')),\n",
    "       }\n",
    "\n",
    "hparams.vocab_size = tasks[hparams.task_name].vocab_length\n",
    "hparams.output_dim = len(tasks[hparams.task_name].target_vocab)\n",
    "\n",
    "PARAM_TYPES = {\"lstm\": LSTMHparam,\n",
    "        \"bilstm\": LSTMHparam,\n",
    "        \"transformer\": TransformerHparam,\n",
    "        \"utransformer\": TransformerHparam,\n",
    "        \"enc_transformer\": TransformerHparam,\n",
    "        \"enc_utransformer\": TransformerHparam}\n",
    "\n",
    "teacher_params = PARAM_TYPES[hparams.teacher_model](input_dim=hparams.input_dim,\n",
    "                                                  output_dim=hparams.output_dim,\n",
    "                                                  hidden_dim=hparams.teacher_hidden_dim,\n",
    "                                                  encoder_depth=hparams.teacher_encoder_depth,\n",
    "                                                  decoder_depth=hparams.teacher_decoder_depth,\n",
    "                                                  number_of_heads=4,\n",
    "                                                  ff_filter_size=hparams.teacher_hidden_dim*4,\n",
    "                                                  initializer_gain=hparams.initializer_gain,\n",
    "                                                  batch_size=hparams.batch_size,\n",
    "                                                  input_dropout_keep_prob=hparams.teacher_input_dropout_keep_prob,\n",
    "                                                  hidden_dropout_keep_prob=hparams.teacher_hidden_dropout_keep_prob,\n",
    "                                                  vocab_size=hparams.vocab_size,\n",
    "                                                  label_smoothing=hparams.teacher_label_smoothing,\n",
    "                                                  encoder_self_attention_dir=hparams.teacher_encoder_attention_dir,\n",
    "                                                  decoder_self_attention_dir=\"top_down\",\n",
    "                                                  decoder_cross_attention_dir=\"top_down\",\n",
    "                                                  train_embeddings=hparams.teacher_train_embeddings,\n",
    "                                                  attention_mechanism=None,\n",
    "                                                  sent_rep_mode=hparams.teacher_sent_rep_mode,\n",
    "                                                  embedding_dim=hparams.teacher_hidden_dim,\n",
    "                                                  learning_rate=hparams.teacher_learning_rate,\n",
    "                                                  cls_token=CLS_TOKEN[hparams.teacher_model]\n",
    "                                                  )\n",
    "\n",
    "student_params = PARAM_TYPES[hparams.student_model](input_dim=hparams.input_dim,\n",
    "                                                  output_dim=hparams.output_dim,\n",
    "                                                  hidden_dim=hparams.student_hidden_dim,\n",
    "                                                  encoder_depth=hparams.student_encoder_depth,\n",
    "                                                  decoder_depth=hparams.student_decoder_depth,\n",
    "                                                  number_of_heads=4,\n",
    "                                                  ff_filter_size=hparams.student_hidden_dim*4,\n",
    "                                                  initializer_gain=hparams.initializer_gain,\n",
    "                                                  batch_size=hparams.batch_size,\n",
    "                                                  input_dropout_keep_prob=hparams.student_input_dropout_keep_prob,\n",
    "                                                  hidden_dropout_keep_prob=hparams.student_hidden_dropout_keep_prob,\n",
    "                                                  vocab_size=hparams.vocab_size,\n",
    "                                                  label_smoothing=hparams.student_label_smoothing,\n",
    "                                                  encoder_self_attention_dir=hparams.student_encoder_attention_dir,\n",
    "                                                  decoder_self_attention_dir=\"top_down\",\n",
    "                                                  decoder_cross_attention_dir=\"top_down\",\n",
    "                                                  train_embeddings=hparams.student_train_embeddings,\n",
    "                                                  attention_mechanism=None,\n",
    "                                                  sent_rep_mode=hparams.student_sent_rep_mode,\n",
    "                                                  embedding_dim=hparams.student_hidden_dim,\n",
    "                                                  learning_rate=hparams.student_learning_rate,\n",
    "                                                  cls_token=CLS_TOKEN[hparams.student_model]\n",
    "                                                  )"
   ]
  },
  {
   "cell_type": "code",
   "execution_count": 10,
   "metadata": {},
   "outputs": [
    {
     "name": "stdout",
     "output_type": "stream",
     "text": [
      "enc_utransformer\n"
     ]
    }
   ],
   "source": [
    "print(hparams.student_model)\n",
    "student_model = Models[hparams.student_model](student_params,\n",
    "                                task=tasks[hparams.task_name],\n",
    "                                scope=hparams.student_model+\"_student\")"
   ]
  },
  {
   "cell_type": "code",
   "execution_count": 11,
   "metadata": {},
   "outputs": [
    {
     "name": "stdout",
     "output_type": "stream",
     "text": [
      "lstm\n"
     ]
    }
   ],
   "source": [
    "print(hparams.teacher_model)\n",
    "teacher_model = Models[hparams.teacher_model](teacher_params,\n",
    "                                task=tasks[hparams.task_name],\n",
    "                                scope=hparams.teacher_model+\"_teacher\")"
   ]
  },
  {
   "cell_type": "code",
   "execution_count": 12,
   "metadata": {},
   "outputs": [
    {
     "name": "stdout",
     "output_type": "stream",
     "text": [
      "WARNING:tensorflow:From /home/samira/anaconda3/envs/std/lib/python3.7/site-packages/tensorflow/python/data/ops/iterator_ops.py:532: colocate_with (from tensorflow.python.framework.ops) is deprecated and will be removed in a future version.\n",
      "Instructions for updating:\n",
      "Colocations handled automatically by placer.\n"
     ]
    }
   ],
   "source": [
    "dataset = tf.data.TFRecordDataset(\"../\"+student_model.task.get_tfrecord_path(mode=\"train\"))\n",
    "dataset = dataset.map(student_model.task.parse_examples)\n",
    "dataset = dataset.padded_batch(hparams.batch_size, padded_shapes=student_model.task.get_padded_shapes())\n",
    "dataset = dataset.map((lambda x1,x2,x3,x4: ((x1,x2,x3,x4),(x1,x2,x3,x4))))\n",
    "dataset = dataset.shuffle(buffer_size=1000)\n",
    "dataset = dataset.repeat()\n",
    "train_iterator = dataset.make_one_shot_iterator()\n",
    "\n",
    "dataset = tf.data.TFRecordDataset(\"../\"+student_model.task.get_tfrecord_path(mode=\"dev\"))\n",
    "dataset = dataset.map(student_model.task.parse_examples)\n",
    "dataset = dataset.padded_batch(hparams.batch_size, padded_shapes=student_model.task.get_padded_shapes())\n",
    "dataset = dataset.map((lambda x1,x2,x3,x4: ((x1,x2,x3,x4),(x1,x2,x3,x4))))\n",
    "dataset = dataset.shuffle(buffer_size=1000)\n",
    "dataset = dataset.repeat()\n",
    "dev_iterator = dataset.make_one_shot_iterator()"
   ]
  },
  {
   "cell_type": "code",
   "execution_count": 13,
   "metadata": {},
   "outputs": [],
   "source": [
    "teacher_train_examples, student_train_examples = train_iterator.get_next()\n",
    "teacher_dev_examples, student_dev_examples = dev_iterator.get_next()\n",
    "\n",
    "student_model.create_vars(reuse=False)\n",
    "\n"
   ]
  },
  {
   "cell_type": "code",
   "execution_count": 15,
   "metadata": {},
   "outputs": [
    {
     "name": "stdout",
     "output_type": "stream",
     "text": [
      "../logs/arithmatic_simple_samelength10_depth2/dot_product_lstm_to_enc_utransformer_std_depth4_teacher_depth1_std_hidden_dim128_teacher_hidden_dim256_distill_run1/model.ckpt-600000\n"
     ]
    }
   ],
   "source": [
    "save_dir = '../logs/arithmatic_simple_samelength10_depth2/'+ \\\n",
    "'dot_product_lstm_to_enc_utransformer_std_depth4_teacher_depth1_std_hidden_dim128_teacher_hidden_dim256_distill_run1'\n",
    "#'dot_product_lstm_to_lstm_std_depth1_teacher_depth1_std_hidden_dim128_teacher_hidden_dim128__indp_drop075-08_drop075-08_L2_v5'\n",
    "\n",
    "checkpoint = tf.train.latest_checkpoint(save_dir)\n",
    "print(checkpoint)"
   ]
  },
  {
   "cell_type": "code",
   "execution_count": 16,
   "metadata": {},
   "outputs": [
    {
     "name": "stdout",
     "output_type": "stream",
     "text": [
      "WARNING:tensorflow:From /home/samira/Codes/SolutionDistillation/distill/layers/lstm.py:23: LSTMCell.__init__ (from tensorflow.python.ops.rnn_cell_impl) is deprecated and will be removed in a future version.\n",
      "Instructions for updating:\n",
      "This class is equivalent as tf.keras.layers.LSTMCell, and will be replaced by that in Tensorflow 2.0.\n",
      "WARNING:tensorflow:<tensorflow.python.ops.rnn_cell_impl.LSTMCell object at 0x7f26d35bd470>: Note that this cell is not optimized for performance. Please use tf.contrib.cudnn_rnn.CudnnLSTM for better performance on GPU.\n",
      "WARNING:tensorflow:From /home/samira/Codes/SolutionDistillation/distill/layers/lstm.py:55: MultiRNNCell.__init__ (from tensorflow.python.ops.rnn_cell_impl) is deprecated and will be removed in a future version.\n",
      "Instructions for updating:\n",
      "This class is equivalent as tf.keras.layers.StackedRNNCells, and will be replaced by that in Tensorflow 2.0.\n",
      "WARNING:tensorflow:<tensorflow.python.ops.rnn_cell_impl.LSTMCell object at 0x7f278bfe4b70>: Note that this cell is not optimized for performance. Please use tf.contrib.cudnn_rnn.CudnnLSTM for better performance on GPU.\n",
      "WARNING:tensorflow:From /home/samira/Codes/SolutionDistillation/distill/layers/embedding.py:111: to_float (from tensorflow.python.ops.math_ops) is deprecated and will be removed in a future version.\n",
      "Instructions for updating:\n",
      "Use tf.cast instead.\n",
      "WARNING:tensorflow:From /home/samira/Codes/SolutionDistillation/distill/layers/lstm.py:80: dynamic_rnn (from tensorflow.python.ops.rnn) is deprecated and will be removed in a future version.\n",
      "Instructions for updating:\n",
      "Please use `keras.layers.RNN(cell)`, which is equivalent to this API\n",
      "WARNING:tensorflow:From /home/samira/anaconda3/envs/std/lib/python3.7/site-packages/tensorflow/python/ops/rnn.py:626: to_int32 (from tensorflow.python.ops.math_ops) is deprecated and will be removed in a future version.\n",
      "Instructions for updating:\n",
      "Use tf.cast instead.\n"
     ]
    }
   ],
   "source": [
    "with tfe.restore_variables_on_create(checkpoint):\n",
    "    teacher_model.create_vars(reuse=False)\n",
    "    train_output_dic = teacher_model.apply(teacher_train_examples, target_length=student_model.task.target_length, is_train=False)"
   ]
  },
  {
   "cell_type": "code",
   "execution_count": 17,
   "metadata": {},
   "outputs": [],
   "source": [
    "def plot_embedding_components(emb_w):\n",
    "    pca = PCA(n_components=2)\n",
    "    principalComponents = pca.fit_transform(emb_w.numpy())\n",
    "    tsne = manifold.TSNE(n_components=2, init='pca', random_state=0)\n",
    "    tsne_emb = tsne.fit_transform(emb_w.numpy())\n",
    "\n",
    "    M_reduced_plot_test = principalComponents\n",
    "    word2Ind_plot_test = student_model.task.word2id\n",
    "    words = student_model.task.id2word\n",
    "    plot_embeddings(M_reduced_plot_test, word2Ind_plot_test, words)\n",
    "\n",
    "    M_reduced_plot_test = tsne_emb\n",
    "    word2Ind_plot_test = student_model.task.word2id\n",
    "    words = student_model.task.id2word\n",
    "    plot_embeddings(M_reduced_plot_test, word2Ind_plot_test, words)"
   ]
  },
  {
   "cell_type": "code",
   "execution_count": 25,
   "metadata": {},
   "outputs": [
    {
     "name": "stdout",
     "output_type": "stream",
     "text": [
      "WARNING:tensorflow:<tensorflow.python.ops.rnn_cell_impl.LSTMCell object at 0x7f2660523f28>: Note that this cell is not optimized for performance. Please use tf.contrib.cudnn_rnn.CudnnLSTM for better performance on GPU.\n",
      "WARNING:tensorflow:<tensorflow.python.ops.rnn_cell_impl.LSTMCell object at 0x7f26ed8ae0f0>: Note that this cell is not optimized for performance. Please use tf.contrib.cudnn_rnn.CudnnLSTM for better performance on GPU.\n"
     ]
    },
    {
     "data": {
      "image/png": "[encoded data removed]",
      "text/plain": [
       "<Figure size 432x288 with 1 Axes>"
      ]
     },
     "metadata": {
      "needs_background": "light"
     },
     "output_type": "display_data"
    },
    {
     "data": {
      "image/png": "[encoded data removed]",
      "text/plain": [
       "<Figure size 432x288 with 1 Axes>"
      ]
     },
     "metadata": {
      "needs_background": "light"
     },
     "output_type": "display_data"
    },
    {
     "data": {
      "image/png": "[encoded data removed]",
      "text/plain": [
       "<Figure size 432x288 with 1 Axes>"
      ]
     },
     "metadata": {
      "needs_background": "light"
     },
     "output_type": "display_data"
    },
    {
     "data": {
      "image/png": "[encoded data removed]",
      "text/plain": [
       "<Figure size 432x288 with 1 Axes>"
      ]
     },
     "metadata": {
      "needs_background": "light"
     },
     "output_type": "display_data"
    },
    {
     "name": "stdout",
     "output_type": "stream",
     "text": [
      "distance with general bias tf.Tensor(0.823655, shape=(), dtype=float32)\n",
      "distance with local bias tf.Tensor(0.101219535, shape=(), dtype=float32)\n",
      "self distance with general bias tf.Tensor(0.0, shape=(), dtype=float32)\n",
      "self distance with local bias tf.Tensor(0.0, shape=(), dtype=float32)\n"
     ]
    }
   ],
   "source": [
    "with tfe.restore_variables_on_create(checkpoint):\n",
    "    teacher_model.create_vars(reuse=False)\n",
    "    \n",
    "teacher_emb_w = teacher_model.input_embedding_layer.shared_weights\n",
    "plot_embedding_components(teacher_emb_w)\n",
    "\n",
    "\n",
    "with tfe.restore_variables_on_create(checkpoint):\n",
    "    student_model.create_vars(reuse=False)\n",
    "    \n",
    "student_emb_w = student_model.input_embedding_layer.shared_weights\n",
    "plot_embedding_components(student_emb_w)\n",
    "\n",
    "distance_with_general_bias = get_biased_single_state_rsa_distill_loss(student_emb_w, teacher_emb_w, mode='dot_product', bias=\"general\")\n",
    "distance_with_local_bias = get_biased_single_state_rsa_distill_loss(student_emb_w, teacher_emb_w, mode='dot_product', bias=\"local\")\n",
    "self_distance_with_general_bias = get_biased_single_state_rsa_distill_loss(teacher_emb_w, teacher_emb_w, mode='dot_product', bias=\"general\")\n",
    "self_distance_with_local_bias = get_biased_single_state_rsa_distill_loss(teacher_emb_w, teacher_emb_w, mode='dot_product', bias=\"local\")\n",
    "\n",
    "print(\"distance with general bias\", distance_with_general_bias)\n",
    "print(\"distance with local bias\", distance_with_local_bias)\n",
    "\n",
    "print(\"self distance with general bias\", self_distance_with_general_bias)\n",
    "print(\"self distance with local bias\", self_distance_with_local_bias)"
   ]
  },
  {
   "cell_type": "code",
   "execution_count": 19,
   "metadata": {},
   "outputs": [
    {
     "name": "stdout",
     "output_type": "stream",
     "text": [
      "['1', '+', '2', '-', '(', '2', '+', '1', ')', '+', '3', '+', '(', '2', '+', '1', ')', '-', '3', '<eos>']\n",
      "1 + 2 - ( 2 + 1 ) + 3 + ( 2 + 1 ) - 3 <eos>\n",
      "['3']\n"
     ]
    }
   ],
   "source": [
    "example_str = '1 + 2 - ( 2 + 1 ) + 3  + ( 2 + 1 ) - 3 <eos>'\n",
    "example_input = example_str.split()\n",
    "target = str(eval(example_str[0:-5]))\n",
    "encoded_example = tf.convert_to_tensor([teacher_model.task.encode(example_input)])\n",
    "encoded_target = tf.convert_to_tensor([teacher_model.task.encode(target)])\n",
    "\n",
    "print(example_input)\n",
    "example = (encoded_example, encoded_target, tf.convert_to_tensor([len(example_input)]), tf.convert_to_tensor([1]))\n",
    "\n",
    "weights_dic = {}\n",
    "with tfe.restore_variables_on_create(checkpoint):\n",
    "    teach_outputs = train_output_dic = teacher_model.apply(example, \\\n",
    "                                                     target_length=teacher_model.task.target_length, is_train=False)\n",
    "\n",
    "print(' '.join(student_model.task.decode(example[0][0])))\n",
    "print(student_model.task.decode([np.argmax(teach_outputs['logits'][0][0])]))"
   ]
  },
  {
   "cell_type": "code",
   "execution_count": 20,
   "metadata": {},
   "outputs": [],
   "source": [
    "teacher_train_examples, student_train_examples = train_iterator.get_next()\n",
    "teacher_dev_examples, student_dev_examples = dev_iterator.get_next()\n",
    "\n",
    "with tfe.restore_variables_on_create(checkpoint):\n",
    "    train_output_dic = teacher_model.apply(teacher_train_examples, target_length=teacher_model.task.target_length, is_train=False)"
   ]
  },
  {
   "cell_type": "code",
   "execution_count": 21,
   "metadata": {},
   "outputs": [
    {
     "data": {
      "text/plain": [
       "array([[ True],\n",
       "       [ True],\n",
       "       [ True],\n",
       "       [ True],\n",
       "       [ True],\n",
       "       [ True],\n",
       "       [ True],\n",
       "       [ True],\n",
       "       [ True],\n",
       "       [ True],\n",
       "       [ True],\n",
       "       [ True],\n",
       "       [ True],\n",
       "       [ True],\n",
       "       [ True],\n",
       "       [ True],\n",
       "       [ True],\n",
       "       [ True],\n",
       "       [ True],\n",
       "       [ True],\n",
       "       [ True],\n",
       "       [ True],\n",
       "       [ True],\n",
       "       [ True],\n",
       "       [ True],\n",
       "       [ True],\n",
       "       [ True],\n",
       "       [ True],\n",
       "       [ True],\n",
       "       [ True],\n",
       "       [ True],\n",
       "       [ True]])"
      ]
     },
     "execution_count": 21,
     "metadata": {},
     "output_type": "execute_result"
    }
   ],
   "source": [
    "np.argmax(train_output_dic['logits'], axis=-1) == train_output_dic['targets'].numpy()"
   ]
  },
  {
   "cell_type": "code",
   "execution_count": 22,
   "metadata": {},
   "outputs": [
    {
     "data": {
      "text/plain": [
       "array([[ 9],\n",
       "       [ 6],\n",
       "       [10],\n",
       "       [ 9],\n",
       "       [ 9],\n",
       "       [ 3],\n",
       "       [ 4],\n",
       "       [ 6],\n",
       "       [10],\n",
       "       [ 8],\n",
       "       [ 9],\n",
       "       [ 3],\n",
       "       [ 4],\n",
       "       [ 4],\n",
       "       [ 9],\n",
       "       [ 5],\n",
       "       [ 8],\n",
       "       [ 5],\n",
       "       [12],\n",
       "       [ 7],\n",
       "       [ 9],\n",
       "       [ 9],\n",
       "       [ 8],\n",
       "       [ 5],\n",
       "       [ 5],\n",
       "       [ 4],\n",
       "       [10],\n",
       "       [10],\n",
       "       [12],\n",
       "       [11],\n",
       "       [ 6],\n",
       "       [ 3]])"
      ]
     },
     "execution_count": 22,
     "metadata": {},
     "output_type": "execute_result"
    }
   ],
   "source": [
    "np.argmax(train_output_dic['logits'], axis=-1)"
   ]
  },
  {
   "cell_type": "code",
   "execution_count": 27,
   "metadata": {},
   "outputs": [
    {
     "name": "stdout",
     "output_type": "stream",
     "text": [
      "(32, 17)\n"
     ]
    },
    {
     "data": {
      "image/png": "[encoded data removed]",
      "text/plain": [
       "<Figure size 432x288 with 1 Axes>"
      ]
     },
     "metadata": {
      "needs_background": "light"
     },
     "output_type": "display_data"
    },
    {
     "data": {
      "image/png": "[encoded data removed]",
      "text/plain": [
       "<Figure size 432x288 with 1 Axes>"
      ]
     },
     "metadata": {
      "needs_background": "light"
     },
     "output_type": "display_data"
    }
   ],
   "source": [
    "print(train_output_dic['logits'].numpy()[:,0,:].shape)\n",
    "\n",
    "points = train_output_dic['logits'].numpy()[:,0,:]\n",
    "pca = PCA(n_components=2)\n",
    "principalComponents = pca.fit_transform(points)\n",
    "\n",
    "tsne = manifold.TSNE(n_components=2, init='pca', random_state=0)\n",
    "tsne_emb = tsne.fit_transform(points)\n",
    "\n",
    "M_reduced_plot_test = principalComponents\n",
    "word2Ind_plot_test = teacher_model.task.word2id\n",
    "words = teacher_model.task.id2word\n",
    "plot_embeddings(M_reduced_plot_test, word2Ind_plot_test, words)\n",
    "\n",
    "M_reduced_plot_test = tsne_emb\n",
    "word2Ind_plot_test = teacher_model.task.word2id\n",
    "words = teacher_model.task.id2word\n",
    "plot_embeddings(M_reduced_plot_test, word2Ind_plot_test, words)"
   ]
  },
  {
   "cell_type": "code",
   "execution_count": 32,
   "metadata": {},
   "outputs": [
    {
     "name": "stdout",
     "output_type": "stream",
     "text": [
      "INFO:tensorflow:inputs shape\n",
      "INFO:tensorflow:tf.Tensor(\n",
      "[[ 2  0  1]\n",
      " [ 2  1  1]\n",
      " [ 2  2  1]\n",
      " [ 2  3  1]\n",
      " [ 2  4  1]\n",
      " [ 2  5  1]\n",
      " [ 2  6  1]\n",
      " [ 2  7  1]\n",
      " [ 2  8  1]\n",
      " [ 2  9  1]\n",
      " [ 2 10  1]\n",
      " [ 2 11  1]\n",
      " [ 2 12  1]\n",
      " [ 2 13  1]\n",
      " [ 2 14  1]\n",
      " [ 2 15  1]\n",
      " [ 2 16  1]], shape=(17, 3), dtype=int64)\n",
      "INFO:tensorflow:encoder inputs:\n",
      "INFO:tensorflow:tf.Tensor(\n",
      "[[[ 0.13035549  0.08641979  0.00353339 ... -0.02212632 -0.2100755\n",
      "    0.36663026]\n",
      "  [ 0.841471    0.76043874  0.6790561  ...  1.          1.\n",
      "    1.        ]\n",
      "  [ 1.0725331   0.8520597   0.7376083  ... -0.1273939   0.09977394\n",
      "   -0.16640043]]\n",
      "\n",
      " [[ 0.13035549  0.08641979  0.00353339 ... -0.02212632 -0.2100755\n",
      "    0.36663026]\n",
      "  [ 1.0047067   0.62482584  0.41969272 ... -0.12739384  0.09977394\n",
      "   -0.16640043]\n",
      "  [ 1.0725331   0.8520597   0.7376083  ... -0.1273939   0.09977394\n",
      "   -0.16640043]]\n",
      "\n",
      " [[ 0.13035549  0.08641979  0.00353339 ... -0.02212632 -0.2100755\n",
      "    0.36663026]\n",
      "  [ 0.9718265   0.8468585   0.68258953 ... -0.02212632 -0.2100755\n",
      "    0.36663026]\n",
      "  [ 1.0725331   0.8520597   0.7376083  ... -0.1273939   0.09977394\n",
      "   -0.16640043]]\n",
      "\n",
      " ...\n",
      "\n",
      " [[ 0.13035549  0.08641979  0.00353339 ... -0.02212632 -0.2100755\n",
      "    0.36663026]\n",
      "  [ 0.82526803  0.7648849   0.6284533  ... -0.1180675   1.8332155\n",
      "   -0.31013608]\n",
      "  [ 1.0725331   0.8520597   0.7376083  ... -0.1273939   0.09977394\n",
      "   -0.16640043]]\n",
      "\n",
      " [[ 0.13035549  0.08641979  0.00353339 ... -0.02212632 -0.2100755\n",
      "    0.36663026]\n",
      "  [ 0.81357557  0.6977722   0.6391749  ...  0.0192073   1.715271\n",
      "    0.52813804]\n",
      "  [ 1.0725331   0.8520597   0.7376083  ... -0.1273939   0.09977394\n",
      "   -0.16640043]]\n",
      "\n",
      " [[ 0.13035549  0.08641979  0.00353339 ... -0.02212632 -0.2100755\n",
      "    0.36663026]\n",
      "  [ 0.7895412   0.7137768   0.56593436 ...  0.08561897  0.47373694\n",
      "   -0.37147558]\n",
      "  [ 1.0725331   0.8520597   0.7376083  ... -0.1273939   0.09977394\n",
      "   -0.16640043]]], shape=(17, 3, 128), dtype=float32)\n",
      "INFO:tensorflow:encoder inputs:\n",
      "INFO:tensorflow:tf.Tensor(\n",
      "[[[ 0.07889676 -0.53150487  0.4967207  ...  1.4221989   1.2110436\n",
      "    0.59047276]\n",
      "  [ 1.4621041   0.66518545  1.6677082  ...  2.47688     1.6379204\n",
      "    0.5449996 ]\n",
      "  [ 0.5595733   0.39721906  1.2252872  ...  0.20682621  2.104946\n",
      "    0.2803381 ]]\n",
      "\n",
      " [[ 0.17986357 -0.30778658  0.5680008  ...  1.3884077   1.0976458\n",
      "    0.69947696]\n",
      "  [ 0.58352685  0.443952    0.78921247 ...  0.15072131  2.1941047\n",
      "    0.42015395]\n",
      "  [ 0.69252676  0.6457776   1.3788748  ...  0.24742532  1.9609928\n",
      "    0.41766918]]\n",
      "\n",
      " [[-0.0179888  -0.6970487   0.4502181  ...  1.4404016   1.3417572\n",
      "    0.48105124]\n",
      "  [ 0.6237706   0.12265319  1.4561366  ...  1.6160187   1.305648\n",
      "    0.5836546 ]\n",
      "  [ 0.46756113  0.1807546   1.0905359  ...  0.12641084  2.2764587\n",
      "    0.17007592]]\n",
      "\n",
      " ...\n",
      "\n",
      " [[-0.16286188 -0.10497966  0.39148527 ...  1.4585806   1.5794142\n",
      "    0.556576  ]\n",
      "  [-0.27789772  0.8997709   1.1134721  ...  0.4832673   4.720763\n",
      "   -0.4332899 ]\n",
      "  [ 0.15493739  0.7051499   1.0961223  ... -0.07614183  2.4425712\n",
      "    0.17676729]]\n",
      "\n",
      " [[-1.3487468  -0.87364316 -0.2383101  ...  1.207814    1.4573412\n",
      "    0.82595325]\n",
      "  [ 0.18545258 -0.24049729  0.7702284  ...  0.20061564  3.3640862\n",
      "    0.6667565 ]\n",
      "  [-0.4691404   0.30626607  0.6099414  ... -0.09252208  2.109656\n",
      "    0.21612766]]\n",
      "\n",
      " [[ 0.6928677  -0.38565636  0.7775811  ...  1.6306921   0.8605794\n",
      "    0.21133816]\n",
      "  [ 1.0929437   0.2480186   1.6874865  ...  0.9143112   1.8830147\n",
      "    0.09461099]\n",
      "  [ 1.1380298   0.54030937  1.6733849  ...  0.16150546  1.5123568\n",
      "    0.23238795]]], shape=(17, 3, 128), dtype=float32)\n",
      "INFO:tensorflow:encoder inputs:\n",
      "INFO:tensorflow:tf.Tensor(\n",
      "[[[ 1.1969976  -1.2283745   1.8721247  ...  1.4328891   2.0625486\n",
      "   -0.28024495]\n",
      "  [ 2.4499683  -0.26847935  3.7022274  ...  3.4113748   1.8745817\n",
      "   -1.1757972 ]\n",
      "  [ 1.9236867  -0.5813091   2.840838   ...  0.5851999   2.7784193\n",
      "   -0.3298607 ]]\n",
      "\n",
      " [[ 1.1222287  -0.9605344   1.8058981  ...  1.4197825   1.9944617\n",
      "   -0.24714923]\n",
      "  [ 1.670656   -0.44803613  2.3675647  ...  0.5539769   2.8544912\n",
      "   -0.324816  ]\n",
      "  [ 1.9065248  -0.2523737   2.8806827  ...  0.62801933  2.7299232\n",
      "   -0.3282137 ]]\n",
      "\n",
      " [[ 1.1053443  -1.4713402   1.8867006  ...  1.371616    2.148629\n",
      "   -0.2465483 ]\n",
      "  [ 1.8110415  -0.6044346   2.79397    ...  1.3838178   2.22956\n",
      "   -0.1675914 ]\n",
      "  [ 1.8802493  -0.9735781   2.6650712  ...  0.4562345   2.8729672\n",
      "   -0.25038266]]\n",
      "\n",
      " ...\n",
      "\n",
      " [[-0.1135035  -1.0081134   1.4044065  ...  1.1678778   2.7030478\n",
      "   -0.1794219 ]\n",
      "  [-0.13711987  0.4237805   1.9382685  ...  0.27583575  5.5067677\n",
      "   -1.1037848 ]\n",
      "  [ 0.53626513 -0.34614187  1.9693258  ...  0.12873197  3.1698763\n",
      "   -0.2994759 ]]\n",
      "\n",
      " [[-0.09001395 -1.3782316   0.67638755 ...  0.99354005  1.8758354\n",
      "    0.48712468]\n",
      "  [ 2.74193    -0.7247195   1.5467484  ...  0.15799129  4.307232\n",
      "    0.10182318]\n",
      "  [ 1.1789443  -0.62549865  1.6525639  ... -0.14028466  2.5535355\n",
      "   -0.07000756]]\n",
      "\n",
      " [[ 0.35459673 -0.75284386  0.78962743 ...  1.0254446   2.1422975\n",
      "    1.0331953 ]\n",
      "  [ 1.8359587  -0.5519556   1.9980214  ...  0.2029779   2.4362035\n",
      "    0.8195842 ]\n",
      "  [ 1.1939646  -0.31993216  1.7989255  ... -0.05843896  2.4957361\n",
      "    1.2882771 ]]], shape=(17, 3, 128), dtype=float32)\n",
      "INFO:tensorflow:encoder inputs:\n",
      "INFO:tensorflow:tf.Tensor(\n",
      "[[[ 0.8888413  -2.4101052   2.819807   ...  4.2383013   2.6372898\n",
      "   -0.5365035 ]\n",
      "  [ 1.8993638  -0.15916955  4.7127304  ...  4.332885    2.6739507\n",
      "   -1.4718667 ]\n",
      "  [ 1.8066373  -1.7075202   3.6233096  ...  2.922575    3.620795\n",
      "   -1.064426  ]]\n",
      "\n",
      " [[ 0.7432658  -2.215623    2.8262029  ...  4.4241524   2.703035\n",
      "   -0.7010077 ]\n",
      "  [ 1.5120473  -1.535329    3.2547562  ...  3.172702    3.8564107\n",
      "   -1.2791519 ]\n",
      "  [ 1.6952238  -1.392304    3.7108831  ...  3.2433405   3.677544\n",
      "   -1.2197604 ]]\n",
      "\n",
      " [[ 0.9444181  -2.597232    2.7386487  ...  3.902491    2.6028967\n",
      "   -0.34544367]\n",
      "  [ 1.6658815  -1.8685153   3.6748245  ...  3.9353745   2.6984158\n",
      "   -0.23334107]\n",
      "  [ 1.9172368  -2.029719    3.3972108  ...  2.4951243   3.5976908\n",
      "   -0.8640439 ]]\n",
      "\n",
      " ...\n",
      "\n",
      " [[-0.28661913 -2.003797    2.0032935  ...  3.9661183   3.299971\n",
      "   -0.65416884]\n",
      "  [-0.11755374 -0.39130282  2.1541939  ...  3.0204325   6.1553073\n",
      "   -2.110853  ]\n",
      "  [ 0.4854664  -1.3012415   2.6440039  ...  2.493465    3.929141\n",
      "   -1.2619256 ]]\n",
      "\n",
      " [[-0.6223965  -2.0607464  -0.5988686  ...  3.2987666   1.5629907\n",
      "    0.32995486]\n",
      "  [ 2.6400297  -1.5897433   0.31379753 ...  2.2344441   4.05764\n",
      "    0.0426611 ]\n",
      "  [ 1.0727284  -1.642719    0.02471524 ...  1.5607771   2.263258\n",
      "   -0.05839896]]\n",
      "\n",
      " [[-0.10194747 -2.069067    2.1652474  ...  3.074571    2.5638187\n",
      "    1.0764999 ]\n",
      "  [ 1.5772271  -1.9569855   3.1002073  ...  1.5097497   3.2437527\n",
      "    0.35788321]\n",
      "  [ 0.8687949  -1.4724119   3.5333922  ...  1.5011368   3.125875\n",
      "    0.78945565]]], shape=(17, 3, 128), dtype=float32)\n"
     ]
    }
   ],
   "source": [
    "examples_inputs = []\n",
    "examples_targets = []\n",
    "target_lens = []\n",
    "input_lens = []\n",
    "for i in student_model.task.id2word:\n",
    "    example_str = i+' <eos>'\n",
    "    example_input = example_str.split()\n",
    "    examples_inputs.append(teacher_model.task.encode(example_input))\n",
    "    try:\n",
    "        target = str(eval(example_str[0:-5]))\n",
    "        examples_targets.append(teacher_model.task.encode(target))\n",
    "    except:\n",
    "        target = 0\n",
    "    target_lens.append(1)\n",
    "    input_lens.append(len(example_input))\n",
    "    \n",
    "    \n",
    "encoded_example = tf.convert_to_tensor(examples_inputs, dtype=tf.int64)\n",
    "encoded_target = tf.convert_to_tensor(examples_targets, dtype=tf.int64)\n",
    "\n",
    "example = (encoded_example, encoded_target, tf.convert_to_tensor(input_lens), tf.convert_to_tensor(target_lens))\n",
    "\n",
    "weights_dic = {}\n",
    "with tfe.restore_variables_on_create(checkpoint):\n",
    "    teach_outputs = teacher_model.apply(example, target_length=teacher_model.task.target_length, is_train=False)\n",
    "    student_outputs = student_model.apply(example, target_length=student_model.task.target_length, is_train=False)"
   ]
  },
  {
   "cell_type": "code",
   "execution_count": 33,
   "metadata": {},
   "outputs": [
    {
     "data": {
      "text/plain": [
       "[(array([6]), array([4]), array([3])),\n",
       " (array([6]), array([4]), array([4])),\n",
       " (array([6]), array([4]), array([5])),\n",
       " (array([4]), array([4]), array([6])),\n",
       " (array([4]), array([3]), array([7])),\n",
       " (array([5]), array([5]), array([8])),\n",
       " (array([6]), array([6]), array([9])),\n",
       " (array([7]), array([7]), array([10])),\n",
       " (array([8]), array([12]), array([11])),\n",
       " (array([9]), array([11]), array([12]))]"
      ]
     },
     "execution_count": 33,
     "metadata": {},
     "output_type": "execute_result"
    }
   ],
   "source": [
    "list(zip(np.argmax(teach_outputs['logits'], axis=-1), np.argmax(student_outputs['logits'], axis=-1), teach_outputs['targets'].numpy()))"
   ]
  },
  {
   "cell_type": "code",
   "execution_count": 34,
   "metadata": {},
   "outputs": [
    {
     "data": {
      "image/png": "[encoded data removed]",
      "text/plain": [
       "<Figure size 432x288 with 1 Axes>"
      ]
     },
     "metadata": {
      "needs_background": "light"
     },
     "output_type": "display_data"
    },
    {
     "data": {
      "image/png": "[encoded data removed]",
      "text/plain": [
       "<Figure size 432x288 with 1 Axes>"
      ]
     },
     "metadata": {
      "needs_background": "light"
     },
     "output_type": "display_data"
    },
    {
     "data": {
      "image/png": "[encoded data removed]",
      "text/plain": [
       "<Figure size 432x288 with 1 Axes>"
      ]
     },
     "metadata": {
      "needs_background": "light"
     },
     "output_type": "display_data"
    },
    {
     "data": {
      "image/png": "[encoded data removed]",
      "text/plain": [
       "<Figure size 432x288 with 1 Axes>"
      ]
     },
     "metadata": {
      "needs_background": "light"
     },
     "output_type": "display_data"
    }
   ],
   "source": [
    "reps = teach_outputs['outputs'].numpy()[:,0,:]\n",
    "\n",
    "\n",
    "points = reps\n",
    "pca = PCA(n_components=2)\n",
    "principalComponents = pca.fit_transform(points)\n",
    "\n",
    "tsne = manifold.TSNE(n_components=2, init='pca', random_state=0, perplexity=3)\n",
    "tsne_emb = tsne.fit_transform(points)\n",
    "\n",
    "M_reduced_plot_test = principalComponents\n",
    "word2Ind_plot_test = student_model.task.word2id\n",
    "words = student_model.task.id2word\n",
    "plot_embeddings(M_reduced_plot_test, word2Ind_plot_test, words)\n",
    "\n",
    "M_reduced_plot_test = tsne_emb\n",
    "word2Ind_plot_test = student_model.task.word2id\n",
    "words = student_model.task.id2word\n",
    "plot_embeddings(M_reduced_plot_test, word2Ind_plot_test, words)\n",
    "\n",
    "\n",
    "\n",
    "reps = student_outputs['outputs'].numpy()[:,0,:]\n",
    "\n",
    "\n",
    "points = reps\n",
    "pca = PCA(n_components=2)\n",
    "principalComponents = pca.fit_transform(points)\n",
    "\n",
    "tsne = manifold.TSNE(n_components=2, init='pca', random_state=0, perplexity=4)\n",
    "tsne_emb = tsne.fit_transform(points)\n",
    "\n",
    "M_reduced_plot_test = principalComponents\n",
    "word2Ind_plot_test = student_model.task.word2id\n",
    "words = student_model.task.id2word\n",
    "plot_embeddings(M_reduced_plot_test, word2Ind_plot_test, words)\n",
    "\n",
    "M_reduced_plot_test = tsne_emb\n",
    "word2Ind_plot_test = student_model.task.word2id\n",
    "words = student_model.task.id2word\n",
    "plot_embeddings(M_reduced_plot_test, word2Ind_plot_test, words)"
   ]
  },
  {
   "cell_type": "code",
   "execution_count": null,
   "metadata": {},
   "outputs": [],
   "source": []
  },
  {
   "cell_type": "code",
   "execution_count": null,
   "metadata": {},
   "outputs": [],
   "source": []
  }
 ],
 "metadata": {
  "kernelspec": {
   "display_name": "Python 3",
   "language": "python",
   "name": "python3"
  },
  "language_info": {
   "codemirror_mode": {
    "name": "ipython",
    "version": 3
   },
   "file_extension": ".py",
   "mimetype": "text/x-python",
   "name": "python",
   "nbconvert_exporter": "python",
   "pygments_lexer": "ipython3",
   "version": "3.7.3"
  }
 },
 "nbformat": 4,
 "nbformat_minor": 4
}
