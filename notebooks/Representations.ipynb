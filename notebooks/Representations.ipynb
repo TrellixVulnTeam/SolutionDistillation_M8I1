{
 "cells": [
  {
   "cell_type": "code",
   "execution_count": 1,
   "metadata": {},
   "outputs": [],
   "source": [
    "import tensorflow as tf\n",
    "\n",
    "from distill.common.hparams import TransformerHparam, LSTMHparam\n",
    "import os\n",
    "\n",
    "from distill.data_util.prep_algorithmic import AlgorithmicIdentityDecimal40, AlgorithmicIdentityBinary40, \\\n",
    "  AlgorithmicAdditionDecimal40, AlgorithmicMultiplicationDecimal40, AlgorithmicSortProblem, AlgorithmicReverseProblem\n",
    "from distill.data_util.prep_arithmatic import Arithmatic, ArithmaticSameLength, ArithmaticSimple, ArithmaticSimpleCurriculumLength,\\\n",
    "ArithmaticSimpleSameLength10, ArithmaticSimpleSameLength10Depth6, ArithmaticSimpleSameLength10Depth2, ArithmaticSimpleSameLength10Depth4\n",
    "from distill.data_util.prep_imdb import IMDB\n",
    "from distill.data_util.prep_ptb import PTB\n",
    "from distill.data_util.prep_sst import SST\n",
    "from distill.data_util.prep_trec6 import CharTrec6, Trec6\n",
    "from distill.data_util.prep_wsj_parsing import ParseWSJ\n",
    "from distill.models.lstm_seq2seq import LSTMSeq2Seq, BidiLSTMSeq2Seq\n",
    "from distill.models.transformer import Transformer, UniversalTransformer, EncodingTransformer, \\\n",
    "  EncodingUniversalTransformer\n",
    "from distill.pipelines.distill_pipelines import Seq2SeqDistiller\n",
    "from distill.pipelines.seq2seq import Seq2SeqTrainer\n",
    "\n",
    "\n",
    "from sklearn.decomposition import PCA\n",
    "import pandas as pd\n",
    "from sklearn import manifold\n",
    "import numpy as np\n",
    "\n",
    "import matplotlib.pyplot as plt\n",
    "import matplotlib.image as mpimg\n",
    "%matplotlib inline  \n",
    "\n",
    "def plot_embeddings(M_reduced, word2Ind, words):\n",
    "    \"\"\" Plot in a scatterplot the embeddings of the words specified in the list \"words\".\n",
    "        Include a label next to each point.\n",
    "    \"\"\"\n",
    "    for word in words:\n",
    "        x, y = M_reduced[word2Ind[word]]\n",
    "        plt.scatter(x, y, marker='x', color='red')\n",
    "        plt.text(x+.01, y+.01, word, fontsize=10)\n",
    "    plt.show()\n",
    "\n",
    "    \n",
    "\n",
    "# Enable TF Eager execution\n",
    "tfe = tf.contrib.eager\n",
    "tfe.enable_eager_execution()\n",
    "\n",
    "# Other setup\n",
    "Modes = tf.estimator.ModeKeys"
   ]
  },
  {
   "cell_type": "code",
   "execution_count": 2,
   "metadata": {},
   "outputs": [],
   "source": [
    "tf.app.flags.DEFINE_string(\"exp_name\", \"distill\", \"\")\n",
    "tf.app.flags.DEFINE_string(\"task_name\", \"identity_binary\", \"\")\n",
    "tf.app.flags.DEFINE_string(\"log_dir\", \"logs\", \"\")\n",
    "tf.app.flags.DEFINE_string(\"data_dir\", \"data\", \"\")\n",
    "\n",
    "tf.app.flags.DEFINE_string(\"save_dir\", None, \"\")\n",
    "\n",
    "tf.app.flags.DEFINE_string(\"model_type\", \"lstm2transformer\", \"\")\n",
    "tf.app.flags.DEFINE_string(\"teacher_model\", \"lstm\", \"\")\n",
    "tf.app.flags.DEFINE_string(\"student_model\", \"lstm\", \"\")\n",
    "\n",
    "tf.app.flags.DEFINE_boolean(\"train_teacher\", True, \"\")\n",
    "tf.app.flags.DEFINE_boolean(\"train_student\", True, \"\")\n",
    "tf.app.flags.DEFINE_boolean(\"distill_rep\", False, \"\")\n",
    "tf.app.flags.DEFINE_boolean(\"distill_logit\", True, \"\")\n",
    "\n",
    "tf.app.flags.DEFINE_boolean(\"pretrain_teacher\", True, \"\")\n",
    "tf.app.flags.DEFINE_integer(\"teacher_pretraining_iters\", 100, \"\")\n",
    "tf.app.flags.DEFINE_string(\"rep_loss_mode\", 'dot_product', \"representation loss type (squared,softmax_cross_ent,sigmoid_cross_ent\")\n",
    "\n",
    "tf.app.flags.DEFINE_string(\"model\", \"enc_utransformer\", \"transformer | utransformer | lstm | bilstm\")\n",
    "tf.app.flags.DEFINE_string(\"teacher_encoder_attention_dir\", \"top_down\", \"top_down | bottom_up\")\n",
    "tf.app.flags.DEFINE_string(\"student_encoder_attention_dir\", \"top_down\", \"top_down | bottom_up\")\n",
    "\n",
    "\n",
    "tf.app.flags.DEFINE_integer(\"teacher_hidden_dim\", 128, \"\")\n",
    "tf.app.flags.DEFINE_integer(\"teacher_encoder_depth\", 1, \"\")\n",
    "tf.app.flags.DEFINE_integer(\"teacher_decoder_depth\", 1, \"\")\n",
    "tf.app.flags.DEFINE_integer(\"student_hidden_dim\", 128, \"\")\n",
    "tf.app.flags.DEFINE_integer(\"student_encoder_depth\", 1, \"\")\n",
    "tf.app.flags.DEFINE_integer(\"student_decoder_depth\", 1, \"\")\n",
    "\n",
    "tf.app.flags.DEFINE_integer(\"input_dim\", None, \"\")\n",
    "tf.app.flags.DEFINE_integer(\"output_dim\", 1, \"\")\n",
    "tf.app.flags.DEFINE_integer(\"number_of_heads\", 4, \"\")\n",
    "tf.app.flags.DEFINE_integer(\"ff_filter_size\", 512, \"\")\n",
    "tf.app.flags.DEFINE_float(\"initializer_gain\", 1.0, \"\")\n",
    "tf.app.flags.DEFINE_float(\"teacher_label_smoothing\", 0.0001, \"\")\n",
    "tf.app.flags.DEFINE_float(\"student_label_smoothing\", 0.0001, \"\")\n",
    "\n",
    "tf.app.flags.DEFINE_boolean('teacher_train_embeddings', True, \" False | True\")\n",
    "tf.app.flags.DEFINE_boolean('student_train_embeddings', True, \" False | True\")\n",
    "\n",
    "tf.app.flags.DEFINE_string('teacher_sent_rep_mode', \"all\", \"none | final | all\")\n",
    "tf.app.flags.DEFINE_string('student_sent_rep_mode', \"all\", \"none | final | all\")\n",
    "\n",
    "tf.app.flags.DEFINE_string('teacher_attention_mechanism', None, 'attention_mechanism')\n",
    "tf.app.flags.DEFINE_string('student_attention_mechanism', None, 'attention_mechanism')\n",
    "\n",
    "\n",
    "tf.app.flags.DEFINE_float(\"teacher_input_dropout_keep_prob\", 0.8, \"\")\n",
    "tf.app.flags.DEFINE_float(\"teacher_hidden_dropout_keep_prob\", 0.25, \"\")\n",
    "tf.app.flags.DEFINE_float(\"student_input_dropout_keep_prob\", 0.8, \"\")\n",
    "tf.app.flags.DEFINE_float(\"student_hidden_dropout_keep_prob\", 0.25, \"\")\n",
    "\n",
    "\n",
    "tf.app.flags.DEFINE_float(\"teacher_learning_rate\", 0.001, \"\")\n",
    "tf.app.flags.DEFINE_float(\"student_learning_rate\", 0.001, \"\")\n",
    "tf.app.flags.DEFINE_float(\"distill_learning_rate\", 0.001, \"\")\n",
    "tf.app.flags.DEFINE_float(\"data_weight\", 0.00, \"\")\n",
    "tf.app.flags.DEFINE_float(\"distill_logits_weight\", 1.00, \"\")\n",
    "\n",
    "tf.app.flags.DEFINE_float(\"distill_temp\", 1, \"\")\n",
    "tf.app.flags.DEFINE_float(\"teacher_temp\", 1, \"\")\n",
    "tf.app.flags.DEFINE_float(\"student_temp\", 1, \"\")\n",
    "tf.app.flags.DEFINE_boolean(\"learn_to_teach\", False, \"\")\n",
    "\n",
    "\n",
    "\n",
    "tf.app.flags.DEFINE_boolean(\"decay_learning_rate\", True, \"True | False\")\n",
    "tf.app.flags.DEFINE_float(\"l2_rate\", 0.001, \"\")\n",
    "\n",
    "\n",
    "tf.app.flags.DEFINE_integer(\"batch_size\", 32, \"\")\n",
    "tf.app.flags.DEFINE_integer(\"training_iterations\", 300000, \"\")\n",
    "\n",
    "tf.app.flags.DEFINE_integer(\"vocab_size\", 3, \"\")\n",
    "tf.app.flags.DEFINE_integer(\"embedding_dim\", 128, \"embeddings dim\")\n",
    "\n",
    "tf.app.flags.DEFINE_string(\"data_path\", \"../data\", \"data path\")\n",
    "tf.app.flags.DEFINE_string(\"f\",\"\",\"kernel\")\n",
    "hparams = tf.app.flags.FLAGS"
   ]
  },
  {
   "cell_type": "code",
   "execution_count": 3,
   "metadata": {},
   "outputs": [],
   "source": [
    "Models = {\"lstm\": LSTMSeq2Seq,\n",
    "        \"bilstm\": BidiLSTMSeq2Seq,\n",
    "        \"transformer\": Transformer,\n",
    "        \"utransformer\": UniversalTransformer,\n",
    "        \"enc_transformer\": EncodingTransformer,\n",
    "        \"enc_utransformer\": EncodingUniversalTransformer}\n",
    "\n",
    "\n",
    "tasks = {'identity': AlgorithmicIdentityDecimal40(os.path.join(hparams.data_dir,'alg')),\n",
    "       'identity_binary': AlgorithmicIdentityBinary40(os.path.join(hparams.data_dir,'alg')),\n",
    "       'addition': AlgorithmicAdditionDecimal40(os.path.join(hparams.data_dir,'alg')),\n",
    "       'multiplication': AlgorithmicMultiplicationDecimal40(os.path.join(hparams.data_dir,'alg')),\n",
    "       'sort': AlgorithmicSortProblem(os.path.join(hparams.data_dir,'alg')),\n",
    "       'reverse': AlgorithmicReverseProblem(os.path.join(hparams.data_dir,'alg')),\n",
    "       'arithmatic': Arithmatic(os.path.join(hparams.data_dir,'arithmatic')),\n",
    "       'arithmatic_simple': ArithmaticSimple(os.path.join(hparams.data_dir,'arithmatic_simple')),\n",
    "       'arithmatic_samelength': ArithmaticSameLength(os.path.join(hparams.data_dir,'arithmatic_samelength')),\n",
    "       'arithmatic_simple_curriculum_length': ArithmaticSimpleCurriculumLength(os.path.join(hparams.data_dir,'arithmatic_simple_curriculum_length')),\n",
    "       'arithmatic_simple_samelength': ArithmaticSameLength(os.path.join(hparams.data_dir,'arithmatic_samelength')),\n",
    "       'arithmatic_simple_samelength10': ArithmaticSimpleSameLength10(os.path.join(hparams.data_dir,'arithmatic_simple_samelength10')),\n",
    "       'arithmatic_simple_samelength10_depth6': ArithmaticSimpleSameLength10Depth6(os.path.join(hparams.data_dir,'arithmatic_simple_samelength10_depth6')),\n",
    "       'arithmatic_simple_samelength10_depth4': ArithmaticSimpleSameLength10Depth4(os.path.join(hparams.data_dir,'arithmatic_simple_samelength10_depth4')),\n",
    "       'arithmatic_simple_samelength10_depth2': ArithmaticSimpleSameLength10Depth2(os.path.join(hparams.data_dir,'arithmatic_simple_samelength10_depth2')),\n",
    "       }\n"
   ]
  },
  {
   "cell_type": "code",
   "execution_count": 4,
   "metadata": {},
   "outputs": [],
   "source": [
    "hparams.task_name = 'arithmatic_simple_samelength10_depth2'\n",
    "hparams.vocab_size = tasks[hparams.task_name].vocab_length\n",
    "hparams.output_dim = len(tasks[hparams.task_name].target_vocab)\n",
    "\n",
    "PARAM_TYPES = {\"lstm\": LSTMHparam,\n",
    "        \"bilstm\": LSTMHparam,\n",
    "        \"transformer\": TransformerHparam,\n",
    "        \"utransformer\": TransformerHparam,\n",
    "        \"enc_transformer\": TransformerHparam,\n",
    "        \"enc_utransformer\": TransformerHparam}\n",
    "\n",
    "teacher_params = PARAM_TYPES[hparams.teacher_model](input_dim=hparams.input_dim,\n",
    "                                                  output_dim=hparams.output_dim,\n",
    "                                                  hidden_dim=hparams.teacher_hidden_dim,\n",
    "                                                  encoder_depth=hparams.teacher_encoder_depth,\n",
    "                                                  decoder_depth=hparams.teacher_decoder_depth,\n",
    "                                                  number_of_heads=2,\n",
    "                                                  ff_filter_size=512,\n",
    "                                                  initializer_gain=hparams.initializer_gain,\n",
    "                                                  batch_size=hparams.batch_size,\n",
    "                                                  input_dropout_keep_prob=hparams.teacher_input_dropout_keep_prob,\n",
    "                                                  hidden_dropout_keep_prob=hparams.teacher_hidden_dropout_keep_prob,\n",
    "                                                  vocab_size=hparams.vocab_size,\n",
    "                                                  label_smoothing=hparams.teacher_label_smoothing,\n",
    "                                                  encoder_self_attention_dir=hparams.teacher_encoder_attention_dir,\n",
    "                                                  decoder_self_attention_dir=\"top_down\",\n",
    "                                                  decoder_cross_attention_dir=\"top_down\",\n",
    "                                                  train_embeddings=hparams.teacher_train_embeddings,\n",
    "                                                  attention_mechanism=None,\n",
    "                                                  sent_rep_mode=hparams.teacher_sent_rep_mode,\n",
    "                                                  embedding_dim=hparams.teacher_hidden_dim,\n",
    "                                                  learning_rate=hparams.teacher_learning_rate\n",
    "                                                  )\n",
    "\n",
    "student_params = PARAM_TYPES[hparams.student_model](input_dim=hparams.input_dim,\n",
    "                                                  output_dim=hparams.output_dim,\n",
    "                                                  hidden_dim=hparams.student_hidden_dim,\n",
    "                                                  encoder_depth=hparams.student_encoder_depth,\n",
    "                                                  decoder_depth=hparams.student_decoder_depth,\n",
    "                                                  number_of_heads=2,\n",
    "                                                  ff_filter_size=512,\n",
    "                                                  initializer_gain=hparams.initializer_gain,\n",
    "                                                  batch_size=hparams.batch_size,\n",
    "                                                  input_dropout_keep_prob=hparams.student_input_dropout_keep_prob,\n",
    "                                                  hidden_dropout_keep_prob=hparams.student_hidden_dropout_keep_prob,\n",
    "                                                  vocab_size=hparams.vocab_size,\n",
    "                                                  label_smoothing=hparams.student_label_smoothing,\n",
    "                                                  encoder_self_attention_dir=hparams.student_encoder_attention_dir,\n",
    "                                                  decoder_self_attention_dir=\"top_down\",\n",
    "                                                  decoder_cross_attention_dir=\"top_down\",\n",
    "                                                  train_embeddings=hparams.student_train_embeddings,\n",
    "                                                  attention_mechanism=None,\n",
    "                                                  sent_rep_mode=hparams.student_sent_rep_mode,\n",
    "                                                  embedding_dim=hparams.student_hidden_dim,\n",
    "                                                  learning_rate=hparams.student_learning_rate\n",
    "                                                  )"
   ]
  },
  {
   "cell_type": "code",
   "execution_count": 5,
   "metadata": {},
   "outputs": [
    {
     "name": "stdout",
     "output_type": "stream",
     "text": [
      "lstm\n"
     ]
    }
   ],
   "source": [
    "print(hparams.student_model)\n",
    "student_model = Models[hparams.student_model](student_params,\n",
    "                                task=tasks[hparams.task_name],\n",
    "                                scope=hparams.student_model+\"_student\")"
   ]
  },
  {
   "cell_type": "code",
   "execution_count": 6,
   "metadata": {},
   "outputs": [
    {
     "name": "stdout",
     "output_type": "stream",
     "text": [
      "lstm\n"
     ]
    }
   ],
   "source": [
    "print(hparams.teacher_model)\n",
    "teacher_model = Models[hparams.teacher_model](teacher_params,\n",
    "                                task=tasks[hparams.task_name],\n",
    "                                scope=hparams.teacher_model+\"_teacher\")"
   ]
  },
  {
   "cell_type": "code",
   "execution_count": 7,
   "metadata": {},
   "outputs": [
    {
     "name": "stdout",
     "output_type": "stream",
     "text": [
      "WARNING:tensorflow:From /home/samira/anaconda3/envs/std/lib/python3.7/site-packages/tensorflow/python/data/ops/iterator_ops.py:532: colocate_with (from tensorflow.python.framework.ops) is deprecated and will be removed in a future version.\n",
      "Instructions for updating:\n",
      "Colocations handled automatically by placer.\n"
     ]
    }
   ],
   "source": [
    "dataset = tf.data.TFRecordDataset(\"../\"+student_model.task.get_tfrecord_path(mode=\"train\"))\n",
    "dataset = dataset.map(student_model.task.parse_examples)\n",
    "dataset = dataset.padded_batch(hparams.batch_size, padded_shapes=student_model.task.get_padded_shapes())\n",
    "dataset = dataset.map((lambda x1,x2,x3,x4: ((x1,x2,x3,x4),(x1,x2,x3,x4))))\n",
    "dataset = dataset.shuffle(buffer_size=1000)\n",
    "dataset = dataset.repeat()\n",
    "train_iterator = dataset.make_one_shot_iterator()\n",
    "\n",
    "dataset = tf.data.TFRecordDataset(\"../\"+student_model.task.get_tfrecord_path(mode=\"dev\"))\n",
    "dataset = dataset.map(student_model.task.parse_examples)\n",
    "dataset = dataset.padded_batch(hparams.batch_size, padded_shapes=student_model.task.get_padded_shapes())\n",
    "dataset = dataset.map((lambda x1,x2,x3,x4: ((x1,x2,x3,x4),(x1,x2,x3,x4))))\n",
    "dataset = dataset.shuffle(buffer_size=1000)\n",
    "dataset = dataset.repeat()\n",
    "dev_iterator = dataset.make_one_shot_iterator()"
   ]
  },
  {
   "cell_type": "code",
   "execution_count": 8,
   "metadata": {},
   "outputs": [
    {
     "name": "stdout",
     "output_type": "stream",
     "text": [
      "WARNING:tensorflow:From /home/samira/Codes/SolutionDistillation/distill/layers/lstm.py:22: LSTMCell.__init__ (from tensorflow.python.ops.rnn_cell_impl) is deprecated and will be removed in a future version.\n",
      "Instructions for updating:\n",
      "This class is equivalent as tf.keras.layers.LSTMCell, and will be replaced by that in Tensorflow 2.0.\n",
      "WARNING:tensorflow:<tensorflow.python.ops.rnn_cell_impl.LSTMCell object at 0x7f429e7994e0>: Note that this cell is not optimized for performance. Please use tf.contrib.cudnn_rnn.CudnnLSTM for better performance on GPU.\n",
      "WARNING:tensorflow:<tensorflow.python.ops.rnn_cell_impl.LSTMCell object at 0x7f429e75ed30>: Note that this cell is not optimized for performance. Please use tf.contrib.cudnn_rnn.CudnnLSTM for better performance on GPU.\n",
      "WARNING:tensorflow:From /home/samira/Codes/SolutionDistillation/distill/layers/lstm.py:41: MultiRNNCell.__init__ (from tensorflow.python.ops.rnn_cell_impl) is deprecated and will be removed in a future version.\n",
      "Instructions for updating:\n",
      "This class is equivalent as tf.keras.layers.StackedRNNCells, and will be replaced by that in Tensorflow 2.0.\n",
      "WARNING:tensorflow:<tensorflow.python.ops.rnn_cell_impl.LSTMCell object at 0x7f429e799748>: Note that this cell is not optimized for performance. Please use tf.contrib.cudnn_rnn.CudnnLSTM for better performance on GPU.\n",
      "WARNING:tensorflow:<tensorflow.python.ops.rnn_cell_impl.LSTMCell object at 0x7f429e7380b8>: Note that this cell is not optimized for performance. Please use tf.contrib.cudnn_rnn.CudnnLSTM for better performance on GPU.\n"
     ]
    }
   ],
   "source": [
    "teacher_train_examples, student_train_examples = train_iterator.get_next()\n",
    "teacher_dev_examples, student_dev_examples = dev_iterator.get_next()\n",
    "\n",
    "student_model.create_vars(reuse=False)\n",
    "\n"
   ]
  },
  {
   "cell_type": "code",
   "execution_count": 47,
   "metadata": {},
   "outputs": [
    {
     "name": "stdout",
     "output_type": "stream",
     "text": [
      "../logs/arithmatic_simple_samelength10_depth2/dot_product_lstm_to_lstm_std_depth1_teacher_depth1_std_hidden_dim128_teacher_hidden_dim128__indp_drop075-08_drop075-08_L2_v5/model.ckpt-126640\n"
     ]
    }
   ],
   "source": [
    "save_dir = '../logs/arithmatic_simple_samelength10_depth2/'+ \\\n",
    "'dot_product_lstm_to_lstm_std_depth1_teacher_depth1_std_hidden_dim128_teacher_hidden_dim128__indp_drop075-08_drop075-08_L2_v5'\n",
    "checkpoint = tf.train.latest_checkpoint(save_dir)\n",
    "print(checkpoint)"
   ]
  },
  {
   "cell_type": "code",
   "execution_count": 48,
   "metadata": {},
   "outputs": [
    {
     "name": "stdout",
     "output_type": "stream",
     "text": [
      "WARNING:tensorflow:<tensorflow.python.ops.rnn_cell_impl.LSTMCell object at 0x7f424c623e80>: Note that this cell is not optimized for performance. Please use tf.contrib.cudnn_rnn.CudnnLSTM for better performance on GPU.\n",
      "WARNING:tensorflow:<tensorflow.python.ops.rnn_cell_impl.LSTMCell object at 0x7f426c16c710>: Note that this cell is not optimized for performance. Please use tf.contrib.cudnn_rnn.CudnnLSTM for better performance on GPU.\n",
      "WARNING:tensorflow:<tensorflow.python.ops.rnn_cell_impl.LSTMCell object at 0x7f424c315ba8>: Note that this cell is not optimized for performance. Please use tf.contrib.cudnn_rnn.CudnnLSTM for better performance on GPU.\n",
      "WARNING:tensorflow:<tensorflow.python.ops.rnn_cell_impl.LSTMCell object at 0x7f424c315240>: Note that this cell is not optimized for performance. Please use tf.contrib.cudnn_rnn.CudnnLSTM for better performance on GPU.\n"
     ]
    }
   ],
   "source": [
    "with tfe.restore_variables_on_create(checkpoint):\n",
    "    teacher_model.create_vars(reuse=False)\n",
    "    train_output_dic = teacher_model.apply(teacher_train_examples, target_length=student_model.task.target_length, is_train=False)"
   ]
  },
  {
   "cell_type": "code",
   "execution_count": 49,
   "metadata": {},
   "outputs": [
    {
     "name": "stdout",
     "output_type": "stream",
     "text": [
      "WARNING:tensorflow:<tensorflow.python.ops.rnn_cell_impl.LSTMCell object at 0x7f424c5c2d68>: Note that this cell is not optimized for performance. Please use tf.contrib.cudnn_rnn.CudnnLSTM for better performance on GPU.\n",
      "WARNING:tensorflow:<tensorflow.python.ops.rnn_cell_impl.LSTMCell object at 0x7f424c61d198>: Note that this cell is not optimized for performance. Please use tf.contrib.cudnn_rnn.CudnnLSTM for better performance on GPU.\n",
      "WARNING:tensorflow:<tensorflow.python.ops.rnn_cell_impl.LSTMCell object at 0x7f424c623940>: Note that this cell is not optimized for performance. Please use tf.contrib.cudnn_rnn.CudnnLSTM for better performance on GPU.\n",
      "WARNING:tensorflow:<tensorflow.python.ops.rnn_cell_impl.LSTMCell object at 0x7f424c61d9b0>: Note that this cell is not optimized for performance. Please use tf.contrib.cudnn_rnn.CudnnLSTM for better performance on GPU.\n"
     ]
    },
    {
     "data": {
      "image/png": "[encoded data removed]",
      "text/plain": [
       "<Figure size 432x288 with 1 Axes>"
      ]
     },
     "metadata": {
      "needs_background": "light"
     },
     "output_type": "display_data"
    },
    {
     "data": {
      "image/png": "[encoded data removed]",
      "text/plain": [
       "<Figure size 432x288 with 1 Axes>"
      ]
     },
     "metadata": {
      "needs_background": "light"
     },
     "output_type": "display_data"
    },
    {
     "name": "stdout",
     "output_type": "stream",
     "text": [
      "WARNING:tensorflow:<tensorflow.python.ops.rnn_cell_impl.LSTMCell object at 0x7f424c6c9b00>: Note that this cell is not optimized for performance. Please use tf.contrib.cudnn_rnn.CudnnLSTM for better performance on GPU.\n",
      "WARNING:tensorflow:<tensorflow.python.ops.rnn_cell_impl.LSTMCell object at 0x7f424c3c99b0>: Note that this cell is not optimized for performance. Please use tf.contrib.cudnn_rnn.CudnnLSTM for better performance on GPU.\n",
      "WARNING:tensorflow:<tensorflow.python.ops.rnn_cell_impl.LSTMCell object at 0x7f426c0c9e48>: Note that this cell is not optimized for performance. Please use tf.contrib.cudnn_rnn.CudnnLSTM for better performance on GPU.\n",
      "WARNING:tensorflow:<tensorflow.python.ops.rnn_cell_impl.LSTMCell object at 0x7f426c0c9f98>: Note that this cell is not optimized for performance. Please use tf.contrib.cudnn_rnn.CudnnLSTM for better performance on GPU.\n"
     ]
    },
    {
     "data": {
      "image/png": "[encoded data removed]",
      "text/plain": [
       "<Figure size 432x288 with 1 Axes>"
      ]
     },
     "metadata": {
      "needs_background": "light"
     },
     "output_type": "display_data"
    },
    {
     "data": {
      "image/png": "[encoded data removed]",
      "text/plain": [
       "<Figure size 432x288 with 1 Axes>"
      ]
     },
     "metadata": {
      "needs_background": "light"
     },
     "output_type": "display_data"
    }
   ],
   "source": [
    "with tfe.restore_variables_on_create(checkpoint):\n",
    "    teacher_model.create_vars(reuse=False)\n",
    "    emb_w = teacher_model.input_embedding_layer.shared_weights\n",
    "\n",
    "\n",
    "\n",
    "pca = PCA(n_components=2)\n",
    "principalComponents = pca.fit_transform(emb_w.numpy())\n",
    "tsne = manifold.TSNE(n_components=2, init='pca', random_state=0)\n",
    "tsne_emb = tsne.fit_transform(emb_w.numpy())\n",
    "\n",
    "M_reduced_plot_test = principalComponents\n",
    "word2Ind_plot_test = student_model.task.word2id\n",
    "words = student_model.task.id2word\n",
    "plot_embeddings(M_reduced_plot_test, word2Ind_plot_test, words)\n",
    "\n",
    "M_reduced_plot_test = tsne_emb\n",
    "word2Ind_plot_test = student_model.task.word2id\n",
    "words = student_model.task.id2word\n",
    "plot_embeddings(M_reduced_plot_test, word2Ind_plot_test, words)\n",
    "\n",
    "\n",
    "with tfe.restore_variables_on_create(checkpoint):\n",
    "    student_model.create_vars(reuse=False)\n",
    "    emb_w = student_model.input_embedding_layer.shared_weights\n",
    "\n",
    "\n",
    "\n",
    "pca = PCA(n_components=2)\n",
    "principalComponents = pca.fit_transform(emb_w.numpy())\n",
    "tsne = manifold.TSNE(n_components=2, init='pca', random_state=0)\n",
    "tsne_emb = tsne.fit_transform(emb_w.numpy())\n",
    "\n",
    "M_reduced_plot_test = principalComponents\n",
    "word2Ind_plot_test = student_model.task.word2id\n",
    "words = student_model.task.id2word\n",
    "plot_embeddings(M_reduced_plot_test, word2Ind_plot_test, words)\n",
    "\n",
    "M_reduced_plot_test = tsne_emb\n",
    "word2Ind_plot_test = student_model.task.word2id\n",
    "words = student_model.task.id2word\n",
    "plot_embeddings(M_reduced_plot_test, word2Ind_plot_test, words)\n"
   ]
  },
  {
   "cell_type": "code",
   "execution_count": 50,
   "metadata": {},
   "outputs": [
    {
     "name": "stdout",
     "output_type": "stream",
     "text": [
      "['1', '+', '2', '-', '(', '2', '+', '1', ')', '+', '3', '+', '(', '2', '+', '1', ')', '-', '3', '<eos>']\n",
      "1 + 2 - ( 2 + 1 ) + 3 + ( 2 + 1 ) - 3 <eos>\n",
      "['3']\n"
     ]
    }
   ],
   "source": [
    "example_str = '1 + 2 - ( 2 + 1 ) + 3  + ( 2 + 1 ) - 3 <eos>'\n",
    "example_input = example_str.split()\n",
    "target = str(eval(example_str[0:-5]))\n",
    "encoded_example = tf.convert_to_tensor([teacher_model.task.encode(example_input)])\n",
    "encoded_target = tf.convert_to_tensor([teacher_model.task.encode(target)])\n",
    "\n",
    "print(example_input)\n",
    "example = (encoded_example, encoded_target, tf.convert_to_tensor([len(example_input)]), tf.convert_to_tensor([1]))\n",
    "\n",
    "weights_dic = {}\n",
    "with tfe.restore_variables_on_create(checkpoint):\n",
    "    teach_outputs = train_output_dic = teacher_model.apply(example, \\\n",
    "                                                     target_length=teacher_model.task.target_length, is_train=False)\n",
    "\n",
    "print(' '.join(student_model.task.decode(example[0][0])))\n",
    "print(student_model.task.decode([np.argmax(teach_outputs['logits'][0][0])]))"
   ]
  },
  {
   "cell_type": "code",
   "execution_count": 51,
   "metadata": {},
   "outputs": [],
   "source": [
    "teacher_train_examples, student_train_examples = train_iterator.get_next()\n",
    "teacher_dev_examples, student_dev_examples = dev_iterator.get_next()\n",
    "\n",
    "with tfe.restore_variables_on_create(checkpoint):\n",
    "    train_output_dic = teacher_model.apply(teacher_train_examples, target_length=teacher_model.task.target_length, is_train=False)"
   ]
  },
  {
   "cell_type": "code",
   "execution_count": 52,
   "metadata": {},
   "outputs": [
    {
     "data": {
      "text/plain": [
       "array([[ True],\n",
       "       [ True],\n",
       "       [ True],\n",
       "       [ True],\n",
       "       [ True],\n",
       "       [ True],\n",
       "       [ True],\n",
       "       [ True],\n",
       "       [False],\n",
       "       [ True],\n",
       "       [ True],\n",
       "       [ True],\n",
       "       [ True],\n",
       "       [ True],\n",
       "       [ True],\n",
       "       [ True],\n",
       "       [False],\n",
       "       [ True],\n",
       "       [ True],\n",
       "       [ True],\n",
       "       [ True],\n",
       "       [ True],\n",
       "       [ True],\n",
       "       [ True],\n",
       "       [ True],\n",
       "       [ True],\n",
       "       [ True],\n",
       "       [ True],\n",
       "       [ True],\n",
       "       [ True],\n",
       "       [ True],\n",
       "       [ True]])"
      ]
     },
     "execution_count": 52,
     "metadata": {},
     "output_type": "execute_result"
    }
   ],
   "source": [
    "np.argmax(train_output_dic['logits'], axis=-1) == train_output_dic['targets'].numpy()"
   ]
  },
  {
   "cell_type": "code",
   "execution_count": 53,
   "metadata": {},
   "outputs": [
    {
     "data": {
      "text/plain": [
       "array([[ 7],\n",
       "       [ 6],\n",
       "       [ 3],\n",
       "       [ 4],\n",
       "       [ 4],\n",
       "       [10],\n",
       "       [ 7],\n",
       "       [ 4],\n",
       "       [11],\n",
       "       [ 7],\n",
       "       [ 4],\n",
       "       [11],\n",
       "       [11],\n",
       "       [10],\n",
       "       [11],\n",
       "       [11],\n",
       "       [ 4],\n",
       "       [ 8],\n",
       "       [10],\n",
       "       [ 8],\n",
       "       [ 9],\n",
       "       [ 7],\n",
       "       [ 4],\n",
       "       [ 9],\n",
       "       [10],\n",
       "       [10],\n",
       "       [ 2],\n",
       "       [ 3],\n",
       "       [ 6],\n",
       "       [10],\n",
       "       [ 3],\n",
       "       [ 7]])"
      ]
     },
     "execution_count": 53,
     "metadata": {},
     "output_type": "execute_result"
    }
   ],
   "source": [
    "np.argmax(train_output_dic['logits'], axis=-1)"
   ]
  },
  {
   "cell_type": "code",
   "execution_count": 54,
   "metadata": {},
   "outputs": [
    {
     "name": "stdout",
     "output_type": "stream",
     "text": [
      "(32, 16)\n"
     ]
    },
    {
     "data": {
      "image/png": "[encoded data removed]",
      "text/plain": [
       "<Figure size 432x288 with 1 Axes>"
      ]
     },
     "metadata": {
      "needs_background": "light"
     },
     "output_type": "display_data"
    },
    {
     "data": {
      "image/png": "[encoded data removed]",
      "text/plain": [
       "<Figure size 432x288 with 1 Axes>"
      ]
     },
     "metadata": {
      "needs_background": "light"
     },
     "output_type": "display_data"
    }
   ],
   "source": [
    "print(train_output_dic['logits'].numpy()[:,0,:].shape)\n",
    "\n",
    "points = train_output_dic['logits'].numpy()[:,0,:]\n",
    "pca = PCA(n_components=2)\n",
    "principalComponents = pca.fit_transform(points)\n",
    "\n",
    "tsne = manifold.TSNE(n_components=2, init='pca', random_state=0)\n",
    "tsne_emb = tsne.fit_transform(points)\n",
    "\n",
    "M_reduced_plot_test = principalComponents\n",
    "word2Ind_plot_test = student_model.task.word2id\n",
    "words = student_model.task.id2word\n",
    "plot_embeddings(M_reduced_plot_test, word2Ind_plot_test, words)\n",
    "\n",
    "M_reduced_plot_test = tsne_emb\n",
    "word2Ind_plot_test = student_model.task.word2id\n",
    "words = student_model.task.id2word\n",
    "plot_embeddings(M_reduced_plot_test, word2Ind_plot_test, words)"
   ]
  },
  {
   "cell_type": "code",
   "execution_count": 55,
   "metadata": {},
   "outputs": [],
   "source": [
    "examples_inputs = []\n",
    "examples_targets = []\n",
    "target_lens = []\n",
    "input_lens = []\n",
    "for i in student_model.task.id2word:\n",
    "    example_str = i+' <eos>'\n",
    "    example_input = example_str.split()\n",
    "    examples_inputs.append(teacher_model.task.encode(example_input))\n",
    "    try:\n",
    "        target = str(eval(example_str[0:-5]))\n",
    "        examples_targets.append(teacher_model.task.encode(target))\n",
    "    except:\n",
    "        target = 0\n",
    "    target_lens.append(1)\n",
    "    input_lens.append(len(example_input))\n",
    "    \n",
    "    \n",
    "encoded_example = tf.convert_to_tensor(examples_inputs)\n",
    "encoded_target = tf.convert_to_tensor(examples_targets)\n",
    "\n",
    "example = (encoded_example, encoded_target, tf.convert_to_tensor(input_lens), tf.convert_to_tensor(target_lens))\n",
    "\n",
    "weights_dic = {}\n",
    "with tfe.restore_variables_on_create(checkpoint):\n",
    "    teach_outputs = teacher_model.apply(example, target_length=teacher_model.task.target_length, is_train=False)\n",
    "    student_outputs = student_model.apply(example, target_length=student_model.task.target_length, is_train=False)"
   ]
  },
  {
   "cell_type": "code",
   "execution_count": 56,
   "metadata": {},
   "outputs": [
    {
     "data": {
      "text/plain": [
       "[(array([6]), array([5]), array([2], dtype=int32)),\n",
       " (array([5]), array([3]), array([3], dtype=int32)),\n",
       " (array([4]), array([3]), array([4], dtype=int32)),\n",
       " (array([3]), array([3]), array([5], dtype=int32)),\n",
       " (array([4]), array([4]), array([6], dtype=int32)),\n",
       " (array([5]), array([5]), array([7], dtype=int32)),\n",
       " (array([6]), array([6]), array([8], dtype=int32)),\n",
       " (array([7]), array([7]), array([9], dtype=int32)),\n",
       " (array([8]), array([8]), array([10], dtype=int32)),\n",
       " (array([9]), array([9]), array([11], dtype=int32))]"
      ]
     },
     "execution_count": 56,
     "metadata": {},
     "output_type": "execute_result"
    }
   ],
   "source": [
    "list(zip(np.argmax(teach_outputs['logits'], axis=-1), np.argmax(student_outputs['logits'], axis=-1), teach_outputs['targets'].numpy()))"
   ]
  },
  {
   "cell_type": "code",
   "execution_count": 59,
   "metadata": {},
   "outputs": [
    {
     "data": {
      "image/png": "[encoded data removed]",
      "text/plain": [
       "<Figure size 432x288 with 1 Axes>"
      ]
     },
     "metadata": {
      "needs_background": "light"
     },
     "output_type": "display_data"
    },
    {
     "data": {
      "image/png": "[encoded data removed]",
      "text/plain": [
       "<Figure size 432x288 with 1 Axes>"
      ]
     },
     "metadata": {
      "needs_background": "light"
     },
     "output_type": "display_data"
    },
    {
     "data": {
      "image/png": "[encoded data removed]",
      "text/plain": [
       "<Figure size 432x288 with 1 Axes>"
      ]
     },
     "metadata": {
      "needs_background": "light"
     },
     "output_type": "display_data"
    },
    {
     "data": {
      "image/png": "[encoded data removed]",
      "text/plain": [
       "<Figure size 432x288 with 1 Axes>"
      ]
     },
     "metadata": {
      "needs_background": "light"
     },
     "output_type": "display_data"
    }
   ],
   "source": [
    "reps = teach_outputs['outputs'].numpy()[:,0,:]\n",
    "\n",
    "\n",
    "points = reps\n",
    "pca = PCA(n_components=2)\n",
    "principalComponents = pca.fit_transform(points)\n",
    "\n",
    "tsne = manifold.TSNE(n_components=2, init='pca', random_state=0)\n",
    "tsne_emb = tsne.fit_transform(points)\n",
    "\n",
    "M_reduced_plot_test = principalComponents\n",
    "word2Ind_plot_test = student_model.task.word2id\n",
    "words = student_model.task.id2word\n",
    "plot_embeddings(M_reduced_plot_test, word2Ind_plot_test, words)\n",
    "\n",
    "M_reduced_plot_test = tsne_emb\n",
    "word2Ind_plot_test = student_model.task.word2id\n",
    "words = student_model.task.id2word\n",
    "plot_embeddings(M_reduced_plot_test, word2Ind_plot_test, words)\n",
    "\n",
    "\n",
    "\n",
    "reps = student_outputs['outputs'].numpy()[:,0,:]\n",
    "\n",
    "\n",
    "points = reps\n",
    "pca = PCA(n_components=2)\n",
    "principalComponents = pca.fit_transform(points)\n",
    "\n",
    "tsne = manifold.TSNE(n_components=2, init='pca', random_state=0, perplexity=1)\n",
    "tsne_emb = tsne.fit_transform(points)\n",
    "\n",
    "M_reduced_plot_test = principalComponents\n",
    "word2Ind_plot_test = student_model.task.word2id\n",
    "words = student_model.task.id2word\n",
    "plot_embeddings(M_reduced_plot_test, word2Ind_plot_test, words)\n",
    "\n",
    "M_reduced_plot_test = tsne_emb\n",
    "word2Ind_plot_test = student_model.task.word2id\n",
    "words = student_model.task.id2word\n",
    "plot_embeddings(M_reduced_plot_test, word2Ind_plot_test, words)"
   ]
  },
  {
   "cell_type": "code",
   "execution_count": null,
   "metadata": {},
   "outputs": [],
   "source": []
  }
 ],
 "metadata": {
  "kernelspec": {
   "display_name": "Python 3",
   "language": "python",
   "name": "python3"
  },
  "language_info": {
   "codemirror_mode": {
    "name": "ipython",
    "version": 3
   },
   "file_extension": ".py",
   "mimetype": "text/x-python",
   "name": "python",
   "nbconvert_exporter": "python",
   "pygments_lexer": "ipython3",
   "version": "3.7.3"
  }
 },
 "nbformat": 4,
 "nbformat_minor": 4
}
