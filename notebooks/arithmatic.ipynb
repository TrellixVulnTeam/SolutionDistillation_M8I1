{
 "cells": [
  {
   "cell_type": "code",
   "execution_count": 1,
   "metadata": {},
   "outputs": [],
   "source": [
    "import sys,os,os.path\n",
    "sys.path.append(os.path.expanduser('~/Codes/SolutionDistillation'))\n",
    "import numpy as np\n",
    "import tensorflow as tf\n",
    "import os\n",
    "from distill.common.hparams import TransformerHparam, LSTMHparam\n",
    "from distill.data_util.prep_algorithmic import AlgorithmicIdentityDecimal40, AlgorithmicAdditionDecimal40, \\\n",
    "  AlgorithmicMultiplicationDecimal40, AlgorithmicSortProblem, AlgorithmicReverseProblem, AlgorithmicIdentityBinary40\n",
    "from distill.data_util.prep_arithmatic import Arithmatic, ArithmaticSimpleSameLength10\n",
    "from distill.data_util.prep_imdb import IMDB\n",
    "from distill.data_util.prep_ptb import PTB\n",
    "from distill.data_util.prep_sst import SST\n",
    "from distill.data_util.prep_wsj_parsing import ParseWSJ\n",
    "from distill.models.lstm_seq2seq import LSTMSeq2Seq, BidiLSTMSeq2Seq\n",
    "from distill.models.transformer import Transformer, UniversalTransformer, EncodingTransformer, \\\n",
    "  EncodingUniversalTransformer\n",
    "from distill.pipelines.seq2seq import Seq2SeqTrainer\n",
    "from distill.models.transformer import Transformer, UniversalTransformer, EncodingTransformer, \\\n",
    "  EncodingUniversalTransformer\n",
    "from distill.pipelines.distill_pipelines import Seq2SeqDistiller\n",
    "from distill.pipelines.seq2seq import Seq2SeqTrainer\n",
    "\n",
    "# Enable TF Eager execution\n",
    "tfe = tf.contrib.eager\n",
    "tfe.enable_eager_execution()\n",
    "\n",
    "# Other setup\n",
    "Modes = tf.estimator.ModeKeys"
   ]
  },
  {
   "cell_type": "code",
   "execution_count": 2,
   "metadata": {},
   "outputs": [
    {
     "name": "stdout",
     "output_type": "stream",
     "text": [
      "['<pad>', '<eos>', '0', '1', '2', '3', '4', '5', '6', '7', '8', '9', '(', ')', '+', '-']\n",
      "0 <pad>\n",
      "1 <eos>\n",
      "2 0\n",
      "3 1\n",
      "4 2\n",
      "5 3\n",
      "6 4\n",
      "7 5\n",
      "8 6\n",
      "9 7\n",
      "10 8\n",
      "11 9\n",
      "12 (\n",
      "13 )\n",
      "14 +\n",
      "15 -\n"
     ]
    }
   ],
   "source": [
    "\n",
    "task = ArithmaticSimpleSameLength10('data/arithmatic_simple_samelength10')\n",
    "\n",
    "transformer_params = TransformerHparam(input_dim=task.vocab_length,\n",
    "                                         hidden_dim=300,\n",
    "                                         output_dim=len(task.target_vocab),\n",
    "                                         encoder_depth=2,\n",
    "                                         decoder_depth=1,\n",
    "                                         number_of_heads=2,\n",
    "                                         ff_filter_size=512,\n",
    "                                         initializer_gain=0.1,\n",
    "                                         batch_size=32,\n",
    "                                         input_dropout_keep_prob=1.0,\n",
    "                                         hidden_dropout_keep_prob=1.0,\n",
    "                                         vocab_size=task.vocab_length,\n",
    "                                         label_smoothing=0.1,\n",
    "                                         encoder_self_attention_dir=\"top_down\",\n",
    "                                         decoder_self_attention_dir=\"top_down\",\n",
    "                                         decoder_cross_attention_dir=\"top_down\",\n",
    "                                         train_embeddings=False,\n",
    "                                         learning_rate=0.001\n",
    "                                         )\n",
    "trainer = Seq2SeqTrainer(transformer_params, None, task)\n",
    "\n"
   ]
  },
  {
   "cell_type": "code",
   "execution_count": 3,
   "metadata": {},
   "outputs": [
    {
     "name": "stdout",
     "output_type": "stream",
     "text": [
      "WARNING:tensorflow:From /home/samira/anaconda3/envs/std/lib/python3.7/site-packages/tensorflow/python/data/ops/iterator_ops.py:532: colocate_with (from tensorflow.python.framework.ops) is deprecated and will be removed in a future version.\n",
      "Instructions for updating:\n",
      "Colocations handled automatically by placer.\n"
     ]
    }
   ],
   "source": [
    "train_dataset = tf.data.TFRecordDataset(\"../\"+task.get_tfrecord_path(mode=\"train\"))\n",
    "train_dataset = train_dataset.map(task.parse_examples)\n",
    "train_dataset = train_dataset.padded_batch(100, padded_shapes=task.get_padded_shapes())\n",
    "train_dataset = train_dataset.map((lambda x1,x2,x3,x4: ((x1,x2,x3,x4),(x1,x2,x3,x4))))\n",
    "train_dataset = train_dataset.shuffle(buffer_size=100)\n",
    "train_dataset = train_dataset.repeat()\n",
    "\n",
    "train_examples = tfe.Iterator(train_dataset).next()\n",
    "\n",
    "\n",
    "\n",
    "dev_dataset = tf.data.TFRecordDataset(\"../\"+task.get_tfrecord_path(mode=\"dev\"))\n",
    "dev_dataset = dev_dataset.map(task.parse_examples)\n",
    "dev_dataset = dev_dataset.padded_batch(100, padded_shapes=task.get_padded_shapes())\n",
    "dev_dataset = dev_dataset.shuffle(buffer_size=100)\n",
    "dev_dataset = dev_dataset.repeat()\n",
    "\n",
    "dev_examples = tfe.Iterator(dev_dataset).next()\n",
    "\n",
    "\n",
    "\n",
    "\n",
    "test_dataset = tf.data.TFRecordDataset(\"../\"+task.get_tfrecord_path(mode=\"test\"))\n",
    "test_dataset = test_dataset.map(task.parse_examples)\n",
    "test_dataset = test_dataset.padded_batch(100, padded_shapes=task.get_padded_shapes())\n",
    "test_dataset = test_dataset.shuffle(buffer_size=100)\n",
    "test_dataset = test_dataset.repeat()\n",
    "\n",
    "test_examples = tfe.Iterator(test_dataset).next()\n"
   ]
  },
  {
   "cell_type": "code",
   "execution_count": 4,
   "metadata": {},
   "outputs": [],
   "source": [
    "x,y= train_examples"
   ]
  },
  {
   "cell_type": "code",
   "execution_count": 5,
   "metadata": {},
   "outputs": [
    {
     "data": {
      "text/plain": [
       "<tf.Tensor: id=61, shape=(100, 78), dtype=int64, numpy=\n",
       "array([[12, 12,  5, ...,  0,  0,  0],\n",
       "       [12,  9, 14, ...,  0,  0,  0],\n",
       "       [12, 12, 12, ...,  0,  0,  0],\n",
       "       ...,\n",
       "       [12,  6, 15, ...,  0,  0,  0],\n",
       "       [12, 12,  6, ...,  0,  0,  0],\n",
       "       [ 8,  1,  0, ...,  0,  0,  0]])>"
      ]
     },
     "execution_count": 5,
     "metadata": {},
     "output_type": "execute_result"
    }
   ],
   "source": [
    "x[0]"
   ]
  },
  {
   "cell_type": "code",
   "execution_count": 6,
   "metadata": {},
   "outputs": [
    {
     "data": {
      "text/plain": [
       "<tf.Tensor: id=66, shape=(100, 1), dtype=int64, numpy=\n",
       "array([[8],\n",
       "       [8],\n",
       "       [3],\n",
       "       [8],\n",
       "       [8],\n",
       "       [0],\n",
       "       [7],\n",
       "       [6],\n",
       "       [9],\n",
       "       [2],\n",
       "       [1],\n",
       "       [7],\n",
       "       [3],\n",
       "       [4],\n",
       "       [9],\n",
       "       [7],\n",
       "       [5],\n",
       "       [5],\n",
       "       [3],\n",
       "       [5],\n",
       "       [4],\n",
       "       [3],\n",
       "       [9],\n",
       "       [2],\n",
       "       [8],\n",
       "       [6],\n",
       "       [5],\n",
       "       [7],\n",
       "       [6],\n",
       "       [6],\n",
       "       [5],\n",
       "       [1],\n",
       "       [0],\n",
       "       [4],\n",
       "       [8],\n",
       "       [0],\n",
       "       [3],\n",
       "       [3],\n",
       "       [4],\n",
       "       [2],\n",
       "       [8],\n",
       "       [2],\n",
       "       [4],\n",
       "       [8],\n",
       "       [1],\n",
       "       [0],\n",
       "       [8],\n",
       "       [6],\n",
       "       [9],\n",
       "       [0],\n",
       "       [6],\n",
       "       [5],\n",
       "       [8],\n",
       "       [5],\n",
       "       [7],\n",
       "       [4],\n",
       "       [5],\n",
       "       [6],\n",
       "       [6],\n",
       "       [3],\n",
       "       [1],\n",
       "       [1],\n",
       "       [3],\n",
       "       [5],\n",
       "       [0],\n",
       "       [7],\n",
       "       [9],\n",
       "       [2],\n",
       "       [7],\n",
       "       [4],\n",
       "       [0],\n",
       "       [1],\n",
       "       [9],\n",
       "       [6],\n",
       "       [3],\n",
       "       [8],\n",
       "       [9],\n",
       "       [0],\n",
       "       [1],\n",
       "       [6],\n",
       "       [8],\n",
       "       [6],\n",
       "       [4],\n",
       "       [6],\n",
       "       [6],\n",
       "       [8],\n",
       "       [2],\n",
       "       [7],\n",
       "       [8],\n",
       "       [9],\n",
       "       [0],\n",
       "       [7],\n",
       "       [5],\n",
       "       [4],\n",
       "       [5],\n",
       "       [8],\n",
       "       [4],\n",
       "       [4],\n",
       "       [0],\n",
       "       [6]])>"
      ]
     },
     "execution_count": 6,
     "metadata": {},
     "output_type": "execute_result"
    }
   ],
   "source": [
    "y[1]"
   ]
  },
  {
   "cell_type": "code",
   "execution_count": 7,
   "metadata": {},
   "outputs": [],
   "source": [
    "def get_stats_from_examples(batched_examples):\n",
    "    lengthes = []\n",
    "    targets = []\n",
    "    for example_inputs, example_targets in zip(batched_examples[0], batched_examples[1]):\n",
    "        np_example_inputs = example_inputs.numpy()\n",
    "        np_example_targets = example_targets.numpy()[0]\n",
    "        if 0 in list(np_example_inputs):\n",
    "            length = list(np_example_inputs).index(0)\n",
    "        else:\n",
    "            length = len(np_example_inputs)\n",
    "        lengthes.append(length)\n",
    "        targets.append(np_example_targets)\n",
    "    return lengthes, targets"
   ]
  },
  {
   "cell_type": "code",
   "execution_count": 8,
   "metadata": {},
   "outputs": [
    {
     "name": "stdout",
     "output_type": "stream",
     "text": [
      "Requirement already satisfied: matplotlib in /home/samira/anaconda3/envs/std/lib/python3.7/site-packages (3.1.0)\n",
      "Requirement already satisfied: pyparsing!=2.0.4,!=2.1.2,!=2.1.6,>=2.0.1 in /home/samira/anaconda3/envs/std/lib/python3.7/site-packages (from matplotlib) (2.4.0)\n",
      "Requirement already satisfied: python-dateutil>=2.1 in /home/samira/anaconda3/envs/std/lib/python3.7/site-packages (from matplotlib) (2.8.0)\n",
      "Requirement already satisfied: kiwisolver>=1.0.1 in /home/samira/anaconda3/envs/std/lib/python3.7/site-packages (from matplotlib) (1.1.0)\n",
      "Requirement already satisfied: cycler>=0.10 in /home/samira/anaconda3/envs/std/lib/python3.7/site-packages (from matplotlib) (0.10.0)\n",
      "Requirement already satisfied: numpy>=1.11 in /home/samira/anaconda3/envs/std/lib/python3.7/site-packages (from matplotlib) (1.16.3)\n",
      "Requirement already satisfied: six>=1.5 in /home/samira/anaconda3/envs/std/lib/python3.7/site-packages (from python-dateutil>=2.1->matplotlib) (1.12.0)\n",
      "Requirement already satisfied: setuptools in /home/samira/anaconda3/envs/std/lib/python3.7/site-packages (from kiwisolver>=1.0.1->matplotlib) (41.0.0)\n"
     ]
    }
   ],
   "source": [
    "!pip install matplotlib"
   ]
  },
  {
   "cell_type": "code",
   "execution_count": 9,
   "metadata": {},
   "outputs": [
    {
     "ename": "ValueError",
     "evalue": "The truth value of an array with more than one element is ambiguous. Use a.any() or a.all()",
     "output_type": "error",
     "traceback": [
      "\u001b[0;31m---------------------------------------------------------------------------\u001b[0m",
      "\u001b[0;31mValueError\u001b[0m                                Traceback (most recent call last)",
      "\u001b[0;32m<ipython-input-9-b8610c55fb41>\u001b[0m in \u001b[0;36m<module>\u001b[0;34m\u001b[0m\n\u001b[1;32m      4\u001b[0m \u001b[0;34m\u001b[0m\u001b[0m\n\u001b[1;32m      5\u001b[0m \u001b[0;34m\u001b[0m\u001b[0m\n\u001b[0;32m----> 6\u001b[0;31m \u001b[0mlengthes\u001b[0m\u001b[0;34m,\u001b[0m \u001b[0mtargets\u001b[0m \u001b[0;34m=\u001b[0m \u001b[0mget_stats_from_examples\u001b[0m\u001b[0;34m(\u001b[0m\u001b[0mtrain_examples\u001b[0m\u001b[0;34m)\u001b[0m\u001b[0;34m\u001b[0m\u001b[0;34m\u001b[0m\u001b[0m\n\u001b[0m\u001b[1;32m      7\u001b[0m \u001b[0;34m\u001b[0m\u001b[0m\n\u001b[1;32m      8\u001b[0m \u001b[0mn\u001b[0m\u001b[0;34m,\u001b[0m \u001b[0mbins\u001b[0m\u001b[0;34m,\u001b[0m \u001b[0mpatches\u001b[0m \u001b[0;34m=\u001b[0m \u001b[0mplt\u001b[0m\u001b[0;34m.\u001b[0m\u001b[0mhist\u001b[0m\u001b[0;34m(\u001b[0m\u001b[0mlengthes\u001b[0m\u001b[0;34m,\u001b[0m \u001b[0;36m100\u001b[0m\u001b[0;34m,\u001b[0m \u001b[0mdensity\u001b[0m\u001b[0;34m=\u001b[0m\u001b[0;32mTrue\u001b[0m\u001b[0;34m,\u001b[0m \u001b[0mfacecolor\u001b[0m\u001b[0;34m=\u001b[0m\u001b[0;34m'g'\u001b[0m\u001b[0;34m,\u001b[0m \u001b[0malpha\u001b[0m\u001b[0;34m=\u001b[0m\u001b[0;36m0.75\u001b[0m\u001b[0;34m)\u001b[0m\u001b[0;34m\u001b[0m\u001b[0;34m\u001b[0m\u001b[0m\n",
      "\u001b[0;32m<ipython-input-7-b5602387a6aa>\u001b[0m in \u001b[0;36mget_stats_from_examples\u001b[0;34m(batched_examples)\u001b[0m\n\u001b[1;32m      5\u001b[0m         \u001b[0mnp_example_inputs\u001b[0m \u001b[0;34m=\u001b[0m \u001b[0mexample_inputs\u001b[0m\u001b[0;34m.\u001b[0m\u001b[0mnumpy\u001b[0m\u001b[0;34m(\u001b[0m\u001b[0;34m)\u001b[0m\u001b[0;34m\u001b[0m\u001b[0;34m\u001b[0m\u001b[0m\n\u001b[1;32m      6\u001b[0m         \u001b[0mnp_example_targets\u001b[0m \u001b[0;34m=\u001b[0m \u001b[0mexample_targets\u001b[0m\u001b[0;34m.\u001b[0m\u001b[0mnumpy\u001b[0m\u001b[0;34m(\u001b[0m\u001b[0;34m)\u001b[0m\u001b[0;34m[\u001b[0m\u001b[0;36m0\u001b[0m\u001b[0;34m]\u001b[0m\u001b[0;34m\u001b[0m\u001b[0;34m\u001b[0m\u001b[0m\n\u001b[0;32m----> 7\u001b[0;31m         \u001b[0;32mif\u001b[0m \u001b[0;36m0\u001b[0m \u001b[0;32min\u001b[0m \u001b[0mlist\u001b[0m\u001b[0;34m(\u001b[0m\u001b[0mnp_example_inputs\u001b[0m\u001b[0;34m)\u001b[0m\u001b[0;34m:\u001b[0m\u001b[0;34m\u001b[0m\u001b[0;34m\u001b[0m\u001b[0m\n\u001b[0m\u001b[1;32m      8\u001b[0m             \u001b[0mlength\u001b[0m \u001b[0;34m=\u001b[0m \u001b[0mlist\u001b[0m\u001b[0;34m(\u001b[0m\u001b[0mnp_example_inputs\u001b[0m\u001b[0;34m)\u001b[0m\u001b[0;34m.\u001b[0m\u001b[0mindex\u001b[0m\u001b[0;34m(\u001b[0m\u001b[0;36m0\u001b[0m\u001b[0;34m)\u001b[0m\u001b[0;34m\u001b[0m\u001b[0;34m\u001b[0m\u001b[0m\n\u001b[1;32m      9\u001b[0m         \u001b[0;32melse\u001b[0m\u001b[0;34m:\u001b[0m\u001b[0;34m\u001b[0m\u001b[0;34m\u001b[0m\u001b[0m\n",
      "\u001b[0;31mValueError\u001b[0m: The truth value of an array with more than one element is ambiguous. Use a.any() or a.all()"
     ]
    }
   ],
   "source": [
    "import matplotlib.pyplot as plt\n",
    "import matplotlib.image as mpimg\n",
    "%matplotlib inline  \n",
    "\n",
    "\n",
    "lengthes, targets = get_stats_from_examples(train_examples)\n",
    "\n",
    "n, bins, patches = plt.hist(lengthes, 100, density=True, facecolor='g', alpha=0.75)\n",
    "plt.show()\n",
    "\n",
    "n, bins, patches = plt.hist(targets, 100, density=True, facecolor='g', alpha=0.75)\n",
    "plt.show()"
   ]
  },
  {
   "cell_type": "code",
   "execution_count": null,
   "metadata": {},
   "outputs": [],
   "source": [
    "\n",
    "\n",
    "import matplotlib.pyplot as plt\n",
    "import matplotlib.image as mpimg\n",
    "%matplotlib inline  \n",
    "\n",
    "\n",
    "lengthes, targets = get_stats_from_examples(dev_examples)\n",
    "\n",
    "n, bins, patches = plt.hist(lengthes, 20, density=True, facecolor='g', alpha=0.75)\n",
    "plt.show()\n",
    "\n",
    "n, bins, patches = plt.hist(targets, 20, density=True, facecolor='g', alpha=0.75)\n",
    "plt.show()"
   ]
  },
  {
   "cell_type": "code",
   "execution_count": 10,
   "metadata": {},
   "outputs": [
    {
     "data": {
      "image/png": "[encoded data removed]",
      "text/plain": [
       "<Figure size 432x288 with 1 Axes>"
      ]
     },
     "metadata": {
      "needs_background": "light"
     },
     "output_type": "display_data"
    },
    {
     "data": {
      "image/png": "[encoded data removed]",
      "text/plain": [
       "<Figure size 432x288 with 1 Axes>"
      ]
     },
     "metadata": {
      "needs_background": "light"
     },
     "output_type": "display_data"
    }
   ],
   "source": [
    "\n",
    "\n",
    "import matplotlib.pyplot as plt\n",
    "import matplotlib.image as mpimg\n",
    "%matplotlib inline  \n",
    "\n",
    "\n",
    "lengthes, targets = get_stats_from_examples(test_examples)\n",
    "\n",
    "n, bins, patches = plt.hist(lengthes, 20, density=True, facecolor='g', alpha=0.75)\n",
    "plt.show()\n",
    "\n",
    "n, bins, patches = plt.hist(targets, 20, density=True, facecolor='g', alpha=0.75)\n",
    "plt.show()"
   ]
  },
  {
   "cell_type": "code",
   "execution_count": 9,
   "metadata": {},
   "outputs": [
    {
     "name": "stdout",
     "output_type": "stream",
     "text": [
      "['1', '+', '1']\n"
     ]
    }
   ],
   "source": [
    "print(task.decode(task.encode(str(\"1 + 1\").split())))\n"
   ]
  },
  {
   "cell_type": "code",
   "execution_count": 7,
   "metadata": {},
   "outputs": [
    {
     "name": "stdout",
     "output_type": "stream",
     "text": [
      "3\n",
      "( ( 5 + ( 1 + 1 ) ) + 1 ) <eos>                                                                \n",
      "8\n",
      "['6']\n",
      "( ( 5 + ( 1 + 1 ) ) + 1 ) <eos>                                                                \n",
      "8\n",
      "tf.Tensor([8], shape=(1,), dtype=int64)\n"
     ]
    }
   ],
   "source": [
    "i = np.random.randint(len(train_examples))\n",
    "print(i)\n",
    "example_inputs, example_targets = list(zip(train_examples[0], train_examples[1]))[i]\n",
    "print(' '.join(task.decode(example_inputs)).replace('<pad>',''))\n",
    "print(eval(' '.join(task.decode(example_inputs)).replace('<pad>','').replace('<eos>', '')))\n",
    "\n",
    "print(task.decode((example_targets)))\n",
    "\n",
    "\n",
    "print(' '.join(task.decode(example_inputs)).replace('<pad>',''))\n",
    "print(eval(' '.join(task.decode(example_inputs)).replace('<pad>','').replace('<eos>', '')))\n",
    "\n",
    "print(example_targets)\n"
   ]
  },
  {
   "cell_type": "code",
   "execution_count": 11,
   "metadata": {},
   "outputs": [
    {
     "ename": "NameError",
     "evalue": "name 'example_targets' is not defined",
     "output_type": "error",
     "traceback": [
      "\u001b[0;31m---------------------------------------------------------------------------\u001b[0m",
      "\u001b[0;31mNameError\u001b[0m                                 Traceback (most recent call last)",
      "\u001b[0;32m<ipython-input-11-65359596f353>\u001b[0m in \u001b[0;36m<module>\u001b[0;34m\u001b[0m\n\u001b[1;32m      5\u001b[0m \u001b[0mdistiller\u001b[0m \u001b[0;34m=\u001b[0m \u001b[0mSeq2SeqDistiller\u001b[0m\u001b[0;34m(\u001b[0m\u001b[0mtransformer_params\u001b[0m\u001b[0;34m,\u001b[0m \u001b[0mmodel_1\u001b[0m\u001b[0;34m,\u001b[0m \u001b[0mmodel_2\u001b[0m\u001b[0;34m,\u001b[0m \u001b[0mtrainer\u001b[0m\u001b[0;34m)\u001b[0m\u001b[0;34m\u001b[0m\u001b[0;34m\u001b[0m\u001b[0m\n\u001b[1;32m      6\u001b[0m \u001b[0;34m\u001b[0m\u001b[0m\n\u001b[0;32m----> 7\u001b[0;31m \u001b[0mtrainer\u001b[0m\u001b[0;34m.\u001b[0m\u001b[0mcompute_loss\u001b[0m\u001b[0;34m(\u001b[0m\u001b[0mtf\u001b[0m\u001b[0;34m.\u001b[0m\u001b[0mone_hot\u001b[0m\u001b[0;34m(\u001b[0m\u001b[0mexample_targets\u001b[0m\u001b[0;34m,\u001b[0m\u001b[0;36m10\u001b[0m\u001b[0;34m)\u001b[0m\u001b[0;34m,\u001b[0m\u001b[0mexample_targets\u001b[0m\u001b[0;34m)\u001b[0m\u001b[0;34m\u001b[0m\u001b[0;34m\u001b[0m\u001b[0m\n\u001b[0m",
      "\u001b[0;31mNameError\u001b[0m: name 'example_targets' is not defined"
     ]
    }
   ],
   "source": [
    "model_1 = EncodingTransformer(transformer_params, task, \"model_1\")\n",
    "model_2 = EncodingTransformer(transformer_params, task, \"model_2\")\n",
    "\n",
    "trainer = Seq2SeqTrainer(transformer_params, model_1, task)\n",
    "distiller = Seq2SeqDistiller(transformer_params, model_1, model_2, trainer)\n",
    "    \n",
    "trainer.compute_loss(tf.one_hot(example_targets,10),example_targets)"
   ]
  },
  {
   "cell_type": "code",
   "execution_count": 29,
   "metadata": {},
   "outputs": [
    {
     "data": {
      "text/plain": [
       "<tf.Tensor: id=30195, shape=(1,), dtype=int64, numpy=array([0])>"
      ]
     },
     "execution_count": 29,
     "metadata": {},
     "output_type": "execute_result"
    }
   ],
   "source": [
    "example_targets"
   ]
  },
  {
   "cell_type": "code",
   "execution_count": 30,
   "metadata": {},
   "outputs": [
    {
     "data": {
      "text/plain": [
       "<tf.Tensor: id=41939, shape=(1, 16), dtype=float32, numpy=\n",
       "array([[1., 0., 0., 0., 0., 0., 0., 0., 0., 0., 0., 0., 0., 0., 0., 0.]],\n",
       "      dtype=float32)>"
      ]
     },
     "execution_count": 30,
     "metadata": {},
     "output_type": "execute_result"
    }
   ],
   "source": [
    "tf.one_hot(example_targets,16)"
   ]
  },
  {
   "cell_type": "code",
   "execution_count": 31,
   "metadata": {},
   "outputs": [],
   "source": [
    "from distill.common.metrics import padded_cross_entropy_loss, get_eval_metrics, cross_entropy_loss"
   ]
  },
  {
   "cell_type": "code",
   "execution_count": 32,
   "metadata": {},
   "outputs": [],
   "source": [
    "entropy, weights = cross_entropy_loss(tf.one_hot(example_targets,10),example_targets,smoothing=0.0,vocab_size=10)"
   ]
  },
  {
   "cell_type": "code",
   "execution_count": 33,
   "metadata": {},
   "outputs": [
    {
     "data": {
      "text/plain": [
       "<tf.Tensor: id=42005, shape=(1,), dtype=float32, numpy=array([1.], dtype=float32)>"
      ]
     },
     "execution_count": 33,
     "metadata": {},
     "output_type": "execute_result"
    }
   ],
   "source": [
    "weights"
   ]
  },
  {
   "cell_type": "code",
   "execution_count": 34,
   "metadata": {},
   "outputs": [
    {
     "data": {
      "text/plain": [
       "<tf.Tensor: id=42001, shape=(1,), dtype=float32, numpy=array([1.46115], dtype=float32)>"
      ]
     },
     "execution_count": 34,
     "metadata": {},
     "output_type": "execute_result"
    }
   ],
   "source": [
    "entropy"
   ]
  },
  {
   "cell_type": "code",
   "execution_count": 35,
   "metadata": {},
   "outputs": [],
   "source": [
    "soft_targets = tf.one_hot(\n",
    "            tf.cast(example_targets, tf.int32),\n",
    "            depth=10,\n",
    "            on_value=1.0,\n",
    "            off_value=0.0)\n",
    "              \n",
    "      \n",
    "      \n",
    "xentropy = tf.nn.softmax_cross_entropy_with_logits_v2(\n",
    "  logits=soft_targets*100, labels=soft_targets)"
   ]
  },
  {
   "cell_type": "code",
   "execution_count": 36,
   "metadata": {},
   "outputs": [
    {
     "data": {
      "text/plain": [
       "<tf.Tensor: id=42048, shape=(1,), dtype=float32, numpy=array([0.], dtype=float32)>"
      ]
     },
     "execution_count": 36,
     "metadata": {},
     "output_type": "execute_result"
    }
   ],
   "source": [
    "xentropy"
   ]
  },
  {
   "cell_type": "code",
   "execution_count": 37,
   "metadata": {},
   "outputs": [
    {
     "data": {
      "text/plain": [
       "<tf.Tensor: id=42014, shape=(1, 10), dtype=float32, numpy=array([[1., 0., 0., 0., 0., 0., 0., 0., 0., 0.]], dtype=float32)>"
      ]
     },
     "execution_count": 37,
     "metadata": {},
     "output_type": "execute_result"
    }
   ],
   "source": [
    "soft_targets"
   ]
  },
  {
   "cell_type": "code",
   "execution_count": 38,
   "metadata": {},
   "outputs": [
    {
     "data": {
      "text/plain": [
       "<tf.Tensor: id=42054, shape=(1, 10), dtype=float32, numpy=array([[1., 0., 0., 0., 0., 0., 0., 0., 0., 0.]], dtype=float32)>"
      ]
     },
     "execution_count": 38,
     "metadata": {},
     "output_type": "execute_result"
    }
   ],
   "source": [
    "tf.one_hot(example_targets,10)"
   ]
  },
  {
   "cell_type": "code",
   "execution_count": 39,
   "metadata": {},
   "outputs": [
    {
     "name": "stdout",
     "output_type": "stream",
     "text": [
      "INFO:tensorflow:encoder inputs:\n",
      "INFO:tensorflow:tf.Tensor(\n",
      "[[[-1.8922591   1.2876995   0.21561565 ...  0.82794106 -1.100456\n",
      "    2.2643883 ]\n",
      "  [-0.16684943  1.5281111  -0.8646378  ...  0.93271714 -0.2978449\n",
      "    0.90899265]\n",
      "  [ 0.9092974   0.9525413   0.9807326  ...  1.          1.\n",
      "    1.        ]\n",
      "  ...\n",
      "  [-0.38778165  0.9835683  -0.29994795 ...  0.999964    0.9999682\n",
      "    0.99997187]\n",
      "  [ 0.56610763  0.72585195 -0.92775476 ...  0.99996305  0.99996734\n",
      "    0.9999711 ]\n",
      "  [ 0.9995202  -0.12743618 -0.8769779  ...  0.99996203  0.99996644\n",
      "    0.9999704 ]]\n",
      "\n",
      " [[-0.40166563  0.67720133 -0.6940341  ...  1.0584941  -0.2808777\n",
      "   -0.3138336 ]\n",
      "  [ 0.4398054   1.4847932   0.07906193 ...  1.0584941  -0.2808777\n",
      "   -0.3138336 ]\n",
      "  [ 0.5076318   1.6297426   0.28669852 ...  1.0584941  -0.2808777\n",
      "   -0.3138336 ]\n",
      "  ...\n",
      "  [-0.38778165  0.9835683  -0.29994795 ...  0.999964    0.9999682\n",
      "    0.99997187]\n",
      "  [ 0.56610763  0.72585195 -0.92775476 ...  0.99996305  0.99996734\n",
      "    0.9999711 ]\n",
      "  [ 0.9995202  -0.12743618 -0.8769779  ...  0.99996203  0.99996644\n",
      "    0.9999704 ]]\n",
      "\n",
      " [[-0.40166563  0.67720133 -0.6940341  ...  1.0584941  -0.2808777\n",
      "   -0.3138336 ]\n",
      "  [ 0.4398054   1.4847932   0.07906193 ...  1.0584941  -0.2808777\n",
      "   -0.3138336 ]\n",
      "  [-0.5824575   1.1595972   1.4614639  ... -2.9261985  -0.34963334\n",
      "    1.1024138 ]\n",
      "  ...\n",
      "  [-0.38778165  0.9835683  -0.29994795 ...  0.999964    0.9999682\n",
      "    0.99997187]\n",
      "  [ 0.56610763  0.72585195 -0.92775476 ...  0.99996305  0.99996734\n",
      "    0.9999711 ]\n",
      "  [ 0.9995202  -0.12743618 -0.8769779  ...  0.99996203  0.99996644\n",
      "    0.9999704 ]]\n",
      "\n",
      " ...\n",
      "\n",
      " [[-0.40166563  0.67720133 -0.6940341  ...  1.0584941  -0.2808777\n",
      "   -0.3138336 ]\n",
      "  [-0.6925052   0.571594    1.2823374  ...  0.90694195  0.55675864\n",
      "    1.8356161 ]\n",
      "  [-0.3218636   1.3220526   0.4469605  ... -0.19266403  1.9740152\n",
      "    2.7216558 ]\n",
      "  ...\n",
      "  [-0.38778165  0.9835683  -0.29994795 ...  0.999964    0.9999682\n",
      "    0.99997187]\n",
      "  [ 0.56610763  0.72585195 -0.92775476 ...  0.99996305  0.99996734\n",
      "    0.9999711 ]\n",
      "  [ 0.9995202  -0.12743618 -0.8769779  ...  0.99996203  0.99996644\n",
      "    0.9999704 ]]\n",
      "\n",
      " [[-0.40166563  0.67720133 -0.6940341  ...  1.0584941  -0.2808777\n",
      "   -0.3138336 ]\n",
      "  [-1.0507882   2.0952914   0.98871166 ...  0.82794106 -1.100456\n",
      "    2.2643883 ]\n",
      "  [-0.3218636   1.3220526   0.4469605  ... -0.19266403  1.9740152\n",
      "    2.7216558 ]\n",
      "  ...\n",
      "  [-0.38778165  0.9835683  -0.29994795 ...  0.999964    0.9999682\n",
      "    0.99997187]\n",
      "  [ 0.56610763  0.72585195 -0.92775476 ...  0.99996305  0.99996734\n",
      "    0.9999711 ]\n",
      "  [ 0.9995202  -0.12743618 -0.8769779  ...  0.99996203  0.99996644\n",
      "    0.9999704 ]]\n",
      "\n",
      " [[-0.40166563  0.67720133 -0.6940341  ...  1.0584941  -0.2808777\n",
      "   -0.3138336 ]\n",
      "  [ 0.4398054   1.4847932   0.07906193 ...  1.0584941  -0.2808777\n",
      "   -0.3138336 ]\n",
      "  [ 0.5076318   1.6297426   0.28669852 ...  1.0584941  -0.2808777\n",
      "   -0.3138336 ]\n",
      "  ...\n",
      "  [-0.38778165  0.9835683  -0.29994795 ...  0.999964    0.9999682\n",
      "    0.99997187]\n",
      "  [ 0.56610763  0.72585195 -0.92775476 ...  0.99996305  0.99996734\n",
      "    0.9999711 ]\n",
      "  [ 0.9995202  -0.12743618 -0.8769779  ...  0.99996203  0.99996644\n",
      "    0.9999704 ]]], shape=(1000, 78, 300), dtype=float32)\n",
      "INFO:tensorflow:attention x:\n",
      "INFO:tensorflow:tf.Tensor(\n",
      "[[[-2.2233326   0.82463044 -0.20295276 ...  0.38395596 -1.4643962\n",
      "    1.7607785 ]\n",
      "  [-0.58691645  0.8421263  -1.1752306  ...  0.34014213 -0.69736034\n",
      "    0.3201397 ]\n",
      "  [ 0.8089609   0.90368223  0.96543247 ...  1.0076357   1.0076357\n",
      "    1.0076357 ]\n",
      "  ...\n",
      "  [-1.1265485   1.0511498  -0.9870689  ...  1.0771862   1.0771928\n",
      "    1.0771986 ]\n",
      "  [ 0.38905242  0.6425921  -1.981945   ...  1.0776501   1.0776569\n",
      "    1.0776628 ]\n",
      "  [ 1.0795391  -0.70396847 -1.8901843  ...  1.0802383   1.0802454\n",
      "    1.0802516 ]]\n",
      "\n",
      " [[-0.7968819   0.15630847 -1.0551926  ...  0.49318466 -0.6901645\n",
      "   -0.7192814 ]\n",
      "  [-0.08903985  0.8490145  -0.41286847 ...  0.46633855 -0.73597556\n",
      "   -0.7655591 ]\n",
      "  [-0.02959842  0.9883202  -0.23001719 ...  0.47011423 -0.7448918\n",
      "   -0.7747876 ]\n",
      "  ...\n",
      "  [-1.1265485   1.0511498  -0.9870689  ...  1.0771862   1.0771928\n",
      "    1.0771986 ]\n",
      "  [ 0.38905242  0.6425921  -1.981945   ...  1.0776501   1.0776569\n",
      "    1.0776628 ]\n",
      "  [ 1.0795391  -0.70396847 -1.8901843  ...  1.0802383   1.0802454\n",
      "    1.0802516 ]]\n",
      "\n",
      " [[-0.7968819   0.15630847 -1.0551926  ...  0.49318466 -0.6901645\n",
      "   -0.7192814 ]\n",
      "  [-0.08903985  0.8490145  -0.41286847 ...  0.46633855 -0.73597556\n",
      "   -0.7655591 ]\n",
      "  [-0.967917    0.5484851   0.8112503  ... -3.0080678  -0.76525116\n",
      "    0.49870878]\n",
      "  ...\n",
      "  [-1.1265485   1.0511498  -0.9870689  ...  1.0771862   1.0771928\n",
      "    1.0771986 ]\n",
      "  [ 0.38905242  0.6425921  -1.981945   ...  1.0776501   1.0776569\n",
      "    1.0776628 ]\n",
      "  [ 1.0795391  -0.70396847 -1.8901843  ...  1.0802383   1.0802454\n",
      "    1.0802516 ]]\n",
      "\n",
      " ...\n",
      "\n",
      " [[-0.7968819   0.15630847 -1.0551926  ...  0.49318466 -0.6901645\n",
      "   -0.7192814 ]\n",
      "  [-1.1089412  -0.00392839  0.6173683  ...  0.28921616 -0.01689672\n",
      "    1.1010171 ]\n",
      "  [-0.86592174  0.65925294 -0.15263046 ... -0.74605435  1.2641238\n",
      "    1.9577615 ]\n",
      "  ...\n",
      "  [-1.1265485   1.0511498  -0.9870689  ...  1.0771862   1.0771928\n",
      "    1.0771986 ]\n",
      "  [ 0.38905242  0.6425921  -1.981945   ...  1.0776501   1.0776569\n",
      "    1.0776628 ]\n",
      "  [ 1.0795391  -0.70396847 -1.8901843  ...  1.0802383   1.0802454\n",
      "    1.0802516 ]]\n",
      "\n",
      " [[-0.7968819   0.15630847 -1.0551926  ...  0.49318466 -0.6901645\n",
      "   -0.7192814 ]\n",
      "  [-1.4749023   1.5841596   0.5081869  ...  0.35186303 -1.5231963\n",
      "    1.7485795 ]\n",
      "  [-0.86592174  0.65925294 -0.15263046 ... -0.74605435  1.2641238\n",
      "    1.9577615 ]\n",
      "  ...\n",
      "  [-1.1265485   1.0511498  -0.9870689  ...  1.0771862   1.0771928\n",
      "    1.0771986 ]\n",
      "  [ 0.38905242  0.6425921  -1.981945   ...  1.0776501   1.0776569\n",
      "    1.0776628 ]\n",
      "  [ 1.0795391  -0.70396847 -1.8901843  ...  1.0802383   1.0802454\n",
      "    1.0802516 ]]\n",
      "\n",
      " [[-0.7968819   0.15630847 -1.0551926  ...  0.49318466 -0.6901645\n",
      "   -0.7192814 ]\n",
      "  [-0.08903985  0.8490145  -0.41286847 ...  0.46633855 -0.73597556\n",
      "   -0.7655591 ]\n",
      "  [-0.02959842  0.9883202  -0.23001719 ...  0.47011423 -0.7448918\n",
      "   -0.7747876 ]\n",
      "  ...\n",
      "  [-1.1265485   1.0511498  -0.9870689  ...  1.0771862   1.0771928\n",
      "    1.0771986 ]\n",
      "  [ 0.38905242  0.6425921  -1.981945   ...  1.0776501   1.0776569\n",
      "    1.0776628 ]\n",
      "  [ 1.0795391  -0.70396847 -1.8901843  ...  1.0802383   1.0802454\n",
      "    1.0802516 ]]], shape=(1000, 78, 300), dtype=float32)\n",
      "INFO:tensorflow:attention y:\n",
      "INFO:tensorflow:tf.Tensor(\n",
      "[[[-1.8922591   1.2876995   0.21561565 ...  0.82794106 -1.100456\n",
      "    2.2643883 ]\n",
      "  [-0.16684943  1.5281111  -0.8646378  ...  0.93271714 -0.2978449\n",
      "    0.90899265]\n",
      "  [ 0.9092974   0.9525413   0.9807326  ...  1.          1.\n",
      "    1.        ]\n",
      "  ...\n",
      "  [-0.38778165  0.9835683  -0.29994795 ...  0.999964    0.9999682\n",
      "    0.99997187]\n",
      "  [ 0.56610763  0.72585195 -0.92775476 ...  0.99996305  0.99996734\n",
      "    0.9999711 ]\n",
      "  [ 0.9995202  -0.12743618 -0.8769779  ...  0.99996203  0.99996644\n",
      "    0.9999704 ]]\n",
      "\n",
      " [[-0.40166563  0.67720133 -0.6940341  ...  1.0584941  -0.2808777\n",
      "   -0.3138336 ]\n",
      "  [ 0.4398054   1.4847932   0.07906193 ...  1.0584941  -0.2808777\n",
      "   -0.3138336 ]\n",
      "  [ 0.5076318   1.6297426   0.28669852 ...  1.0584941  -0.2808777\n",
      "   -0.3138336 ]\n",
      "  ...\n",
      "  [-0.38778165  0.9835683  -0.29994795 ...  0.999964    0.9999682\n",
      "    0.99997187]\n",
      "  [ 0.56610763  0.72585195 -0.92775476 ...  0.99996305  0.99996734\n",
      "    0.9999711 ]\n",
      "  [ 0.9995202  -0.12743618 -0.8769779  ...  0.99996203  0.99996644\n",
      "    0.9999704 ]]\n",
      "\n",
      " [[-0.40166563  0.67720133 -0.6940341  ...  1.0584941  -0.2808777\n",
      "   -0.3138336 ]\n",
      "  [ 0.4398054   1.4847932   0.07906193 ...  1.0584941  -0.2808777\n",
      "   -0.3138336 ]\n",
      "  [-0.5824575   1.1595972   1.4614639  ... -2.9261985  -0.34963334\n",
      "    1.1024138 ]\n",
      "  ...\n",
      "  [-0.38778165  0.9835683  -0.29994795 ...  0.999964    0.9999682\n",
      "    0.99997187]\n",
      "  [ 0.56610763  0.72585195 -0.92775476 ...  0.99996305  0.99996734\n",
      "    0.9999711 ]\n",
      "  [ 0.9995202  -0.12743618 -0.8769779  ...  0.99996203  0.99996644\n",
      "    0.9999704 ]]\n",
      "\n",
      " ...\n",
      "\n",
      " [[-0.40166563  0.67720133 -0.6940341  ...  1.0584941  -0.2808777\n",
      "   -0.3138336 ]\n",
      "  [-0.6925052   0.571594    1.2823374  ...  0.90694195  0.55675864\n",
      "    1.8356161 ]\n",
      "  [-0.3218636   1.3220526   0.4469605  ... -0.19266403  1.9740152\n",
      "    2.7216558 ]\n",
      "  ...\n",
      "  [-0.38778165  0.9835683  -0.29994795 ...  0.999964    0.9999682\n",
      "    0.99997187]\n",
      "  [ 0.56610763  0.72585195 -0.92775476 ...  0.99996305  0.99996734\n",
      "    0.9999711 ]\n",
      "  [ 0.9995202  -0.12743618 -0.8769779  ...  0.99996203  0.99996644\n",
      "    0.9999704 ]]\n",
      "\n",
      " [[-0.40166563  0.67720133 -0.6940341  ...  1.0584941  -0.2808777\n",
      "   -0.3138336 ]\n",
      "  [-1.0507882   2.0952914   0.98871166 ...  0.82794106 -1.100456\n",
      "    2.2643883 ]\n",
      "  [-0.3218636   1.3220526   0.4469605  ... -0.19266403  1.9740152\n",
      "    2.7216558 ]\n",
      "  ...\n",
      "  [-0.38778165  0.9835683  -0.29994795 ...  0.999964    0.9999682\n",
      "    0.99997187]\n",
      "  [ 0.56610763  0.72585195 -0.92775476 ...  0.99996305  0.99996734\n",
      "    0.9999711 ]\n",
      "  [ 0.9995202  -0.12743618 -0.8769779  ...  0.99996203  0.99996644\n",
      "    0.9999704 ]]\n",
      "\n",
      " [[-0.40166563  0.67720133 -0.6940341  ...  1.0584941  -0.2808777\n",
      "   -0.3138336 ]\n",
      "  [ 0.4398054   1.4847932   0.07906193 ...  1.0584941  -0.2808777\n",
      "   -0.3138336 ]\n",
      "  [ 0.5076318   1.6297426   0.28669852 ...  1.0584941  -0.2808777\n",
      "   -0.3138336 ]\n",
      "  ...\n",
      "  [-0.38778165  0.9835683  -0.29994795 ...  0.999964    0.9999682\n",
      "    0.99997187]\n",
      "  [ 0.56610763  0.72585195 -0.92775476 ...  0.99996305  0.99996734\n",
      "    0.9999711 ]\n",
      "  [ 0.9995202  -0.12743618 -0.8769779  ...  0.99996203  0.99996644\n",
      "    0.9999704 ]]], shape=(1000, 78, 300), dtype=float32)\n",
      "INFO:tensorflow:attention bias:\n",
      "INFO:tensorflow:tf.Tensor(\n",
      "[[[[-0.e+00 -0.e+00 -1.e+09 ... -1.e+09 -1.e+09 -1.e+09]]]\n",
      "\n",
      "\n",
      " [[[-0.e+00 -0.e+00 -0.e+00 ... -1.e+09 -1.e+09 -1.e+09]]]\n",
      "\n",
      "\n",
      " [[[-0.e+00 -0.e+00 -0.e+00 ... -1.e+09 -1.e+09 -1.e+09]]]\n",
      "\n",
      "\n",
      " ...\n",
      "\n",
      "\n",
      " [[[-0.e+00 -0.e+00 -0.e+00 ... -1.e+09 -1.e+09 -1.e+09]]]\n",
      "\n",
      "\n",
      " [[[-0.e+00 -0.e+00 -0.e+00 ... -1.e+09 -1.e+09 -1.e+09]]]\n",
      "\n",
      "\n",
      " [[[-0.e+00 -0.e+00 -0.e+00 ... -1.e+09 -1.e+09 -1.e+09]]]], shape=(1000, 1, 1, 78), dtype=float32)\n",
      "INFO:tensorflow:encoder inputs:\n",
      "INFO:tensorflow:tf.Tensor(\n",
      "[[[-1.479579    1.8168844   1.699786   ...  1.860202   -2.6457555\n",
      "    1.5249419 ]\n",
      "  [-0.9527432   1.8176279  -0.31435025 ...  2.7833753  -1.882288\n",
      "    0.76113856]\n",
      "  [ 0.39255667  1.3137773   2.4208174  ...  1.7851388  -0.29217052\n",
      "   -0.09929931]\n",
      "  ...\n",
      "  [-1.1648493   1.3289146   0.9979396  ...  2.0393953  -0.45077538\n",
      "   -0.26930368]\n",
      "  [-0.15105903  1.0883808   0.4749385  ...  1.963263   -0.3668946\n",
      "   -0.279334  ]\n",
      "  [ 0.3389594   0.24909316  0.6128371  ...  1.8942299  -0.29546422\n",
      "   -0.28068918]]\n",
      "\n",
      " [[-0.34075665  1.307744    0.38207006 ...  1.5807358  -2.882284\n",
      "   -0.86356604]\n",
      "  [ 0.5988596   2.0654883   1.0751568  ...  1.5567986  -2.8694558\n",
      "   -0.9294474 ]\n",
      "  [ 0.7184982   2.2349405   1.341778   ...  1.5034351  -2.8605816\n",
      "   -1.0107615 ]\n",
      "  ...\n",
      "  [-0.8266845   0.7340265   0.34287903 ...  2.2681978  -0.34908307\n",
      "   -0.2673198 ]\n",
      "  [ 0.1152257   0.6662686  -0.14113158 ...  2.1035748  -0.41656268\n",
      "   -0.5282721 ]\n",
      "  [ 0.56087613 -0.13871007  0.11058456 ...  1.8796405  -0.4365601\n",
      "   -0.8482613 ]]\n",
      "\n",
      " [[ 0.07832581  2.1583      0.7618855  ...  1.6151459  -1.9962442\n",
      "   -0.9474077 ]\n",
      "  [ 1.1078936   2.9151132   1.55054    ...  1.540489   -1.8881279\n",
      "   -1.0083693 ]\n",
      "  [ 0.72734857  2.1729455   2.548975   ... -1.1392847  -1.6414964\n",
      "   -0.79001737]\n",
      "  ...\n",
      "  [-0.18105033  0.8929432   0.30180213 ...  2.1235585   0.3270275\n",
      "   -0.13538599]\n",
      "  [ 0.6940243   0.767643   -0.14212942 ...  2.0475624   0.06892926\n",
      "   -0.3482737 ]\n",
      "  [ 1.0646913   0.00987196  0.15199244 ...  1.9059649  -0.14978212\n",
      "   -0.7318378 ]]\n",
      "\n",
      " ...\n",
      "\n",
      " [[-0.05201364  2.2534666   1.0155337  ...  1.4330549  -2.5921714\n",
      "   -1.2496274 ]\n",
      "  [-0.5763254   1.4877642   1.5027517  ...  2.155684   -1.1526451\n",
      "    1.6977627 ]\n",
      "  [ 0.734614    1.2759957   1.6101617  ...  0.2987364   0.3592886\n",
      "    2.20901   ]\n",
      "  ...\n",
      "  [-0.343484    0.77887666  1.0637273  ...  2.3885138  -0.07547164\n",
      "   -0.6591544 ]\n",
      "  [ 0.5801604   0.6358994   0.5346738  ...  2.1592932  -0.17649972\n",
      "   -0.8294681 ]\n",
      "  [ 1.0952258  -0.18365623  0.7314936  ...  1.9278984  -0.19024044\n",
      "   -1.0396693 ]]\n",
      "\n",
      " [[-0.45786738  1.3554517   0.36870903 ...  1.5864905  -2.8866024\n",
      "   -0.94957954]\n",
      "  [-0.5455512   1.8867172   1.003493   ...  1.4701998  -2.4050581\n",
      "    0.925313  ]\n",
      "  [ 0.34689015  0.6859681   0.9670117  ...  0.09197055  0.7760896\n",
      "    2.1179957 ]\n",
      "  ...\n",
      "  [-2.2560184   0.47130162 -0.0696397  ...  2.2313564  -0.76868606\n",
      "    0.5397638 ]\n",
      "  [-1.3450124   0.39674634 -0.56126916 ...  2.2054439  -0.856153\n",
      "    0.46008962]\n",
      "  [-0.58677423 -0.32293764 -0.25940788 ...  2.0278718  -0.7839462\n",
      "    0.04098266]]\n",
      "\n",
      " [[-0.49094468  1.1103909   0.06228526 ...  1.4251084  -2.6788568\n",
      "   -0.6408272 ]\n",
      "  [ 0.49951994  1.9078417   0.8523775  ...  1.4069294  -2.617955\n",
      "   -0.7100748 ]\n",
      "  [ 0.650565    2.0522294   1.1704317  ...  1.356025   -2.5700064\n",
      "   -0.83319646]\n",
      "  ...\n",
      "  [-1.9928709   0.55817604 -0.62553275 ...  2.0348072  -0.53337085\n",
      "    0.96442634]\n",
      "  [-1.1828153   0.46531382 -1.0693212  ...  2.0075574  -0.7108283\n",
      "    0.80932987]\n",
      "  [-0.51344645 -0.37008125 -0.6883286  ...  1.7978278  -0.7245309\n",
      "    0.31734782]]], shape=(1000, 78, 300), dtype=float32)\n",
      "INFO:tensorflow:attention x:\n",
      "INFO:tensorflow:tf.Tensor(\n",
      "[[[-1.3288411   0.79039156  0.71511126 ...  0.81823957 -2.0785534\n",
      "    0.6027074 ]\n",
      "  [-1.0156707   0.6930204  -0.62192696 ...  1.2886677  -1.5889891\n",
      "    0.04140589]\n",
      "  [-0.2884643   0.43616194  1.3069526  ...  0.8069319  -0.82706624\n",
      "   -0.675355  ]\n",
      "  ...\n",
      "  [-1.2111075   0.54740036  0.31400925 ...  1.0484043  -0.70756966\n",
      "   -0.57960266]\n",
      "  [-0.49771225  0.3825028  -0.05314654 ...  1.0038193  -0.6509926\n",
      "   -0.5888095 ]\n",
      "  [-0.1465224  -0.210739    0.0491851  ...  0.9648427  -0.5998688\n",
      "   -0.5893108 ]]\n",
      "\n",
      " [[-0.6805786   0.5216088  -0.15344918 ...  0.72069114 -2.5340154\n",
      "   -1.0618432 ]\n",
      "  [-0.02384544  1.0498981   0.32485977 ...  0.67747784 -2.5630577\n",
      "   -1.1427448 ]\n",
      "  [ 0.05716177  1.1630996   0.51171833 ...  0.6296145  -2.5530527\n",
      "   -1.2039832 ]\n",
      "  ...\n",
      "  [-1.2189858   0.2681162  -0.10458329 ...  1.7299303  -0.7639099\n",
      "   -0.68600285]\n",
      "  [-0.3179768   0.19300565 -0.5556971  ...  1.5258206  -0.81110454\n",
      "   -0.9146927 ]\n",
      "  [ 0.08336338 -0.52950317 -0.31111073 ...  1.2386557  -0.79043216\n",
      "   -1.1510994 ]]\n",
      "\n",
      " [[-0.36489308  1.1307613   0.12663662 ...  0.7401936  -1.8566614\n",
      "   -1.1024709 ]\n",
      "  [ 0.35154638  1.6533962   0.6704114  ...  0.66317105 -1.8066696\n",
      "   -1.1729261 ]\n",
      "  [ 0.08689101  0.9695681   1.1991706  ... -1.0528696  -1.3595186\n",
      "   -0.839608  ]\n",
      "  ...\n",
      "  [-0.6313604   0.36751205 -0.18228133 ...  1.5120512  -0.15882036\n",
      "   -0.58889014]\n",
      "  [ 0.18757524  0.2561021  -0.5907463  ...  1.4474964  -0.3942854\n",
      "   -0.7826327 ]\n",
      "  [ 0.51212054 -0.42667884 -0.30019024 ...  1.260862   -0.5687725\n",
      "   -1.0868076 ]]\n",
      "\n",
      " ...\n",
      "\n",
      " [[-0.44654495  1.1194756   0.27859727 ...  0.56220275 -2.1719725\n",
      "   -1.2600361 ]\n",
      "  [-0.8200407   0.47320437  0.4825947  ...  0.89168614 -1.1811309\n",
      "    0.6047779 ]\n",
      "  [ 0.01988008  0.39117005  0.6203475  ... -0.27905315 -0.2375253\n",
      "    1.031049  ]\n",
      "  ...\n",
      "  [-0.74872726  0.23779151  0.48816597 ...  1.6526104  -0.513153\n",
      "   -1.0261912 ]\n",
      "  [ 0.06389274  0.11198117  0.02464957 ...  1.4262772  -0.5889098\n",
      "   -1.1522532 ]\n",
      "  [ 0.48383948 -0.5705786   0.183948   ...  1.1703649  -0.5760072\n",
      "   -1.2763479 ]]\n",
      "\n",
      " [[-0.7572864   0.5774587  -0.14886133 ...  0.7475214  -2.5450258\n",
      "   -1.1192251 ]\n",
      "  [-0.7711544   0.94282556  0.32043183 ...  0.64931256 -2.0815187\n",
      "    0.26533967]\n",
      "  [-0.20481203  0.04366717  0.2496183  ... -0.3916193   0.10970898\n",
      "    1.0930693 ]\n",
      "  ...\n",
      "  [-2.6922834   0.06501935 -0.48186877 ...  1.8444232  -1.1886002\n",
      "    0.13423419]\n",
      "  [-1.7155415  -0.01644596 -0.95099545 ...  1.7479488  -1.2386563\n",
      "    0.04534578]\n",
      "  [-0.94801354 -0.70153457 -0.6421844  ...  1.494617   -1.1322138\n",
      "   -0.36155632]]\n",
      "\n",
      " [[-0.79359335  0.40454358 -0.37966064 ...  0.6400187  -2.4306133\n",
      "   -0.9057371 ]\n",
      "  [-0.08118583  0.97805655  0.18420923 ...  0.6013049  -2.425935\n",
      "   -0.99095947]\n",
      "  [ 0.02687421  1.0799968   0.4174694  ...  0.55691254 -2.3928611\n",
      "   -1.087931  ]\n",
      "  ...\n",
      "  [-2.532895    0.16492288 -1.086889   ...  1.72651    -0.98942465\n",
      "    0.59454626]\n",
      "  [-1.6282572   0.05961089 -1.5120264  ...  1.6390402  -1.1448898\n",
      "    0.41192168]\n",
      "  [-0.91648716 -0.7756139  -1.0883296  ...  1.3546121  -1.1239024\n",
      "   -0.10013392]]], shape=(1000, 78, 300), dtype=float32)\n",
      "INFO:tensorflow:attention y:\n",
      "INFO:tensorflow:tf.Tensor(\n",
      "[[[-1.479579    1.8168844   1.699786   ...  1.860202   -2.6457555\n",
      "    1.5249419 ]\n",
      "  [-0.9527432   1.8176279  -0.31435025 ...  2.7833753  -1.882288\n",
      "    0.76113856]\n",
      "  [ 0.39255667  1.3137773   2.4208174  ...  1.7851388  -0.29217052\n",
      "   -0.09929931]\n",
      "  ...\n",
      "  [-1.1648493   1.3289146   0.9979396  ...  2.0393953  -0.45077538\n",
      "   -0.26930368]\n",
      "  [-0.15105903  1.0883808   0.4749385  ...  1.963263   -0.3668946\n",
      "   -0.279334  ]\n",
      "  [ 0.3389594   0.24909316  0.6128371  ...  1.8942299  -0.29546422\n",
      "   -0.28068918]]\n",
      "\n",
      " [[-0.34075665  1.307744    0.38207006 ...  1.5807358  -2.882284\n",
      "   -0.86356604]\n",
      "  [ 0.5988596   2.0654883   1.0751568  ...  1.5567986  -2.8694558\n",
      "   -0.9294474 ]\n",
      "  [ 0.7184982   2.2349405   1.341778   ...  1.5034351  -2.8605816\n",
      "   -1.0107615 ]\n",
      "  ...\n",
      "  [-0.8266845   0.7340265   0.34287903 ...  2.2681978  -0.34908307\n",
      "   -0.2673198 ]\n",
      "  [ 0.1152257   0.6662686  -0.14113158 ...  2.1035748  -0.41656268\n",
      "   -0.5282721 ]\n",
      "  [ 0.56087613 -0.13871007  0.11058456 ...  1.8796405  -0.4365601\n",
      "   -0.8482613 ]]\n",
      "\n",
      " [[ 0.07832581  2.1583      0.7618855  ...  1.6151459  -1.9962442\n",
      "   -0.9474077 ]\n",
      "  [ 1.1078936   2.9151132   1.55054    ...  1.540489   -1.8881279\n",
      "   -1.0083693 ]\n",
      "  [ 0.72734857  2.1729455   2.548975   ... -1.1392847  -1.6414964\n",
      "   -0.79001737]\n",
      "  ...\n",
      "  [-0.18105033  0.8929432   0.30180213 ...  2.1235585   0.3270275\n",
      "   -0.13538599]\n",
      "  [ 0.6940243   0.767643   -0.14212942 ...  2.0475624   0.06892926\n",
      "   -0.3482737 ]\n",
      "  [ 1.0646913   0.00987196  0.15199244 ...  1.9059649  -0.14978212\n",
      "   -0.7318378 ]]\n",
      "\n",
      " ...\n",
      "\n",
      " [[-0.05201364  2.2534666   1.0155337  ...  1.4330549  -2.5921714\n",
      "   -1.2496274 ]\n",
      "  [-0.5763254   1.4877642   1.5027517  ...  2.155684   -1.1526451\n",
      "    1.6977627 ]\n",
      "  [ 0.734614    1.2759957   1.6101617  ...  0.2987364   0.3592886\n",
      "    2.20901   ]\n",
      "  ...\n",
      "  [-0.343484    0.77887666  1.0637273  ...  2.3885138  -0.07547164\n",
      "   -0.6591544 ]\n",
      "  [ 0.5801604   0.6358994   0.5346738  ...  2.1592932  -0.17649972\n",
      "   -0.8294681 ]\n",
      "  [ 1.0952258  -0.18365623  0.7314936  ...  1.9278984  -0.19024044\n",
      "   -1.0396693 ]]\n",
      "\n",
      " [[-0.45786738  1.3554517   0.36870903 ...  1.5864905  -2.8866024\n",
      "   -0.94957954]\n",
      "  [-0.5455512   1.8867172   1.003493   ...  1.4701998  -2.4050581\n",
      "    0.925313  ]\n",
      "  [ 0.34689015  0.6859681   0.9670117  ...  0.09197055  0.7760896\n",
      "    2.1179957 ]\n",
      "  ...\n",
      "  [-2.2560184   0.47130162 -0.0696397  ...  2.2313564  -0.76868606\n",
      "    0.5397638 ]\n",
      "  [-1.3450124   0.39674634 -0.56126916 ...  2.2054439  -0.856153\n",
      "    0.46008962]\n",
      "  [-0.58677423 -0.32293764 -0.25940788 ...  2.0278718  -0.7839462\n",
      "    0.04098266]]\n",
      "\n",
      " [[-0.49094468  1.1103909   0.06228526 ...  1.4251084  -2.6788568\n",
      "   -0.6408272 ]\n",
      "  [ 0.49951994  1.9078417   0.8523775  ...  1.4069294  -2.617955\n",
      "   -0.7100748 ]\n",
      "  [ 0.650565    2.0522294   1.1704317  ...  1.356025   -2.5700064\n",
      "   -0.83319646]\n",
      "  ...\n",
      "  [-1.9928709   0.55817604 -0.62553275 ...  2.0348072  -0.53337085\n",
      "    0.96442634]\n",
      "  [-1.1828153   0.46531382 -1.0693212  ...  2.0075574  -0.7108283\n",
      "    0.80932987]\n",
      "  [-0.51344645 -0.37008125 -0.6883286  ...  1.7978278  -0.7245309\n",
      "    0.31734782]]], shape=(1000, 78, 300), dtype=float32)\n",
      "INFO:tensorflow:attention bias:\n",
      "INFO:tensorflow:tf.Tensor(\n",
      "[[[[-0.e+00 -0.e+00 -1.e+09 ... -1.e+09 -1.e+09 -1.e+09]]]\n",
      "\n",
      "\n",
      " [[[-0.e+00 -0.e+00 -0.e+00 ... -1.e+09 -1.e+09 -1.e+09]]]\n",
      "\n",
      "\n",
      " [[[-0.e+00 -0.e+00 -0.e+00 ... -1.e+09 -1.e+09 -1.e+09]]]\n",
      "\n",
      "\n",
      " ...\n",
      "\n",
      "\n",
      " [[[-0.e+00 -0.e+00 -0.e+00 ... -1.e+09 -1.e+09 -1.e+09]]]\n",
      "\n",
      "\n",
      " [[[-0.e+00 -0.e+00 -0.e+00 ... -1.e+09 -1.e+09 -1.e+09]]]\n",
      "\n",
      "\n",
      " [[[-0.e+00 -0.e+00 -0.e+00 ... -1.e+09 -1.e+09 -1.e+09]]]], shape=(1000, 1, 1, 78), dtype=float32)\n",
      "INFO:tensorflow:encoder outputs\n",
      "INFO:tensorflow:tf.Tensor(\n",
      "[[[-0.5194498  -0.41531745  1.5327413  ... -0.1846552  -1.103802\n",
      "    0.31598195]\n",
      "  [-0.47308385 -0.3813804   0.80682856 ...  0.1570693  -0.7413134\n",
      "    0.04717949]\n",
      "  [-0.3489427  -0.7317054   1.9138732  ... -0.30993316 -0.32325578\n",
      "    0.10089585]\n",
      "  ...\n",
      "  [-0.82679164 -0.65600705  1.3455287  ... -0.10766463 -0.30095267\n",
      "    0.11466149]\n",
      "  [-0.4369965  -0.7533312   1.1461338  ... -0.13611038 -0.26922977\n",
      "    0.11380992]\n",
      "  [-0.24867949 -1.0726848   1.2031077  ... -0.1667968  -0.2383235\n",
      "    0.11889944]]\n",
      "\n",
      " [[-0.20741893 -0.6795031  -0.695125   ...  0.4460219  -1.8121821\n",
      "   -0.6114515 ]\n",
      "  [ 0.24033229 -0.40036038 -0.3571136  ...  0.43986586 -1.8485938\n",
      "   -0.6924396 ]\n",
      "  [ 0.30733645 -0.37386402 -0.22792566 ...  0.45474976 -1.8634604\n",
      "   -0.7455874 ]\n",
      "  ...\n",
      "  [-1.3570865  -0.7134607   0.27615297 ...  0.75263447 -1.1948687\n",
      "   -0.2818987 ]\n",
      "  [-0.7866736  -0.76980746 -0.01471046 ...  0.67892873 -1.1855118\n",
      "   -0.44382557]\n",
      "  [-0.46855113 -1.1987047   0.05237355 ...  0.64161855 -1.1443911\n",
      "   -0.61602217]]\n",
      "\n",
      " [[ 0.35049763 -0.4166754   0.04964247 ...  0.47206244 -1.2884406\n",
      "   -0.6584398 ]\n",
      "  [ 0.8407081  -0.1441481   0.42105246 ...  0.4434964  -1.2845743\n",
      "   -0.6901066 ]\n",
      "  [ 0.63685787 -0.37148267  0.8517692  ... -0.39819574 -1.3203714\n",
      "   -0.7336839 ]\n",
      "  ...\n",
      "  [-0.3402458  -0.7835249   0.3672718  ...  0.7546962  -0.21569523\n",
      "   -0.0535064 ]\n",
      "  [ 0.19298993 -0.85302395  0.1214589  ...  0.69879633 -0.29921094\n",
      "   -0.13618511]\n",
      "  [ 0.43357986 -1.2217467   0.22990714 ...  0.638741   -0.37692848\n",
      "   -0.3213648 ]]\n",
      "\n",
      " ...\n",
      "\n",
      " [[ 0.36844414 -0.37548158  0.15555224 ...  0.06999781 -1.4740064\n",
      "   -0.7141094 ]\n",
      "  [ 0.21001215 -0.78644043  0.2292349  ...  0.5162057  -0.8192704\n",
      "    0.33257246]\n",
      "  [ 0.3210352  -0.70291615  0.56972355 ... -0.66581154 -0.6608218\n",
      "    0.88752055]\n",
      "  ...\n",
      "  [-0.40659735 -0.78669643  0.7113364  ...  0.3586191  -0.51712906\n",
      "   -0.0918893 ]\n",
      "  [ 0.05831258 -0.84889823  0.4845765  ...  0.18880531 -0.55701804\n",
      "   -0.15544862]\n",
      "  [ 0.2974177  -1.2242008   0.56429404 ...  0.08748134 -0.5674027\n",
      "   -0.2464198 ]]\n",
      "\n",
      " [[-0.11787336 -0.63242763 -0.5966651  ...  0.2544697  -1.910215\n",
      "   -0.6336194 ]\n",
      "  [-0.512255    0.08999144 -0.09032421 ... -0.1584062  -2.1389253\n",
      "    0.04793338]\n",
      "  [ 0.0250759  -0.80928653 -0.03601397 ... -0.19091976 -0.77913743\n",
      "    0.71846205]\n",
      "  ...\n",
      "  [-1.8933735  -0.9719599   0.28727713 ...  1.0387951  -1.1839126\n",
      "   -0.00289642]\n",
      "  [-1.3090794  -1.0352988  -0.02859291 ...  1.0259058  -1.1471635\n",
      "    0.00239369]\n",
      "  [-0.8940565  -1.4103849   0.0805638  ...  0.9181881  -1.0982547\n",
      "   -0.1782825 ]]\n",
      "\n",
      " [[-0.32968667 -0.6243871  -0.8887287  ...  0.35342103 -1.9723585\n",
      "   -0.4065495 ]\n",
      "  [ 0.17503962 -0.2799833  -0.50185955 ...  0.3162011  -2.002989\n",
      "   -0.45282555]\n",
      "  [ 0.26371363 -0.23321329 -0.35089812 ...  0.33707407 -2.0373096\n",
      "   -0.51599157]\n",
      "  ...\n",
      "  [-2.0202076  -0.81238365 -0.30916983 ...  1.0731612  -1.2531282\n",
      "    0.6669998 ]\n",
      "  [-1.4750733  -0.9181796  -0.57320964 ...  1.014682   -1.292753\n",
      "    0.5836974 ]\n",
      "  [-1.0641054  -1.3855146  -0.38541108 ...  0.84464467 -1.2999783\n",
      "    0.32844922]]], shape=(1000, 78, 300), dtype=float32)\n"
     ]
    }
   ],
   "source": [
    "model.create_vars()\n",
    "outputs = model.apply(train_examples)"
   ]
  },
  {
   "cell_type": "code",
   "execution_count": 23,
   "metadata": {},
   "outputs": [
    {
     "data": {
      "text/plain": [
       "TensorShape([Dimension(1000), Dimension(1), Dimension(10)])"
      ]
     },
     "execution_count": 23,
     "metadata": {},
     "output_type": "execute_result"
    }
   ],
   "source": [
    "outputs.shape"
   ]
  },
  {
   "cell_type": "code",
   "execution_count": 24,
   "metadata": {},
   "outputs": [
    {
     "data": {
      "text/plain": [
       "<tf.Tensor: id=40896, shape=(1000, 1, 10), dtype=float32, numpy=\n",
       "array([[[0.00715524, 0.09209497, 0.0917704 , ..., 0.03556783,\n",
       "         0.04943119, 0.15343009]],\n",
       "\n",
       "       [[0.02895103, 0.04006007, 0.26865193, ..., 0.00580688,\n",
       "         0.07627358, 0.02107685]],\n",
       "\n",
       "       [[0.04077142, 0.02672941, 0.23326753, ..., 0.00361042,\n",
       "         0.04985133, 0.04474999]],\n",
       "\n",
       "       ...,\n",
       "\n",
       "       [[0.01969549, 0.02658502, 0.2711329 , ..., 0.00517109,\n",
       "         0.05861397, 0.04302977]],\n",
       "\n",
       "       [[0.02205601, 0.05488703, 0.26217592, ..., 0.00449226,\n",
       "         0.06337234, 0.0239463 ]],\n",
       "\n",
       "       [[0.04000373, 0.05206897, 0.24202158, ..., 0.01508354,\n",
       "         0.07866572, 0.02239132]]], dtype=float32)>"
      ]
     },
     "execution_count": 24,
     "metadata": {},
     "output_type": "execute_result"
    }
   ],
   "source": [
    "tf.nn.softmax(outputs)"
   ]
  },
  {
   "cell_type": "code",
   "execution_count": 40,
   "metadata": {},
   "outputs": [
    {
     "data": {
      "text/plain": [
       "[]"
      ]
     },
     "execution_count": 40,
     "metadata": {},
     "output_type": "execute_result"
    }
   ],
   "source": [
    "outputs['trainable_vars']"
   ]
  },
  {
   "cell_type": "code",
   "execution_count": 41,
   "metadata": {},
   "outputs": [
    {
     "data": {
      "text/plain": [
       "'Transformer'"
      ]
     },
     "execution_count": 41,
     "metadata": {},
     "output_type": "execute_result"
    }
   ],
   "source": [
    "model.scope"
   ]
  },
  {
   "cell_type": "code",
   "execution_count": 13,
   "metadata": {},
   "outputs": [
    {
     "name": "stdout",
     "output_type": "stream",
     "text": [
      "[<tf.Variable 'model_1/TransformerEncoder/layer_norm_scale:0' shape=(300,) dtype=float32_ref>, <tf.Variable 'model_1/TransformerEncoder/layer_norm_bias:0' shape=(300,) dtype=float32_ref>]\n",
      "[<tf.Variable 'model_2/TransformerEncoder/layer_norm_scale:0' shape=(300,) dtype=float32_ref>, <tf.Variable 'model_2/TransformerEncoder/layer_norm_bias:0' shape=(300,) dtype=float32_ref>]\n"
     ]
    }
   ],
   "source": [
    "g = tf.Graph()\n",
    "with g.as_default():\n",
    "    model_1.create_vars(False)\n",
    "    model_2.create_vars(False)\n",
    "    print(tf.trainable_variables(\"model_1\"))\n",
    "    print(tf.trainable_variables(\"model_2\"))"
   ]
  },
  {
   "cell_type": "code",
   "execution_count": 17,
   "metadata": {},
   "outputs": [
    {
     "name": "stdout",
     "output_type": "stream",
     "text": [
      "[]\n"
     ]
    }
   ],
   "source": [
    "model = EncodingTransformer(transformer_params, task)\n",
    "model.create_vars(False)\n",
    "print(tf.trainable_variables())"
   ]
  },
  {
   "cell_type": "code",
   "execution_count": null,
   "metadata": {},
   "outputs": [],
   "source": []
  }
 ],
 "metadata": {
  "kernelspec": {
   "display_name": "Python 3",
   "language": "python",
   "name": "python3"
  },
  "language_info": {
   "codemirror_mode": {
    "name": "ipython",
    "version": 3
   },
   "file_extension": ".py",
   "mimetype": "text/x-python",
   "name": "python",
   "nbconvert_exporter": "python",
   "pygments_lexer": "ipython3",
   "version": "3.7.3"
  }
 },
 "nbformat": 4,
 "nbformat_minor": 2
}
