{
 "cells": [
  {
   "cell_type": "code",
   "execution_count": 2,
   "metadata": {},
   "outputs": [],
   "source": [
    "import sys,os,os.path\n",
    "sys.path.append(os.path.expanduser('~/Codes/SolutionDistillation'))\n",
    "import numpy as np\n",
    "import tensorflow as tf\n",
    "import os\n",
    "from distill.common.hparams import TransformerHparam, LSTMHparam\n",
    "from distill.data_util.prep_algorithmic import AlgorithmicIdentityDecimal40, AlgorithmicAdditionDecimal40, \\\n",
    "  AlgorithmicMultiplicationDecimal40, AlgorithmicSortProblem, AlgorithmicReverseProblem, AlgorithmicIdentityBinary40\n",
    "from distill.data_util.prep_arithmatic import Arithmatic, ArithmaticSimpleSameLength10, ArithmaticSimpleSameLength21Depth2Zipfian, \\\n",
    "ArithmaticSimpleSameLength21Depth2Normal, ArithmaticSimpleSameLength201Depth2Normal, \\\n",
    "ArithmaticSimpleSameLength21Depth2NormalBiLing, ArithmaticSimpleMissingLength21Depth2NormalBiLing\n",
    "from distill.data_util.prep_imdb import IMDB\n",
    "from distill.data_util.prep_ptb import PTB\n",
    "from distill.data_util.prep_sst import SST\n",
    "from distill.data_util.prep_wsj_parsing import ParseWSJ\n",
    "from distill.models.lstm_seq2seq import LSTMSeq2Seq, BidiLSTMSeq2Seq\n",
    "from distill.models.transformer import Transformer, UniversalTransformer, EncodingTransformer, \\\n",
    "  EncodingUniversalTransformer\n",
    "from distill.pipelines.seq2seq import Seq2SeqTrainer\n",
    "from distill.models.transformer import Transformer, UniversalTransformer, EncodingTransformer, \\\n",
    "  EncodingUniversalTransformer\n",
    "from distill.pipelines.distill_pipelines import Seq2SeqDistiller\n",
    "from distill.pipelines.seq2seq import Seq2SeqTrainer\n",
    "\n",
    "# Enable TF Eager execution\n",
    "tfe = tf.contrib.eager\n",
    "tfe.enable_eager_execution()\n",
    "\n",
    "# Other setup\n",
    "Modes = tf.estimator.ModeKeys"
   ]
  },
  {
   "cell_type": "code",
   "execution_count": 3,
   "metadata": {},
   "outputs": [],
   "source": [
    "\n",
    "task = ArithmaticSimpleMissingLength21Depth2NormalBiLing('data/arithmatic_simple_missinglength21_depth2_normal_biling')\n",
    "\n",
    "transformer_params = TransformerHparam(input_dim=task.vocab_length,\n",
    "                                         hidden_dim=300,\n",
    "                                         output_dim=len(task.target_vocab),\n",
    "                                         encoder_depth=2,\n",
    "                                         decoder_depth=1,\n",
    "                                         number_of_heads=2,\n",
    "                                         ff_filter_size=512,\n",
    "                                         initializer_gain=0.1,\n",
    "                                         batch_size=32,\n",
    "                                         input_dropout_keep_prob=1.0,\n",
    "                                         hidden_dropout_keep_prob=1.0,\n",
    "                                         vocab_size=task.vocab_length,\n",
    "                                         label_smoothing=0.1,\n",
    "                                         encoder_self_attention_dir=\"top_down\",\n",
    "                                         decoder_self_attention_dir=\"top_down\",\n",
    "                                         decoder_cross_attention_dir=\"top_down\",\n",
    "                                         train_embeddings=False,\n",
    "                                         learning_rate=0.001\n",
    "                                         )\n",
    "trainer = Seq2SeqTrainer(transformer_params, None, task)\n",
    "\n"
   ]
  },
  {
   "cell_type": "code",
   "execution_count": 11,
   "metadata": {},
   "outputs": [],
   "source": [
    "train_dataset = tf.data.TFRecordDataset(\"../\"+task.get_tfrecord_path(mode=\"train\"))\n",
    "train_dataset = train_dataset.map(task.parse_examples)\n",
    "#train_dataset = train_dataset.apply(tf.data.experimental.bucket_by_sequence_length(element_length_func=lambda x1,x2,x3,x4: tf.size(x1),\n",
    "#                                                                                   bucket_batch_sizes=[1000,1000,1000,1000,1000,1000,1000,1000,1000,1000,1000], bucket_boundaries=[10,20,30,40,50,60,70,80, 90, 100],padded_shapes=task.get_padded_shapes()))\n",
    "train_dataset = train_dataset.padded_batch(1000, padded_shapes=task.get_padded_shapes())\n",
    "train_dataset = train_dataset.shuffle(buffer_size=100)\n",
    "train_dataset = train_dataset.repeat()\n",
    "\n",
    "train_examples = tfe.Iterator(train_dataset).next()\n",
    "\n",
    "\n",
    "\n",
    "dev_dataset = tf.data.TFRecordDataset(\"../\"+task.get_tfrecord_path(mode=\"dev\"))\n",
    "dev_dataset = dev_dataset.map(task.parse_examples)\n",
    "dev_dataset = dev_dataset.padded_batch(1000, padded_shapes=task.get_padded_shapes())\n",
    "dev_dataset = dev_dataset.shuffle(buffer_size=100)\n",
    "dev_dataset = dev_dataset.repeat()\n",
    "\n",
    "dev_examples = tfe.Iterator(dev_dataset).next()\n",
    "\n",
    "\n",
    "\n",
    "\n",
    "test_dataset = tf.data.TFRecordDataset(\"../\"+task.get_tfrecord_path(mode=\"test\"))\n",
    "test_dataset = test_dataset.map(task.parse_examples)\n",
    "test_dataset = test_dataset.padded_batch(1000, padded_shapes=task.get_padded_shapes())\n",
    "test_dataset = test_dataset.shuffle(buffer_size=100)\n",
    "test_dataset = test_dataset.repeat()\n",
    "\n",
    "test_examples = tfe.Iterator(test_dataset).next()\n"
   ]
  },
  {
   "cell_type": "code",
   "execution_count": 13,
   "metadata": {},
   "outputs": [],
   "source": [
    "x = train_examples"
   ]
  },
  {
   "cell_type": "code",
   "execution_count": 14,
   "metadata": {},
   "outputs": [
    {
     "data": {
      "text/plain": [
       "TensorShape([Dimension(54)])"
      ]
     },
     "execution_count": 14,
     "metadata": {},
     "output_type": "execute_result"
    }
   ],
   "source": [
    "train_examples = tfe.Iterator(train_dataset).next()\n",
    "train_examples[0][0].shape"
   ]
  },
  {
   "cell_type": "code",
   "execution_count": 15,
   "metadata": {},
   "outputs": [
    {
     "data": {
      "text/plain": [
       "<tf.Tensor: id=20447, shape=(1,), dtype=int64, numpy=array([38])>"
      ]
     },
     "execution_count": 15,
     "metadata": {},
     "output_type": "execute_result"
    }
   ],
   "source": [
    "x[1][0]"
   ]
  },
  {
   "cell_type": "code",
   "execution_count": 16,
   "metadata": {},
   "outputs": [],
   "source": [
    "def get_stats_from_examples(batched_examples):\n",
    "    lengthes = []\n",
    "    targets = []\n",
    "    for example_inputs, example_targets in zip(batched_examples[0], batched_examples[1]):\n",
    "        np_example_inputs = example_inputs.numpy()\n",
    "        np_example_targets = example_targets.numpy()[0]\n",
    "        if 0 in list(np_example_inputs):\n",
    "            length = list(np_example_inputs).index(0)\n",
    "        else:\n",
    "            length = len(np_example_inputs)\n",
    "        lengthes.append(length)\n",
    "        targets.append(np_example_targets)\n",
    "    return lengthes, targets"
   ]
  },
  {
   "cell_type": "code",
   "execution_count": 18,
   "metadata": {},
   "outputs": [
    {
     "data": {
      "image/png": "[encoded data removed]",
      "text/plain": [
       "<Figure size 432x288 with 1 Axes>"
      ]
     },
     "metadata": {
      "needs_background": "light"
     },
     "output_type": "display_data"
    },
    {
     "data": {
      "image/png": "[encoded data removed]",
      "text/plain": [
       "<Figure size 432x288 with 1 Axes>"
      ]
     },
     "metadata": {
      "needs_background": "light"
     },
     "output_type": "display_data"
    }
   ],
   "source": [
    "import matplotlib.pyplot as plt\n",
    "import matplotlib.image as mpimg\n",
    "%matplotlib inline  \n",
    "\n",
    "\n",
    "lengthes, targets = get_stats_from_examples(train_examples)\n",
    "\n",
    "n, bins, patches = plt.hist(lengthes, 50, density=True, facecolor='g', alpha=0.75)\n",
    "plt.show()\n",
    "\n",
    "n, bins, patches = plt.hist(targets, 100, density=True, facecolor='g', alpha=0.75)\n",
    "plt.show()"
   ]
  },
  {
   "cell_type": "code",
   "execution_count": 19,
   "metadata": {},
   "outputs": [
    {
     "data": {
      "image/png": "[encoded data removed]",
      "text/plain": [
       "<Figure size 432x288 with 1 Axes>"
      ]
     },
     "metadata": {
      "needs_background": "light"
     },
     "output_type": "display_data"
    },
    {
     "data": {
      "image/png": "[encoded data removed]",
      "text/plain": [
       "<Figure size 432x288 with 1 Axes>"
      ]
     },
     "metadata": {
      "needs_background": "light"
     },
     "output_type": "display_data"
    }
   ],
   "source": [
    "\n",
    "\n",
    "import matplotlib.pyplot as plt\n",
    "import matplotlib.image as mpimg\n",
    "%matplotlib inline  \n",
    "\n",
    "\n",
    "lengthes, targets = get_stats_from_examples(dev_examples)\n",
    "\n",
    "n, bins, patches = plt.hist(lengthes, 50, density=True, facecolor='g', alpha=0.75)\n",
    "plt.show()\n",
    "\n",
    "n, bins, patches = plt.hist(targets, 50, density=True, facecolor='g', alpha=0.75)\n",
    "plt.show()"
   ]
  },
  {
   "cell_type": "code",
   "execution_count": 11,
   "metadata": {},
   "outputs": [
    {
     "data": {
      "image/png": "[encoded data removed]",
      "text/plain": [
       "<Figure size 432x288 with 1 Axes>"
      ]
     },
     "metadata": {
      "needs_background": "light"
     },
     "output_type": "display_data"
    },
    {
     "data": {
      "image/png": "[encoded data removed]",
      "text/plain": [
       "<Figure size 432x288 with 1 Axes>"
      ]
     },
     "metadata": {
      "needs_background": "light"
     },
     "output_type": "display_data"
    }
   ],
   "source": [
    "\n",
    "\n",
    "import matplotlib.pyplot as plt\n",
    "import matplotlib.image as mpimg\n",
    "%matplotlib inline  \n",
    "\n",
    "\n",
    "lengthes, targets = get_stats_from_examples(test_examples)\n",
    "\n",
    "n, bins, patches = plt.hist(lengthes, 20, density=True, facecolor='g', alpha=0.75)\n",
    "plt.show()\n",
    "\n",
    "n, bins, patches = plt.hist(targets, 20, density=True, facecolor='g', alpha=0.75)\n",
    "plt.show()"
   ]
  },
  {
   "cell_type": "code",
   "execution_count": 20,
   "metadata": {},
   "outputs": [
    {
     "name": "stdout",
     "output_type": "stream",
     "text": [
      "['1', '+', '1']\n"
     ]
    }
   ],
   "source": [
    "print(task.decode(task.encode(str(\"1 + 1\").split())))\n"
   ]
  },
  {
   "cell_type": "code",
   "execution_count": 22,
   "metadata": {},
   "outputs": [
    {
     "name": "stdout",
     "output_type": "stream",
     "text": [
      "877 1000\n",
      "( 5 - ( 8 - 6 - 1 ) ) + 6 - ( 10 + 1 ) <eos>                                  \n",
      "['minus one']\n",
      "( 5 - ( 8 - 6 - 1 ) ) + 6 - ( 10 + 1 ) <eos>                                  \n",
      "tf.Tensor([35], shape=(1,), dtype=int64)\n"
     ]
    }
   ],
   "source": [
    "i = np.random.randint(len(train_examples[0]))\n",
    "print(i, len(train_examples[0]))\n",
    "example_inputs, example_targets = list(zip(train_examples[0], train_examples[1]))[i]\n",
    "print(' '.join(task.decode(example_inputs)).replace('<pad>',''))\n",
    "#print(eval(' '.join(task.decode(example_inputs)).replace('<pad>','').replace('<eos>', '')))\n",
    "\n",
    "print(task.decode((example_targets)))\n",
    "\n",
    "\n",
    "print(' '.join(task.decode(example_inputs)).replace('<pad>',''))\n",
    "#print(eval(' '.join(task.decode(example_inputs)).replace('<pad>','').replace('<eos>', '')))\n",
    "\n",
    "print(example_targets)\n"
   ]
  },
  {
   "cell_type": "code",
   "execution_count": 25,
   "metadata": {},
   "outputs": [
    {
     "data": {
      "text/plain": [
       "<tf.Tensor: id=49615, shape=(), dtype=float32, numpy=2.3486767>"
      ]
     },
     "execution_count": 25,
     "metadata": {},
     "output_type": "execute_result"
    }
   ],
   "source": [
    "model_1 = EncodingTransformer(transformer_params, task, \"model_1\")\n",
    "model_2 = EncodingTransformer(transformer_params, task, \"model_2\")\n",
    "\n",
    "trainer = Seq2SeqTrainer(transformer_params, model_1, task)\n",
    "distiller = Seq2SeqDistiller(transformer_params, model_1, model_2, trainer)\n",
    "    \n",
    "trainer.compute_loss(tf.one_hot(example_targets,51),example_targets)"
   ]
  },
  {
   "cell_type": "code",
   "execution_count": 26,
   "metadata": {},
   "outputs": [
    {
     "data": {
      "text/plain": [
       "<tf.Tensor: id=47938, shape=(1,), dtype=int64, numpy=array([35])>"
      ]
     },
     "execution_count": 26,
     "metadata": {},
     "output_type": "execute_result"
    }
   ],
   "source": [
    "example_targets"
   ]
  },
  {
   "cell_type": "code",
   "execution_count": 27,
   "metadata": {},
   "outputs": [
    {
     "data": {
      "text/plain": [
       "<tf.Tensor: id=49621, shape=(1, 16), dtype=float32, numpy=\n",
       "array([[0., 0., 0., 0., 0., 0., 0., 0., 0., 0., 0., 0., 0., 0., 0., 0.]],\n",
       "      dtype=float32)>"
      ]
     },
     "execution_count": 27,
     "metadata": {},
     "output_type": "execute_result"
    }
   ],
   "source": [
    "tf.one_hot(example_targets,16)"
   ]
  },
  {
   "cell_type": "code",
   "execution_count": 28,
   "metadata": {},
   "outputs": [],
   "source": [
    "from distill.common.metrics import padded_cross_entropy_loss, get_eval_metrics, cross_entropy_loss"
   ]
  },
  {
   "cell_type": "code",
   "execution_count": 29,
   "metadata": {},
   "outputs": [],
   "source": [
    "entropy, weights = cross_entropy_loss(tf.one_hot(example_targets,10),example_targets,smoothing=0.0,vocab_size=10)"
   ]
  },
  {
   "cell_type": "code",
   "execution_count": 30,
   "metadata": {},
   "outputs": [
    {
     "data": {
      "text/plain": [
       "<tf.Tensor: id=49690, shape=(1,), dtype=float32, numpy=array([1.], dtype=float32)>"
      ]
     },
     "execution_count": 30,
     "metadata": {},
     "output_type": "execute_result"
    }
   ],
   "source": [
    "weights"
   ]
  },
  {
   "cell_type": "code",
   "execution_count": 31,
   "metadata": {},
   "outputs": [
    {
     "data": {
      "text/plain": [
       "<tf.Tensor: id=49686, shape=(1,), dtype=float32, numpy=array([0.], dtype=float32)>"
      ]
     },
     "execution_count": 31,
     "metadata": {},
     "output_type": "execute_result"
    }
   ],
   "source": [
    "entropy"
   ]
  },
  {
   "cell_type": "code",
   "execution_count": 32,
   "metadata": {},
   "outputs": [],
   "source": [
    "soft_targets = tf.one_hot(\n",
    "            tf.cast(example_targets, tf.int32),\n",
    "            depth=10,\n",
    "            on_value=1.0,\n",
    "            off_value=0.0)\n",
    "              \n",
    "      \n",
    "      \n",
    "xentropy = tf.nn.softmax_cross_entropy_with_logits_v2(\n",
    "  logits=soft_targets*100, labels=soft_targets)"
   ]
  },
  {
   "cell_type": "code",
   "execution_count": 33,
   "metadata": {},
   "outputs": [
    {
     "data": {
      "text/plain": [
       "<tf.Tensor: id=49733, shape=(1,), dtype=float32, numpy=array([0.], dtype=float32)>"
      ]
     },
     "execution_count": 33,
     "metadata": {},
     "output_type": "execute_result"
    }
   ],
   "source": [
    "xentropy"
   ]
  },
  {
   "cell_type": "code",
   "execution_count": 34,
   "metadata": {},
   "outputs": [
    {
     "data": {
      "text/plain": [
       "<tf.Tensor: id=49699, shape=(1, 10), dtype=float32, numpy=array([[0., 0., 0., 0., 0., 0., 0., 0., 0., 0.]], dtype=float32)>"
      ]
     },
     "execution_count": 34,
     "metadata": {},
     "output_type": "execute_result"
    }
   ],
   "source": [
    "soft_targets"
   ]
  },
  {
   "cell_type": "code",
   "execution_count": 35,
   "metadata": {},
   "outputs": [
    {
     "data": {
      "text/plain": [
       "<tf.Tensor: id=49739, shape=(1, 10), dtype=float32, numpy=array([[0., 0., 0., 0., 0., 0., 0., 0., 0., 0.]], dtype=float32)>"
      ]
     },
     "execution_count": 35,
     "metadata": {},
     "output_type": "execute_result"
    }
   ],
   "source": [
    "tf.one_hot(example_targets,10)"
   ]
  },
  {
   "cell_type": "code",
   "execution_count": 36,
   "metadata": {},
   "outputs": [
    {
     "ename": "NameError",
     "evalue": "name 'model' is not defined",
     "output_type": "error",
     "traceback": [
      "\u001b[0;31m---------------------------------------------------------------------------\u001b[0m",
      "\u001b[0;31mNameError\u001b[0m                                 Traceback (most recent call last)",
      "\u001b[0;32m<ipython-input-36-2609ab84cd53>\u001b[0m in \u001b[0;36m<module>\u001b[0;34m\u001b[0m\n\u001b[0;32m----> 1\u001b[0;31m \u001b[0mmodel\u001b[0m\u001b[0;34m.\u001b[0m\u001b[0mcreate_vars\u001b[0m\u001b[0;34m(\u001b[0m\u001b[0;34m)\u001b[0m\u001b[0;34m\u001b[0m\u001b[0;34m\u001b[0m\u001b[0m\n\u001b[0m\u001b[1;32m      2\u001b[0m \u001b[0moutputs\u001b[0m \u001b[0;34m=\u001b[0m \u001b[0mmodel\u001b[0m\u001b[0;34m.\u001b[0m\u001b[0mapply\u001b[0m\u001b[0;34m(\u001b[0m\u001b[0mtrain_examples\u001b[0m\u001b[0;34m)\u001b[0m\u001b[0;34m\u001b[0m\u001b[0;34m\u001b[0m\u001b[0m\n",
      "\u001b[0;31mNameError\u001b[0m: name 'model' is not defined"
     ]
    }
   ],
   "source": [
    "model.create_vars()\n",
    "outputs = model.apply(train_examples)"
   ]
  },
  {
   "cell_type": "code",
   "execution_count": 23,
   "metadata": {},
   "outputs": [
    {
     "data": {
      "text/plain": [
       "TensorShape([Dimension(1000), Dimension(1), Dimension(10)])"
      ]
     },
     "execution_count": 23,
     "metadata": {},
     "output_type": "execute_result"
    }
   ],
   "source": [
    "outputs.shape"
   ]
  },
  {
   "cell_type": "code",
   "execution_count": 24,
   "metadata": {},
   "outputs": [
    {
     "data": {
      "text/plain": [
       "<tf.Tensor: id=40896, shape=(1000, 1, 10), dtype=float32, numpy=\n",
       "array([[[0.00715524, 0.09209497, 0.0917704 , ..., 0.03556783,\n",
       "         0.04943119, 0.15343009]],\n",
       "\n",
       "       [[0.02895103, 0.04006007, 0.26865193, ..., 0.00580688,\n",
       "         0.07627358, 0.02107685]],\n",
       "\n",
       "       [[0.04077142, 0.02672941, 0.23326753, ..., 0.00361042,\n",
       "         0.04985133, 0.04474999]],\n",
       "\n",
       "       ...,\n",
       "\n",
       "       [[0.01969549, 0.02658502, 0.2711329 , ..., 0.00517109,\n",
       "         0.05861397, 0.04302977]],\n",
       "\n",
       "       [[0.02205601, 0.05488703, 0.26217592, ..., 0.00449226,\n",
       "         0.06337234, 0.0239463 ]],\n",
       "\n",
       "       [[0.04000373, 0.05206897, 0.24202158, ..., 0.01508354,\n",
       "         0.07866572, 0.02239132]]], dtype=float32)>"
      ]
     },
     "execution_count": 24,
     "metadata": {},
     "output_type": "execute_result"
    }
   ],
   "source": [
    "tf.nn.softmax(outputs)"
   ]
  },
  {
   "cell_type": "code",
   "execution_count": 40,
   "metadata": {},
   "outputs": [
    {
     "data": {
      "text/plain": [
       "[]"
      ]
     },
     "execution_count": 40,
     "metadata": {},
     "output_type": "execute_result"
    }
   ],
   "source": [
    "outputs['trainable_vars']"
   ]
  },
  {
   "cell_type": "code",
   "execution_count": 41,
   "metadata": {},
   "outputs": [
    {
     "data": {
      "text/plain": [
       "'Transformer'"
      ]
     },
     "execution_count": 41,
     "metadata": {},
     "output_type": "execute_result"
    }
   ],
   "source": [
    "model.scope"
   ]
  },
  {
   "cell_type": "code",
   "execution_count": 31,
   "metadata": {},
   "outputs": [
    {
     "name": "stdout",
     "output_type": "stream",
     "text": [
      "WARNING:tensorflow:From /home/samira/Codes/SolutionDistillation/distill/models/transformer.py:588: calling VarianceScaling.__init__ (from tensorflow.python.ops.init_ops) with distribution=normal is deprecated and will be removed in a future version.\n",
      "Instructions for updating:\n",
      "`normal` is a deprecated alias for `truncated_normal`\n",
      "[<tf.Variable 'model_1/TransformerEncoder/layer_norm_scale:0' shape=(300,) dtype=float32_ref>, <tf.Variable 'model_1/TransformerEncoder/layer_norm_bias:0' shape=(300,) dtype=float32_ref>]\n",
      "[<tf.Variable 'model_2/TransformerEncoder/layer_norm_scale:0' shape=(300,) dtype=float32_ref>, <tf.Variable 'model_2/TransformerEncoder/layer_norm_bias:0' shape=(300,) dtype=float32_ref>]\n"
     ]
    }
   ],
   "source": [
    "g = tf.Graph()\n",
    "with g.as_default():\n",
    "    model_1.create_vars(False)\n",
    "    model_2.create_vars(False)\n",
    "    print(tf.trainable_variables(\"model_1\"))\n",
    "    print(tf.trainable_variables(\"model_2\"))"
   ]
  },
  {
   "cell_type": "code",
   "execution_count": 35,
   "metadata": {},
   "outputs": [
    {
     "name": "stdout",
     "output_type": "stream",
     "text": [
      "[]\n"
     ]
    }
   ],
   "source": [
    "model = EncodingTransformer(transformer_params, task)\n",
    "model.create_vars(False)\n",
    "print(tf.trainable_variables())"
   ]
  },
  {
   "cell_type": "code",
   "execution_count": 39,
   "metadata": {},
   "outputs": [
    {
     "name": "stdout",
     "output_type": "stream",
     "text": [
      "[<tf.Variable 'model_2/TransformerEncoder/layer_norm_scale:0' shape=(300,) dtype=float32_ref>, <tf.Variable 'model_2/TransformerEncoder/layer_norm_bias:0' shape=(300,) dtype=float32_ref>]\n",
      "[<tf.Variable 'model_1/TransformerEncoder/layer_norm_scale:0' shape=(300,) dtype=float32_ref>, <tf.Variable 'model_1/TransformerEncoder/layer_norm_bias:0' shape=(300,) dtype=float32_ref>, <tf.Variable 'model_2/TransformerEncoder/layer_norm_scale:0' shape=(300,) dtype=float32_ref>, <tf.Variable 'model_2/TransformerEncoder/layer_norm_bias:0' shape=(300,) dtype=float32_ref>]\n"
     ]
    }
   ],
   "source": [
    "g = tf.Graph()\n",
    "with g.as_default():\n",
    "    model_1.create_vars(False)\n",
    "    model_2.create_vars(False)\n",
    "    model_1_vars = tf.trainable_variables(\"model_1\")\n",
    "    model_2_vars = tf.trainable_variables(\"model_2\")\n",
    "    print(model_2_vars)\n",
    "    print(model_1_vars + model_2_vars)"
   ]
  },
  {
   "cell_type": "code",
   "execution_count": 11,
   "metadata": {},
   "outputs": [],
   "source": [
    "import scipy.stats as stats\n",
    "\n",
    "N = 100\n",
    "numbers = np.arange(1, N+1, 1)\n",
    "weights = np.arange(N+1,1, -1)\n",
    "a = 0.6\n",
    "weights = weights ** (-a)\n",
    "weights /= weights.sum()\n",
    "bounded_zipf = stats.rv_discrete(name='bounded_zipf', values=(numbers, weights))"
   ]
  },
  {
   "cell_type": "code",
   "execution_count": 12,
   "metadata": {},
   "outputs": [
    {
     "data": {
      "image/png": "[encoded data removed]",
      "text/plain": [
       "<Figure size 432x288 with 1 Axes>"
      ]
     },
     "metadata": {
      "needs_background": "light"
     },
     "output_type": "display_data"
    }
   ],
   "source": [
    "n, bins, patches = plt.hist(bounded_zipf.rvs(size=100), 50, density=True, facecolor='g', alpha=0.75)\n",
    "plt.show()"
   ]
  },
  {
   "cell_type": "code",
   "execution_count": 34,
   "metadata": {},
   "outputs": [
    {
     "data": {
      "text/plain": [
       "[(1, 0.004856189898673658),\n",
       " (2, 0.004885269034112886),\n",
       " (3, 0.0049148171919634245),\n",
       " (4, 0.004944846790486446),\n",
       " (5, 0.004975370707886058),\n",
       " (6, 0.005006402304302833),\n",
       " (7, 0.0050379554451011445),\n",
       " (8, 0.005070044525540879),\n",
       " (9, 0.005102684496931644),\n",
       " (10, 0.005135890894375523),\n",
       " (11, 0.005169679866213408),\n",
       " (12, 0.005204068205299506),\n",
       " (13, 0.005239073382239342),\n",
       " (14, 0.005274713580738159),\n",
       " (15, 0.00531100773521946),\n",
       " (16, 0.0053479755708875235),\n",
       " (17, 0.005385637646423206),\n",
       " (18, 0.005424015399519461),\n",
       " (19, 0.005463131195481844),\n",
       " (20, 0.005503008379140095),\n",
       " (21, 0.005543671330339965),\n",
       " (22, 0.005585145523309882),\n",
       " (23, 0.005627457590225439),\n",
       " (24, 0.005670635389325939),\n",
       " (25, 0.005714708077972236),\n",
       " (26, 0.005759706191073838),\n",
       " (27, 0.005805661725356555),\n",
       " (28, 0.005852608229990211),\n",
       " (29, 0.005900580904149895),\n",
       " (30, 0.0059496167021445955),\n",
       " (31, 0.005999754446814743),\n",
       " (32, 0.006051034951976069),\n",
       " (33, 0.006103501154772683),\n",
       " (34, 0.0061571982588983195),\n",
       " (35, 0.0062121738897532724),\n",
       " (36, 0.006268478262727001),\n",
       " (37, 0.00632616436593518),\n",
       " (38, 0.00638528815889725),\n",
       " (39, 0.00644590878881923),\n",
       " (40, 0.006508088826350006),\n",
       " (41, 0.006571894522911297),\n",
       " (42, 0.006637396091966678),\n",
       " (43, 0.006704668016898738),\n",
       " (44, 0.006773789388511993),\n",
       " (45, 0.006844844275580153),\n",
       " (46, 0.006917922132318708),\n",
       " (47, 0.006993118247198152),\n",
       " (48, 0.007070534238132362),\n",
       " (49, 0.007150278599795921),\n",
       " (50, 0.0072324673096619725),\n",
       " (51, 0.007317224500330761),\n",
       " (52, 0.007404683206865152),\n",
       " (53, 0.007494986199196078),\n",
       " (54, 0.007588286911247636),\n",
       " (55, 0.007684750480307662),\n",
       " (56, 0.007784554912394887),\n",
       " (57, 0.007887892392022497),\n",
       " (58, 0.00799497075792221),\n",
       " (59, 0.008106015170087124),\n",
       " (60, 0.008221269998059163),\n",
       " (61, 0.008341000965908178),\n",
       " (62, 0.008465497596052175),\n",
       " (63, 0.008595076002241468),\n",
       " (64, 0.00873008209204312),\n",
       " (65, 0.008870895251491262),\n",
       " (66, 0.009017932599827526),\n",
       " (67, 0.00917165392124358),\n",
       " (68, 0.009332567404301162),\n",
       " (69, 0.009501236349625635),\n",
       " (70, 0.009678287044383239),\n",
       " (71, 0.00986441805041992),\n",
       " (72, 0.010060411215085266),\n",
       " (73, 0.010267144794219966),\n",
       " (74, 0.010485609181784403),\n",
       " (75, 0.010716925878816197),\n",
       " (76, 0.01096237051799954),\n",
       " (77, 0.011223401006406852),\n",
       " (78, 0.01150169218281206),\n",
       " (79, 0.01179917884362683),\n",
       " (80, 0.012118109626548888),\n",
       " (81, 0.012461115133813181),\n",
       " (82, 0.012831294950090232),\n",
       " (83, 0.013232330053905512),\n",
       " (84, 0.013668629837232764),\n",
       " (85, 0.014145527022774216),\n",
       " (86, 0.014669540008614633),\n",
       " (87, 0.015248731944611741),\n",
       " (88, 0.01589321154678416),\n",
       " (89, 0.01661584660235708),\n",
       " (90, 0.017433305384391383),\n",
       " (91, 0.018367619515749282),\n",
       " (92, 0.019448606325632972),\n",
       " (93, 0.020717768685792025),\n",
       " (94, 0.022234864814144287),\n",
       " (95, 0.0240896040365151),\n",
       " (96, 0.026423949780156938),\n",
       " (97, 0.02947857480330082),\n",
       " (98, 0.033701752952917635),\n",
       " (99, 0.040051218434422664),\n",
       " (100, 0.05108230527117799)]"
      ]
     },
     "execution_count": 34,
     "metadata": {},
     "output_type": "execute_result"
    }
   ],
   "source": [
    "list(zip(numbers, weights))"
   ]
  },
  {
   "cell_type": "code",
   "execution_count": 61,
   "metadata": {},
   "outputs": [
    {
     "data": {
      "text/plain": [
       "<tf.Tensor: id=33435, shape=(1000, 60), dtype=int64, numpy=\n",
       "array([[14, 26, 19, ...,  0,  0,  0],\n",
       "       [24, 19, 27, ...,  0,  0,  0],\n",
       "       [24, 18, 26, ...,  0,  0,  0],\n",
       "       ...,\n",
       "       [24, 15, 26, ...,  0,  0,  0],\n",
       "       [24, 17, 27, ...,  0,  0,  0],\n",
       "       [24, 22, 27, ...,  0,  0,  0]])>"
      ]
     },
     "execution_count": 61,
     "metadata": {},
     "output_type": "execute_result"
    }
   ],
   "source": [
    "train_examples[0][0]"
   ]
  },
  {
   "cell_type": "code",
   "execution_count": 51,
   "metadata": {},
   "outputs": [
    {
     "name": "stdout",
     "output_type": "stream",
     "text": [
      "0\n",
      "0\n"
     ]
    }
   ],
   "source": [
    "copy = 0\n",
    "for ex in test_examples[0].numpy():\n",
    "    if np.max(np.min(ex[0] == train_examples[0][0].numpy(), axis=-1)):\n",
    "        copy +=1\n",
    "print(copy)\n",
    "\n",
    "copy = 0\n",
    "for ex in dev_examples[0].numpy():\n",
    "    if np.max(np.min(ex[0] == train_examples[0][0].numpy(), axis=-1)):\n",
    "        copy +=1\n",
    "print(copy)"
   ]
  },
  {
   "cell_type": "code",
   "execution_count": 47,
   "metadata": {},
   "outputs": [
    {
     "data": {
      "text/plain": [
       "True"
      ]
     },
     "execution_count": 47,
     "metadata": {},
     "output_type": "execute_result"
    }
   ],
   "source": [
    "np.max(np.min(train_examples[0][0].numpy()[0] == train_examples[0][0].numpy(), axis=-1))"
   ]
  },
  {
   "cell_type": "code",
   "execution_count": 50,
   "metadata": {},
   "outputs": [
    {
     "data": {
      "text/plain": [
       "array([122, 206, 134,   1,   0,   0,   0,   0,   0,   0,   0,   0,   0,\n",
       "         0,   0,   0,   0,   0,   0,   0,   0,   0,   0,   0,   0,   0,\n",
       "         0,   0,   0,   0,   0,   0,   0,   0,   0,   0,   0,   0,   0,\n",
       "         0,   0,   0,   0,   0,   0,   0,   0,   0,   0,   0,   0,   0,\n",
       "         0,   0,   0,   0,   0,   0])"
      ]
     },
     "execution_count": 50,
     "metadata": {},
     "output_type": "execute_result"
    }
   ],
   "source": [
    "dev_examples[0].numpy()[0]"
   ]
  },
  {
   "cell_type": "code",
   "execution_count": 4,
   "metadata": {},
   "outputs": [
    {
     "data": {
      "text/plain": [
       "array([[204, 183, 206, ...,   0,   0,   0],\n",
       "       [204, 150, 206, ...,   0,   0,   0],\n",
       "       [193, 207, 144, ...,   0,   0,   0],\n",
       "       ...,\n",
       "       [204, 136, 206, ...,   0,   0,   0],\n",
       "       [204, 141, 207, ...,   0,   0,   0],\n",
       "       [204, 143, 206, ...,   0,   0,   0]])"
      ]
     },
     "execution_count": 4,
     "metadata": {},
     "output_type": "execute_result"
    }
   ],
   "source": [
    "test_examples[0].numpy()"
   ]
  },
  {
   "cell_type": "code",
   "execution_count": 21,
   "metadata": {},
   "outputs": [
    {
     "data": {
      "image/png": "[encoded data removed]",
      "text/plain": [
       "<Figure size 432x288 with 1 Axes>"
      ]
     },
     "metadata": {
      "needs_background": "light"
     },
     "output_type": "display_data"
    }
   ],
   "source": [
    "N = 10\n",
    "randomNums = np.maximum(1,np.minimum(np.random.normal(loc=N/2,scale=N/5, size=1000),N))\n",
    "randomInts = np.round(randomNums)\n",
    "n, bins, patches = plt.hist(randomInts, 50, density=True, facecolor='g', alpha=0.75)\n",
    "plt.show()"
   ]
  },
  {
   "cell_type": "code",
   "execution_count": 94,
   "metadata": {},
   "outputs": [
    {
     "data": {
      "text/plain": [
       "0.5964651227533342"
      ]
     },
     "execution_count": 94,
     "metadata": {},
     "output_type": "execute_result"
    }
   ],
   "source": [
    "np.random.normal()"
   ]
  },
  {
   "cell_type": "code",
   "execution_count": null,
   "metadata": {},
   "outputs": [],
   "source": []
  }
 ],
 "metadata": {
  "kernelspec": {
   "display_name": "Python 3",
   "language": "python",
   "name": "python3"
  },
  "language_info": {
   "codemirror_mode": {
    "name": "ipython",
    "version": 3
   },
   "file_extension": ".py",
   "mimetype": "text/x-python",
   "name": "python",
   "nbconvert_exporter": "python",
   "pygments_lexer": "ipython3",
   "version": "3.7.3"
  }
 },
 "nbformat": 4,
 "nbformat_minor": 4
}
